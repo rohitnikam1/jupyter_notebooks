{
 "cells": [
  {
   "cell_type": "code",
   "execution_count": 3,
   "metadata": {},
   "outputs": [],
   "source": [
    "#Poisson-Boltzmann Equation Boundary Value Problem\n",
    "\n",
    "import scipy.integrate as integrate \n",
    "import numpy as np\n",
    "import pandas as pd\n",
    "import matplotlib.pyplot as plt\n",
    "from scipy import interpolate\n",
    "import functions_binding_model as bfunc\n",
    "\n",
    "from matplotlib import rc\n",
    "\n",
    "rc('font',**{'family':'sans-serif','sans-serif':['Helvetica']})\n",
    "rc('text', usetex = True)\n",
    "plt.rc('text', usetex = True)\n",
    "plt.rc('font', family = 'serif')\n",
    "from matplotlib.ticker import (MultipleLocator, AutoMinorLocator, FormatStrFormatter)"
   ]
  },
  {
   "cell_type": "code",
   "execution_count": null,
   "metadata": {},
   "outputs": [],
   "source": [
    "# number density array [rho_Ca, rho_Na, rho_Cl] for different Ca concentrations\n",
    "\n",
    "files_to_read = {}\n",
    "\n",
    "files_to_read[\"nacl-150mM-na\"]  = \"/home/rohit/magnesium/mg-netz/nacl-150mM-new/na.den.xvg\"\n",
    "files_to_read[\"nacl-150mM-cl\"]  = \"/home/rohit/magnesium/mg-netz/nacl-150mM-new/cl.den.xvg\"\n",
    "\n",
    "files_to_read[\"netz-07mM-mg\"]  = \"/home/rohit/magnesium/mg-netz/mg-07mM-new/mg.den.xvg\"\n",
    "files_to_read[\"netz-07mM-na\"]  = \"/home/rohit/magnesium/mg-netz/mg-07mM-new/na.den.xvg\"\n",
    "files_to_read[\"netz-07mM-cl\"]  = \"/home/rohit/magnesium/mg-netz/mg-07mM-new/cl.den.xvg\"\n",
    "files_to_read[\"netz-07mM-mgcum\"]  = \"/home/rohit/magnesium/mg-netz/mg-07mM-new/mg-cum.xvg\"\n",
    "files_to_read[\"netz-07mM-nacum\"]  = \"/home/rohit/magnesium/mg-netz/mg-07mM-new/na-cum.xvg\"\n",
    "\n",
    "files_to_read[\"netz-20mM-mg\"]  = \"/home/rohit/magnesium/mg-netz/mg-20mM-100ns/mg.den.xvg\"\n",
    "files_to_read[\"netz-20mM-na\"]  = \"/home/rohit/magnesium/mg-netz/mg-20mM-100ns/na.den.xvg\"\n",
    "files_to_read[\"netz-20mM-cl\"]  = \"/home/rohit/magnesium/mg-netz/mg-20mM-100ns/cl.den.xvg\"\n",
    "files_to_read[\"netz-20mM-mgcum\"]  = \"/home/rohit/magnesium/mg-netz/mg-20mM-100ns/mg-cum.xvg\"\n",
    "files_to_read[\"netz-20mM-nacum\"]  = \"/home/rohit/magnesium/mg-netz/mg-20mM-100ns/na-cum.xvg\"\n",
    "\n",
    "files_to_read[\"netz-33mM-mg\"]  = \"/home/rohit/magnesium/mg-netz/mg-33mM/mg.den.xvg\"\n",
    "files_to_read[\"netz-33mM-na\"]  = \"/home/rohit/magnesium/mg-netz/mg-33mM/na.den.xvg\"\n",
    "files_to_read[\"netz-33mM-cl\"]  = \"/home/rohit/magnesium/mg-netz/mg-33mM/cl.den.xvg\"\n",
    "files_to_read[\"netz-33mM-mgcum\"]  = \"/home/rohit/magnesium/mg-netz/mg-33mM/mg-cum.xvg\"\n",
    "files_to_read[\"netz-33mM-nacum\"]  = \"/home/rohit/magnesium/mg-netz/mg-33mM/na-cum.xvg\"\n",
    "\n",
    "\n",
    "files_to_write = {}\n",
    "\n",
    "files_to_write[\"nacl-150mM-na\"]  = \"/home/rohit/magnesium/mg-netz/images/na.pbden.soft.150mM.xvg\"\n",
    "files_to_write[\"nacl-150mM-cl\"]  = \"/home/rohit/magnesium/mg-netz/images/cl.pbden.soft.150mM.xvg\"\n",
    "files_to_write[\"nacl-150mM-nacum\"]  = \"/home/rohit/magnesium/mg-netz/images/na.pbcum.soft.150mM.xvg\"\n",
    "\n",
    "files_to_write[\"netz-07mM-mg\"]  = \"/home/rohit/magnesium/mg-netz/images/mg.pbden.soft.07mM.xvg\"\n",
    "files_to_write[\"netz-07mM-na\"]  = \"/home/rohit/magnesium/mg-netz/images/na.pbden.soft.07mM.xvg\"\n",
    "files_to_write[\"netz-07mM-cl\"]  = \"/home/rohit/magnesium/mg-netz/images/cl.pbden.soft.07mM.xvg\"\n",
    "files_to_write[\"netz-07mM-mgcum\"]  = \"/home/rohit/magnesium/mg-netz/images/mg.pbcum.soft.07mM.xvg\"\n",
    "files_to_write[\"netz-07mM-nacum\"]  = \"/home/rohit/magnesium/mg-netz/images/na.pbcum.soft.07mM.xvg\"\n",
    "\n",
    "files_to_write[\"netz-20mM-mg\"]  = \"/home/rohit/magnesium/mg-netz/images/mg.pbden.soft.20mM.xvg\"\n",
    "files_to_write[\"netz-20mM-na\"]  = \"/home/rohit/magnesium/mg-netz/images/na.pbden.soft.20mM.xvg\"\n",
    "files_to_write[\"netz-20mM-cl\"]  = \"/home/rohit/magnesium/mg-netz/images/cl.pbden.soft.20mM.xvg\"\n",
    "files_to_write[\"netz-20mM-mgcum\"]  = \"/home/rohit/magnesium/mg-netz/images/mg.pbcum.soft.20mM.xvg\"\n",
    "files_to_write[\"netz-20mM-nacum\"]  = \"/home/rohit/magnesium/mg-netz/images/na.pbcum.soft.20mM.xvg\"\n",
    "\n",
    "files_to_write[\"netz-33mM-mg\"]  = \"/home/rohit/magnesium/mg-netz/images/mg.pbden.soft.33mM.xvg\"\n",
    "files_to_write[\"netz-33mM-na\"]  = \"/home/rohit/magnesium/mg-netz/images/na.pbden.soft.33mM.xvg\"\n",
    "files_to_write[\"netz-33mM-cl\"]  = \"/home/rohit/magnesium/mg-netz/images/cl.pbden.soft.33mM.xvg\"\n",
    "files_to_write[\"netz-33mM-mgcum\"]  = \"/home/rohit/magnesium/mg-netz/images/mg.pbcum.soft.33mM.xvg\"\n",
    "files_to_write[\"netz-33mM-nacum\"]  = \"/home/rohit/magnesium/mg-netz/images/na.pbcum.soft.33mM.xvg\"\n",
    "\n",
    "'''\n",
    "conc = {}\n",
    "conc[\"nacl-150mM\"] = [0.       , 0.0794375, 0.0745260]\n",
    "conc[\"netz-07mM\"]  = [0.0047453, 0.0904122, 0.0965279]\n",
    "conc[\"netz-17mM\"]  = [0.0104131, 0.0746450, 0.0943733]\n",
    "conc[\"netz-20mM\"]  = [0.0125307, 0.0843833, 0.108683]\n",
    "conc[\"netz-33mM\"]  = [0.0202396, 0.0894419, 0.1284810]\n",
    "'''\n",
    "\n",
    "systems = {}\n",
    "systems[\"nacl-150mM\"] = [0.       , 0.0794375, 0.0745260]\n",
    "systems[\"netz-07mM\"]  = [0.00426268, 0.0848139, 0.0923875] #[0.0047453, 0.0904122, 0.0965279] \n",
    "systems[\"netz-17mM\"]  = [0.0104131, 0.0746450, 0.0943733]\n",
    "systems[\"netz-18mM\"]  = [0.0108298, 0.0869196, 0.106701]\n",
    "systems[\"netz-20mM\"]  = [0.0119045, 0.0853042, 0.108446] #[0.0125307, 0.0843833, 0.108683]# \n",
    "systems[\"netz-33mM\"]  = [0.0208943, 0.0888704, 0.130001]\n",
    "\n",
    "\n",
    "Mg_val = [[0.00920802497, 0.09821893302, 0.09208024971],  # eccr 15 mM Mg\n",
    "          [0.00919923707, 0.09812519548, 0.09199237076],  # kbi 15 mM Mg\n",
    "          [0.0091989832,  0.09812248752, 0.09198983205],  # netz 07 mM Mg\n",
    "          [0.01839322883, 0.07970399163, 0.09196614419],  # eccr 30 mM Mg\n",
    "          [0.01839901953, 0.07972908465, 0.09199509768],  # kbi 30 mM Mg\n",
    "          [0.01840041536, 0.07973513324, 0.09200207682]]  # netz 17 mM Mg\n",
    "\n",
    "\n",
    "K = [[0.00306583, 0.11139169, 0.092999673], #eccr 5 mM N/V densities\n",
    "     [0.00919567, 0.09910884, 0.09297839],  # eccr 15 mM\n",
    "     [0.01226006, 0.09297212, 0.09297212],  # eccr 20 mM\n",
    "     [0.01838639, 0.08069582, 0.09295342]]  # eccr 30 mM\n",
    "\n",
    "M = [[ 0.002889, 0.0928831, 0.0952638], # ECC  5 mM\n",
    "     [ 0.007183, 0.0842167, 0.0954956], # ECC 15 mM\n",
    "     [ 0.002512, 0.0932685, 0.0965381], # ECCR 5 mM\n",
    "     [ 0.007765, 0.0828493, 0.0965449]] # ECCR 15 mM\n",
    "\n",
    "#sulfate_distribution_data = {}"
   ]
  },
  {
   "cell_type": "code",
   "execution_count": 254,
   "metadata": {},
   "outputs": [],
   "source": [
    "lb           = 0.78 # SPC/E water at 300K (nm)\n",
    "four_pi_lb   = 4*np.pi*lb\n",
    "z_d          = -34\n",
    "reff         = 2.1\n",
    "#den_s        = 3*z_d/(4*np.pi*reff**3)\n",
    "std_volume   = 0.6022140857 \n",
    "vol_init        = 1.43\n",
    "vol_injection   = 8.00e-3\n",
    "\n",
    "N             = 500     \n",
    "rmax          = 10\n",
    "r0            = 1e-4\n",
    "r             = np.linspace(r0, rmax, N)\n",
    "initial_y     = np.zeros((2, N), dtype = np.float64) "
   ]
  },
  {
   "cell_type": "code",
   "execution_count": null,
   "metadata": {},
   "outputs": [],
   "source": [
    "'''\n",
    "def gauss_s(r, prefactor, size_dpgs, sigma_s):\n",
    "    return prefactor * np.exp( (-(r - size_dpgs)**2) / (2*sigma_s**2) )\n",
    "\n",
    "\n",
    "def rho(charge, bulk_conc, phi, b2): \n",
    "    #b2_fit is 2*B2*rho_in = \\beta \\mu_i\n",
    "    return charge * bulk_conc * np.exp( -charge*phi - b2)\n",
    "\n",
    "\n",
    "def poisson_boltzmann(r, y):\n",
    "    \n",
    "    y2 = -pb_prefactor*( rho(+2, mg_conc, y[0], b2_mg) +\n",
    "                         rho(+1, na_conc, y[0], b2_na) +\n",
    "                         rho(-1, cl_conc, y[0], 0    ) +\n",
    "                         den_s*hard_sphere_dist(r, reff, 40)) - 2*y[1]/r       \n",
    "    return np.vstack((y[1], y2))\n",
    "'''"
   ]
  },
  {
   "cell_type": "code",
   "execution_count": 270,
   "metadata": {},
   "outputs": [],
   "source": [
    "def den_s(z_d):\n",
    "    return 3*z_d/(4*np.pi*reff**3)\n",
    "\n",
    "def ionic_strength(*conc_in_mM):\n",
    "    mg_conc, na_conc, cl_conc = conc_in_mM\n",
    "    return 0.5 * ( 4*mg_conc + na_conc + cl_conc ) * std_volume / 1000\n",
    "\n",
    "def kappa(I_num_per_nm3):\n",
    "    #I_num_per_nm3 = I_mmolar * std_volume / 1000\n",
    "    return (8 * np.pi * lb * I_num_per_nm3 )**0.5\n",
    "\n",
    "def vol_excl(r, prefactor, sigma):\n",
    "    return prefactor * np.exp( -r**2 / (2*sigma**2) )\n",
    "\n",
    "def relative_error(x, y):\n",
    "    return np.linalg.norm(x-y) / np.linalg.norm(x)\n",
    "\n",
    "def heaviside_s(r, reff, prefactor): \n",
    "    return prefactor*(1 - np.heaviside(r - reff, 0))\n",
    "\n",
    "def hard_sphere_dist(r, curvature = 40):\n",
    "    return 1 - 1/(1 + np.exp(-curvature*(r - reff)))\n",
    "\n",
    "def free_vol_frac(r, eta_dpgs):\n",
    "    return 1 - eta_dpgs*hard_sphere_dist(r)\n",
    "\n",
    "def get_bound_ions(r, number_distribution):\n",
    "    ''' import scipy.integrate as integrate'''\n",
    "\n",
    "    dr                = r[1] - r[0]\n",
    "    idx_reff          = np.abs(r - reff).argmin()\n",
    "    idx_int_limit     = np.abs(r - (reff + 0.1)).argmin()\n",
    "    local_number      = number_distribution * 4*np.pi*np.power(r, 2)\n",
    "    cumulative_number = [integrate.trapz(local_number[0:i], r[0:i], dx = dr)\n",
    "                         for i in range(idx_int_limit)]\n",
    "\n",
    "    return cumulative_number[idx_reff]\n",
    "\n",
    "\n",
    "def rho(r, charge, eta_dpgs, bulk_conc, phi):\n",
    "    #b2_fit is 2*B2*rho_in = \\beta \\mu_i\n",
    "    return charge * bulk_conc * np.exp( -charge*phi) * free_vol_frac(r, eta_dpgs)\n",
    "\n",
    "\n",
    "def poisson_boltzmann(r, y):\n",
    "\n",
    "    y2 = -pb_prefactor*( rho(r, +2, eta_dpgs, mg_conc, y[0]) +\n",
    "                         rho(r, +1, eta_dpgs, na_conc, y[0]) +\n",
    "                         rho(r, -1, eta_dpgs, cl_conc, y[0]) +\n",
    "                         den_s(z_d)*hard_sphere_dist(r)) - 2*y[1]/r\n",
    "\n",
    "    return np.vstack((y[1], y2))\n",
    "\n",
    "def bc(ya, yb):\n",
    "    # ya = [y(a), y'(a), y''(a)]\n",
    "    # yb = [y(b), y'(b), y''(b)]\n",
    "    #return np.array([ya[1] - e_d , yb[1]]) # Neumann \n",
    "    return np.array([ya[1], yb[1]]) # Mixed "
   ]
  },
  {
   "cell_type": "code",
   "execution_count": 191,
   "metadata": {},
   "outputs": [
    {
     "data": {
      "text/plain": [
       "[<matplotlib.lines.Line2D at 0x7fd9d4a0a550>,\n",
       " <matplotlib.lines.Line2D at 0x7fd9d4a0a0f0>]"
      ]
     },
     "execution_count": 191,
     "metadata": {},
     "output_type": "execute_result"
    },
    {
     "data": {
      "image/png": "[encoded data removed]",
      "text/plain": [
       "<Figure size 432x288 with 1 Axes>"
      ]
     },
     "metadata": {
      "needs_background": "light"
     },
     "output_type": "display_data"
    }
   ],
   "source": [
    "plt.plot(r, hard_sphere_dist(r),r,  free_vol_frac(r, 0.3))"
   ]
  },
  {
   "cell_type": "markdown",
   "metadata": {},
   "source": [
    "## Make whiskey plot"
   ]
  },
  {
   "cell_type": "code",
   "execution_count": 233,
   "metadata": {},
   "outputs": [],
   "source": [
    "whiskey_datapoints = 50\n",
    "#na_conc            = 4 # mM\n",
    "max_conc_ratio     = 0.6\n",
    "mg_na_bulkratio    = np.linspace(0, max_conc_ratio, whiskey_datapoints)\n",
    "#na_conc            = na_conc*std_volume/1000 # mM*std_volume/1000\n",
    "\n",
    "na_conc_array       = np.linspace(10, 150, 6)*std_volume/1000\n",
    "\n",
    "mg_conc_array      = [na_conc*mg_na_bulkratio for na_conc in na_conc_array]\n",
    "\n",
    "cl_conc_array      = [na_conc + 2*mg_conc \n",
    "                      for na_conc, mg_conc in zip(na_conc_array, mg_conc_array)]\n",
    "\n",
    "pairs = [(mg, na, cl) \n",
    "         for mg_array, na, cl_array \n",
    "             in zip(mg_conc_array, na_conc_array, cl_conc_array)\n",
    "             for mg, cl\n",
    "                 in zip(mg_array, cl_array)]\n",
    "\n",
    "radius_mg, radius_na, radius_cl = 0.132, 0.129, 0.220"
   ]
  },
  {
   "cell_type": "code",
   "execution_count": 77,
   "metadata": {},
   "outputs": [],
   "source": [
    "bound_mg_array = []\n",
    "bound_na_array = []\n",
    "\n",
    "eta_dpgs = 0.5\n",
    "\n",
    "for mg_conc, na_conc, cl_conc in pairs:\n",
    "    \n",
    "    #volume_frac = mg_conc*radius_mg**3 + na_conc*radius_na**3 + cl_conc*radius_cl**3\n",
    "    \n",
    "    res = integrate.solve_bvp(poisson_boltzmann, bc, r, initial_y)#, verbose = 2)\n",
    "\n",
    "    phi = res.sol(r)[0]\n",
    "    \n",
    "    rho_mg, rho_na = rho(r, +2, eta_dpgs, mg_conc, phi)/2,\\\n",
    "                     rho(r, +1, eta_dpgs, na_conc, phi)\n",
    "    \n",
    "    bound_mg, bound_na = get_bound_ions(r, rho_mg), get_bound_ions(r, rho_na)\n",
    "    \n",
    "    bound_mg_array.append(bound_mg)\n",
    "    bound_na_array.append(bound_na)\n",
    "\n",
    "bound_mg_array = np.array(bound_mg_array, dtype = np.float64)\n",
    "bound_na_array = np.array(bound_na_array, dtype = np.float64)\n",
    "\n",
    "mg_na_boundratio = bound_mg_array / bound_na_array"
   ]
  },
  {
   "cell_type": "markdown",
   "metadata": {},
   "source": [
    "## Import  CG data"
   ]
  },
  {
   "cell_type": "code",
   "execution_count": 268,
   "metadata": {},
   "outputs": [],
   "source": [
    "cg_location = \"/home/rohit/google-drive/jupyter-notebooks/cg-g2-bound-counterions.csv\"\n",
    "jacek_location = \"/home/rohit/google-drive/jupyter-notebooks/whiskey_jacek.csv\"\n",
    "\n",
    "cg_data = pd.read_csv(cg_location, sep = ',', index_col = None,  engine = 'python')\n",
    "#cg_data['theta_na'] = cg_data['na_bound']/24\n",
    "#cg_data['theta_mg'] = cg_data['mg_bound']/12\n",
    "#cg_data['mg_by_na'] = cg_data['mg_bound']/cg_data['na_bound']\n",
    "cg_data['den_mg'] = cg_data['mg_bound']/(4*np.pi/3*reff**3)\n",
    "cg_data['den_na'] = cg_data['na_bound']/(4*np.pi/3*reff**3)\n",
    "cg_data.set_index('conc', inplace = True)\n",
    "#print(cg_data)\n",
    "\n",
    "conc = 1\n",
    "\n",
    "cg_bound  = np.array([cg_data.loc[conc]['mg_bound'],\n",
    "                      cg_data.loc[conc]['na_bound']], dtype = np.float64)"
   ]
  },
  {
   "cell_type": "code",
   "execution_count": 184,
   "metadata": {},
   "outputs": [
    {
     "data": {
      "image/png": "[encoded data removed]",
      "text/plain": [
       "<Figure size 432x288 with 1 Axes>"
      ]
     },
     "metadata": {
      "needs_background": "light"
     },
     "output_type": "display_data"
    }
   ],
   "source": [
    "fig = plt.figure()\n",
    "ax  = fig.add_subplot(111)\n",
    "\n",
    "jet = plt.get_cmap('Accent')\n",
    "\n",
    "colors = iter(jet(np.linspace(0,1,6)))\n",
    "\n",
    "eta_dpgs = 0\n",
    "\n",
    "for mg_array, na_conc, cl_array in zip(mg_conc_array, na_conc_array, cl_conc_array):\n",
    "    \n",
    "    bound_mg_array = []\n",
    "    \n",
    "    for mg_conc, cl_conc in zip(mg_array, cl_array):\n",
    "    \n",
    "        res = integrate.solve_bvp(poisson_boltzmann, bc, r, initial_y)\n",
    "\n",
    "        phi = res.sol(r)[0]\n",
    "    \n",
    "        rho_mg   = rho(r, +2, eta_dpgs, mg_conc, phi)/2\n",
    "        bound_mg = get_bound_ions(r, rho_mg)\n",
    "        bound_mg_array.append(bound_mg)\n",
    "\n",
    "    bound_mg_array = np.array(bound_mg_array, dtype = np.float64)\n",
    "\n",
    "\n",
    "    plt.plot(mg_array*1000/std_volume, bound_mg_array,\\\n",
    "             linewidth = 1.5, markersize = 7, \\\n",
    "             label = str(np.round(na_conc*1000/std_volume)) + ' mM',\\\n",
    "             color = next(colors))\n",
    "\n",
    "'''\n",
    "plt.plot(mg_conc_array*1000/std_volume, bound_na_array,\\\n",
    "         linewidth = 3, markersize = 10, \\\n",
    "         label = 'Na', color = 'xkcd:red')\n",
    "\n",
    "plt.plot([0, 1, 3, 5, 10, 15], [0, 2.25, 3.98, 4.88, 6.14, 6.72], \n",
    "         marker = 'o', linewidth = 3, linestyle = '--', markersize = 10,\n",
    "        label = 'CG Mg')\n",
    "\n",
    "plt.plot([0, 1, 3, 5, 10, 15], [13.2, 10.2, 8.4, 7.3, 6.3, 5.7], \n",
    "         marker = 's', linewidth = 3, linestyle = '--', markersize = 10,\n",
    "        label = 'CG Na')\n",
    "\n",
    "\n",
    "\n",
    "plt.plot(whiskey_jacek['x'], whiskey_jacek['y'], linestyle = '--', marker = 's',\\\n",
    "         label = 'ITC', color = 'xkcd:red')\n",
    "'''\n",
    "\n",
    "plotify(x_major_ticks = 20, x_minor_ticks = 5, y_major_ticks = 1 , y_minor_ticks = 5)\n",
    "            \n",
    "plt.show()"
   ]
  },
  {
   "cell_type": "code",
   "execution_count": 317,
   "metadata": {},
   "outputs": [
    {
     "data": {
      "text/plain": [
       "[<matplotlib.lines.Line2D at 0x7fd9d37d65f8>]"
      ]
     },
     "execution_count": 317,
     "metadata": {},
     "output_type": "execute_result"
    },
    {
     "data": {
      "image/png": "[encoded data removed]",
      "text/plain": [
       "<Figure size 432x288 with 1 Axes>"
      ]
     },
     "metadata": {
      "needs_background": "light"
     },
     "output_type": "display_data"
    }
   ],
   "source": [
    "cg_conc_array = [1, 3, 5, 10, 15]\n",
    "\n",
    "dtp = np.dtype([('conc' , np.float64),\n",
    "                ('error', np.float64),\n",
    "                ('b2_mg', np.float64),\n",
    "                ('b2_na', np.float64),\n",
    "                ('tpbmg'  , np.float64),\n",
    "                ('tpbna'  , np.float64),\n",
    "                ('tcgmg'  , np.float64),\n",
    "                ('tcgna'  , np.float64)])\n",
    "\n",
    "db = np.zeros(1, dtype = dtp)\n",
    "\n",
    "for conc in cg_conc_array:\n",
    "\n",
    "    sol = bfunc.open_and_assign('pb_cg_' + str(conc) + '_tol_0.25.p')\n",
    "\n",
    "    #sol_min = sol[sol['error'] == np.min(sol['error'])]\n",
    "    error = np.average(sol['error'])\n",
    "    b2_mg = np.average(sol['b2'][:,0])\n",
    "    b2_na = np.average(sol['b2'][:,1])\n",
    "    tmg   = np.average(sol['theta'][:,0]*12)\n",
    "    tna   = np.average(sol['theta'][:,1]*24)\n",
    "\n",
    "    cg_theta  = np.array([cg_data.loc[conc]['mg_bound'],\n",
    "                          cg_data.loc[conc]['na_bound']], dtype = np.float64)\n",
    "    \n",
    "    e = np.array([(conc, error, b2_mg, b2_na, tmg, tna, cg_theta[0], cg_theta[1])],\n",
    "                 dtype = dtp)\n",
    "    \n",
    "    db = np.append(db, e)\n",
    "    \n",
    "db = np.delete(db, 0)\n",
    "\n",
    "df = pd.DataFrame(db)\n",
    "\n",
    "plt.plot(df['tpbmg'], marker = 'o', linestyle = '--')\n",
    "plt.plot(df['tcgmg'], marker = 'o', linestyle = '--')\n",
    "plt.plot(df['tpbna'], marker = 's', linestyle = '--')\n",
    "plt.plot(df['tcgna'], marker = 's', linestyle = '--')"
   ]
  },
  {
   "cell_type": "markdown",
   "metadata": {},
   "source": [
    "## PB with ITC"
   ]
  },
  {
   "cell_type": "code",
   "execution_count": 245,
   "metadata": {},
   "outputs": [
    {
     "data": {
      "image/png": "[encoded data removed]",
      "text/plain": [
       "<Figure size 432x288 with 1 Axes>"
      ]
     },
     "metadata": {
      "needs_background": "light"
     },
     "output_type": "display_data"
    }
   ],
   "source": [
    "mg_conc         = 0\n",
    "mg_conc_tot     = 0\n",
    "na_conc         = 4*std_volume/1000\n",
    "cl_conc         = 4*std_volume/1000\n",
    "dpgs_conc_init  = 0.0638*std_volume/1000\n",
    "mg_inj          = 15.190*std_volume/1000\n",
    "eta_dpgs        = 0.32\n",
    "nmg_inj         = mg_inj * vol_injection\n",
    "n_dpgs          = dpgs_conc_init * vol_init\n",
    "\n",
    "jacek_location = \"/home/rohit/google-drive/jupyter-notebooks/whiskey_jacek.csv\"\n",
    "#\"/home/lto/mdanalysis/whiskey_jacek.csv\"\n",
    "\n",
    "whiskey_jacek = pd.read_csv(jacek_location, sep = ',',\n",
    "                            index_col = None, engine = 'python')\n",
    "whiskey_jacek.columns = ['x', 'y']\n",
    "whiskey_jacek.x = whiskey_jacek.x*na_conc*1000/std_volume\n",
    "\n",
    "injections = list(whiskey_jacek.index + 1)\n",
    "\n",
    "\n",
    "mg_conc_array       = [mg_conc]\n",
    "mg_conc_total_array = [mg_conc_tot]\n",
    "zd_array            = [z_d]\n",
    "\n",
    "res      = integrate.solve_bvp(poisson_boltzmann, bc, r, initial_y)\n",
    "phi      = res.sol(r)[0]\n",
    "rho_na   = rho(r, +1, eta_dpgs, na_conc, phi)\n",
    "\n",
    "bound_mg_cumulative = 0\n",
    "bound_mg_array      = [bound_mg_cumulative]\n",
    "bound_na_cumulative = get_bound_ions(r, rho_na)\n",
    "bound_na_array      = [bound_na_cumulative]\n",
    "\n",
    "z_d     += bound_na_cumulative\n",
    "zd_array.append(z_d)\n",
    "\n",
    "\n",
    "for inj in injections:\n",
    "\n",
    "    vol       = vol_init + inj*vol_injection\n",
    "\n",
    "    mg_conc_tot += nmg_inj / vol\n",
    "    mg_conc     += nmg_inj / vol\n",
    "    cl_conc      = 2*mg_conc + na_conc\n",
    "    dpgs_conc    = n_dpgs / vol\n",
    "\n",
    "    res          = integrate.solve_bvp(poisson_boltzmann, bc, r, initial_y)\n",
    "\n",
    "    phi          = res.sol(r)[0]\n",
    "\n",
    "    rho_mg       = rho(r, +2, eta_dpgs, mg_conc, phi)/2\n",
    "    rho_na       = rho(r, +1, eta_dpgs, na_conc, phi)\n",
    "\n",
    "    bound_mg     = get_bound_ions(r, rho_mg)\n",
    "    bound_na     = get_bound_ions(r, rho_na)\n",
    "\n",
    "\n",
    "    if mg_conc < bound_mg*dpgs_conc:\n",
    "\n",
    "        bound_mg = mg_conc / dpgs_conc\n",
    "        bound_na = 0\n",
    "\n",
    "        z_d     += bound_mg\n",
    "        mg_conc  = 0\n",
    "\n",
    "    elif z_d + bound_mg + bound_na < 0:\n",
    "\n",
    "        z_d     += bound_mg + bound_na\n",
    "        mg_conc -= bound_mg * dpgs_conc\n",
    "\n",
    "    elif z_d < 0:\n",
    "\n",
    "        bound_na = 0\n",
    "\n",
    "        if z_d + bound_mg <= 0:\n",
    "\n",
    "            z_d     += bound_mg\n",
    "            mg_conc -= bound_mg * dpgs_conc\n",
    "\n",
    "        else:\n",
    "\n",
    "            bound_mg = -z_d\n",
    "            z_d      = 0\n",
    "            mg_conc -= bound_mg * dpgs_conc\n",
    "\n",
    "    else:\n",
    "\n",
    "        bound_mg = 0\n",
    "        bound_na = 0\n",
    "\n",
    "    bound_mg_cumulative += bound_mg\n",
    "    bound_na_cumulative += bound_na\n",
    "\n",
    "    bound_mg_array.append(bound_mg_cumulative)\n",
    "    bound_na_array.append(bound_na_cumulative)\n",
    "    zd_array.append(z_d)\n",
    "    mg_conc_array.append(mg_conc)\n",
    "    mg_conc_total_array.append(mg_conc_tot)\n",
    "\n",
    "\n",
    "bound_mg_array       = np.array(bound_mg_array, dtype = np.float64)\n",
    "bound_na_array       = np.array(bound_na_array, dtype = np.float64)\n",
    "mg_conc_array        = np.array(mg_conc_array , dtype = np.float64)*1000/std_volume\n",
    "mg_conc_total_array  = np.array(mg_conc_total_array , dtype = np.float64)*1000/std_volume\n",
    "zd_array             = np.array(zd_array      , dtype = np.float64)\n",
    "\n",
    "\n",
    "\n",
    "fig = plt.figure()\n",
    "ax  = fig.add_subplot(111)\n",
    "\n",
    "plt.plot(mg_conc_total_array , bound_mg_array, linestyle = '--', linewidth  = 2.5,\n",
    "         marker = 'o', markersize = 7, label = 'PB')\n",
    "\n",
    "plt.plot(whiskey_jacek['x'], whiskey_jacek['y'], linestyle = '--', linewidth = 2.5,\n",
    "         marker = 's', markersize = 7, label = 'ITC' )\n",
    "\n",
    "plotify(x_major_ticks = 0.5, x_minor_ticks = 5,\n",
    "        y_major_ticks = 1 , y_minor_ticks = 5,\n",
    "        xname         = r\"$\\displaystyle C_{{\\rm Mg^{2+}},{\\rm bulk}}$ (mM)\",\n",
    "        yname         = r\"$\\displaystyle N_{{\\rm Mg^{2+}},{\\rm bound}}$\",\n",
    "        legend_location = (.98, 0.5, 0.5, 0.5))\n",
    "\n",
    "plt.show()"
   ]
  },
  {
   "cell_type": "code",
   "execution_count": 40,
   "metadata": {},
   "outputs": [
    {
     "name": "stdout",
     "output_type": "stream",
     "text": [
      "0.3149147105992127 0.472372065898819\n"
     ]
    }
   ],
   "source": [
    "mg_b2_rho_in_times2 = 10*8*(.3/1.9)**3\n",
    "na_b2_rho_in_times2 = 15*8*(.3/1.9)**3\n",
    "print(mg_b2_rho_in_times2, na_b2_rho_in_times2)"
   ]
  },
  {
   "cell_type": "code",
   "execution_count": 161,
   "metadata": {
    "scrolled": true
   },
   "outputs": [
    {
     "data": {
      "image/png": "[encoded data removed]",
      "text/plain": [
       "<Figure size 432x288 with 1 Axes>"
      ]
     },
     "metadata": {
      "needs_background": "light"
     },
     "output_type": "display_data"
    }
   ],
   "source": [
    "cg_boundratio = pd.Series(cg_data['mg_by_na'])\n",
    "cg_bulkratio  = (cg_data['mg_total']- cg_data['mg_bound'])/\\\n",
    "                (cg_data['na_total']- cg_data['na_bound'])\n",
    "md_boundratio = [0.328640, 0.7, 1.058235, 1.424771] # i=1  0.523426\n",
    "md_bulkratio  = [0.07236672584302155, 0.14405807509309024,\n",
    "                0.24518605081457234, 0.4533333333333333] \n",
    "\n",
    "fig = plt.figure()\n",
    "ax  = fig.add_subplot(111)\n",
    "\n",
    "plt.plot(cg_bulkratio, cg_boundratio, \\\n",
    "         marker = 'o', linestyle = '--', linewidth = 3, markersize = 10, \\\n",
    "         label = 'CG simulations', color = 'xkcd:green')\n",
    "\n",
    "plt.plot(md_bulkratio, md_boundratio, \\\n",
    "         marker = 's', linestyle = '--', linewidth = 3, markersize = 10, \\\n",
    "         label = 'MD simulations', color = 'xkcd:light blue')\n",
    "\n",
    "plt.plot(mg_na_bulkratio, mg_na_boundratio, linestyle = '-',\\\n",
    "         linewidth = 3, markersize = 10, \\\n",
    "         label = 'PB theory', color = 'xkcd:red')\n",
    "\n",
    "plt.plot(mg_na_bulkratio, mg_na_bulkratio, linestyle = '--',\\\n",
    "         linewidth = 3, markersize = 10, \\\n",
    "         label = 'Reference', color = 'xkcd:black')\n",
    "\n",
    "\n",
    "plotify(x_major_ticks = 0.1, x_minor_ticks = 5,\n",
    "        y_major_ticks = 0.5, y_minor_ticks = 5,\n",
    "        xname = r\"Bulk ratio\", yname = r\"Bound ratio\",\n",
    "        legend_location = (1, 0.5, 0.5, 0.5))\n",
    "\n",
    "plt.show()"
   ]
  },
  {
   "cell_type": "markdown",
   "metadata": {},
   "source": [
    "## Get ion radius from B2"
   ]
  },
  {
   "cell_type": "code",
   "execution_count": 283,
   "metadata": {},
   "outputs": [
    {
     "name": "stdout",
     "output_type": "stream",
     "text": [
      "0.03853633371888859\n"
     ]
    }
   ],
   "source": [
    "def get_ion_radius_from_b2_term(b2_term, bound_ions):\n",
    "    rho_in = bound_ions / (4*np.pi/3*reff**3)\n",
    "    b2 = b2_term / rho_in / 2\n",
    "    return 0.5*(3/2/np.pi*b2)**(1/3)\n",
    "\n",
    "print(2*np.pi/3*8*0.132**3)"
   ]
  },
  {
   "cell_type": "markdown",
   "metadata": {},
   "source": [
    "## Make plot pretty"
   ]
  },
  {
   "cell_type": "code",
   "execution_count": 269,
   "metadata": {},
   "outputs": [],
   "source": [
    "def plotify(x_major_ticks   = 30, x_minor_ticks = 5,\n",
    "            y_major_ticks   = 1 , y_minor_ticks = 5,\n",
    "            xname           = r\"$\\displaystyle C_{{\\rm Mg^{2+}},{\\rm bulk}}$\",\n",
    "            yname           = r\"$\\displaystyle N_{{\\rm Mg^{2+}},{\\rm bound}}$\",\n",
    "            legend_location = (.98, 0.5, 0.5, 0.5),\n",
    "            image_name       = 'new_plot.png',\n",
    "            save            = False):\n",
    "    \n",
    "    plt.grid(True)\n",
    "    \n",
    "    ax.tick_params(which = 'major', direction = 'in',\\\n",
    "               length = 8, top = True, right = True)\n",
    "\n",
    "    ax.tick_params(which = 'minor', direction = 'in',\\\n",
    "               length = 4, top = True, right = True)\n",
    "\n",
    "    ax.tick_params(labelsize = 15, grid_alpha = 0.4, grid_linestyle = '--')\n",
    "\n",
    "    ax.set_axisbelow(True)\n",
    "\n",
    "    ax.xaxis.set_major_locator(MultipleLocator(x_major_ticks))\n",
    "    ax.xaxis.set_minor_locator(AutoMinorLocator(x_minor_ticks)) # for the minor ticks,\n",
    "                                                # use no labels; default NullFormatter\n",
    "    \n",
    "    ax.yaxis.set_major_locator(MultipleLocator(y_major_ticks))\n",
    "    ax.yaxis.set_minor_locator(AutoMinorLocator(y_minor_ticks)) \n",
    "\n",
    "    xlabel, ylabel = xname, yname\n",
    "    #xlabel = r\"$\\displaystyle C^{\\rm bulk}_{\\rm Mg^{2+}} / C^{\\rm bulk}_{\\rm Na^{+}}$\"\n",
    "    #ylabel = r\"$\\displaystyle N_{\\rm Mg^{2+}} / N_{\\rm Na^{+}}$\"\n",
    "    \n",
    "    plt.xlabel(xlabel, fontsize = 20)\n",
    "    plt.ylabel(ylabel, fontsize = 20)\n",
    "    \n",
    "    \n",
    "    font = {'family': 'serif',\n",
    "            'color':  'xkcd:black',\n",
    "            'weight': 'normal',\n",
    "            'size': 25,\n",
    "            }\n",
    "\n",
    "    #plt.text(115, 2, r\"$\\displaystyle C_{{\\rm Na^{+}},{\\rm bulk}}$\",fontdict=font)\n",
    "    \n",
    "    \n",
    "    plt.legend(fontsize = 19, loc = 0, bbox_to_anchor = legend_location)\n",
    "    plt.subplots_adjust(top = 1.1)\n",
    "    \n",
    "    if save is True:\n",
    "        direc = '/home/rohit/google-drive/magnesium/mg-netz/images/'\n",
    "        image_name = direc + image_name\n",
    "        plt.savefig(image_name, bbox_inches = 'tight', dpi = 200)"
   ]
  },
  {
   "cell_type": "code",
   "execution_count": 8,
   "metadata": {},
   "outputs": [],
   "source": [
    "def parse_data(data_file):\n",
    "\n",
    "    with open(data_file) as file:\n",
    "        \n",
    "        lines = file.readlines()\n",
    "\n",
    "    a = ([line.strip().split() for line in lines])\n",
    "\n",
    "# turn array strings into numbers\n",
    "    \n",
    "    b = np.array(a)\n",
    "    u = b.astype(np.float)\n",
    "\n",
    "    r = u[:,0] # radial distance\n",
    "    c = u[:,1] # charge density\n",
    "\n",
    "    #return np.vstack((r, c))\n",
    "    return r, c"
   ]
  },
  {
   "cell_type": "markdown",
   "metadata": {},
   "source": [
    "## Find amplitude for sulfate distribution"
   ]
  },
  {
   "cell_type": "code",
   "execution_count": 191,
   "metadata": {},
   "outputs": [],
   "source": [
    "rd = np.arange(0.8, 2.0, 0.1)\n",
    "sigma_s     = 0.3\n",
    "least_count_c_array = 1\n",
    "C_array   = np.arange(0, 20, least_count_c_array)\n",
    "\n",
    "def find_amplitude_s_den(r, C_array, size_dpgs, sigma):\n",
    "    \n",
    "    residual = []\n",
    "    \n",
    "    for C_item in C_array:\n",
    "        \n",
    "        n_local = [ gauss_s(r_i, C_item, size_dpgs, sigma)\n",
    "                   * 4*np.pi*r_i**2 for r_i in r ]\n",
    "        \n",
    "        N       = [ integrate.trapz( n_local[0:i], r[0:i], dx = dr )\n",
    "                    for i in range(len(r)) ]\n",
    "         \n",
    "        residual.append( abs(z_d + N[-1]) )\n",
    "        \n",
    "    return C_array[ np.where( residual == min(residual) )[0][0] ], min(residual)\n",
    "\n",
    "\n",
    "\n",
    "def refine_amplitude_value(r, C_array, size_dpgs, sigma):\n",
    "    \n",
    "    amplitude = find_amplitude_s_den(r, C_array, size_dpgs, sigma)[0] \n",
    "    res       = find_amplitude_s_den(r, C_array, size_dpgs, sigma)[1]\n",
    "    \n",
    "    margin = least_count_c_array\n",
    "    step   = 0.1 * margin\n",
    "    \n",
    "    for _ in range(4):\n",
    "    \n",
    "        C_array   = np.arange(amplitude - margin, amplitude + margin, step)\n",
    "    \n",
    "        amplitude = find_amplitude_s_den(r, C_array, size_dpgs, sigma)[0]\n",
    "        res       = find_amplitude_s_den(r, C_array, size_dpgs, sigma)[1]\n",
    "        \n",
    "        margin, step = 0.1*margin, 0.1*step\n",
    "    \n",
    "    return amplitude, res\n",
    "\n",
    "amplitudes = [ refine_amplitude_value(r, C_array, size, sigma_s) for size in rd ]"
   ]
  },
  {
   "cell_type": "code",
   "execution_count": 192,
   "metadata": {},
   "outputs": [
    {
     "name": "stdout",
     "output_type": "stream",
     "text": [
      "rd\tC\tsigma_s\n",
      "\n",
      "0.8 \t 3.479400000000002 \t 0.3\n",
      "0.9 \t 2.821999999999999 \t 0.3\n",
      "1.0 \t 2.3301 \t 0.3\n",
      "1.1 \t 1.9536999999999993 \t 0.3\n",
      "1.2 \t 1.6599999999999995 \t 0.3\n",
      "1.2999999999999998 \t 1.4267999999999994 \t 0.3\n",
      "1.4 \t 1.2388999999999992 \t 0.3\n",
      "1.5 \t 1.0853999999999995 \t 0.3\n",
      "1.5999999999999999 \t 0.9583999999999999 \t 0.3\n",
      "1.6999999999999997 \t 0.8523 \t 0.3\n",
      "1.7999999999999998 \t 0.7627 \t 0.3\n",
      "1.8999999999999997 \t 0.6864 \t 0.3\n"
     ]
    }
   ],
   "source": [
    "# array of rd and corresponding amplitude for sulfate gaussian distribution, for sigma_s = 0.1\n",
    "print(\"rd\\tC\\tsigma_s\\n\")\n",
    "\n",
    "sulfate_distribution_data[str(sigma_s)] = np.zeros((len(rd), 3))\n",
    "\n",
    "for i in range(len(rd)):\n",
    "    print(rd[i], \"\\t\", amplitudes[i][0], \"\\t\", sigma_s)\n",
    "    sulfate_distribution_data[str(sigma_s)][i] = [ rd[i], amplitudes[i][0], sigma_s ]"
   ]
  },
  {
   "cell_type": "code",
   "execution_count": 378,
   "metadata": {},
   "outputs": [],
   "source": [
    "def sum_residual(rmin, rmax, r_pb, r_sim, rho_pb, rho_sim, number_of_points): \n",
    "    # it takes pb fit and simulation den, \n",
    "    # creates equal data points by interpolation and evaluates the residual\n",
    "    \n",
    "    rnew = np.linspace(rmin, rmax, number_of_points)\n",
    "\n",
    "    tck1 = interpolate.splrep(r_pb, rho_pb)\n",
    "    rho_pb_new = interpolate.splev(rnew, tck1)\n",
    "\n",
    "    tck2 = interpolate.splrep(r_sim, rho_sim)\n",
    "    rho_sim_new = interpolate.splev(rnew, tck2)\n",
    "\n",
    "    sum_residual = np.sum( (rho_pb_new - rho_sim_new)**2 )\n",
    "    \n",
    "    return sum_residual"
   ]
  }
 ],
 "metadata": {
  "kernelspec": {
   "display_name": "Python 3",
   "language": "python",
   "name": "python3"
  },
  "language_info": {
   "codemirror_mode": {
    "name": "ipython",
    "version": 3
   },
   "file_extension": ".py",
   "mimetype": "text/x-python",
   "name": "python",
   "nbconvert_exporter": "python",
   "pygments_lexer": "ipython3",
   "version": "3.6.8"
  },
  "varInspector": {
   "cols": {
    "lenName": 16,
    "lenType": 16,
    "lenVar": 40
   },
   "kernels_config": {
    "python": {
     "delete_cmd_postfix": "",
     "delete_cmd_prefix": "del ",
     "library": "var_list.py",
     "varRefreshCmd": "print(var_dic_list())"
    },
    "r": {
     "delete_cmd_postfix": ") ",
     "delete_cmd_prefix": "rm(",
     "library": "var_list.r",
     "varRefreshCmd": "cat(var_dic_list()) "
    }
   },
   "types_to_exclude": [
    "module",
    "function",
    "builtin_function_or_method",
    "instance",
    "_Feature"
   ],
   "window_display": false
  }
 },
 "nbformat": 4,
 "nbformat_minor": 2
}

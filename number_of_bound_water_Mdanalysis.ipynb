{
 "cells": [
  {
   "cell_type": "code",
   "execution_count": 1,
   "metadata": {},
   "outputs": [
    {
     "name": "stdout",
     "output_type": "stream",
     "text": [
      "available cores is 4.\n",
      "MDAnalysis version is 0.19.2.\n"
     ]
    }
   ],
   "source": [
    "from __future__ import division\n",
    "import numpy as np\n",
    "import MDAnalysis as mda\n",
    "import multiprocessing \n",
    "from itertools import repeat, starmap\n",
    "\n",
    "available_cores = multiprocessing.cpu_count()\n",
    "\n",
    "print(f\"available cores is {available_cores}.\")\n",
    "print(f\"MDAnalysis version is {mda.__version__}.\")\n",
    "\n",
    "import pmda.custom"
   ]
  },
  {
   "cell_type": "code",
   "execution_count": 2,
   "metadata": {},
   "outputs": [],
   "source": [
    "xtc = \"../netz-nacl-150mM-traj/md.xtc\"\n",
    "tpr = \"../netz-nacl-150mM-traj/md.tpr\""
   ]
  },
  {
   "cell_type": "code",
   "execution_count": 3,
   "metadata": {},
   "outputs": [],
   "source": [
    "u = mda.Universe(tpr, xtc)"
   ]
  },
  {
   "cell_type": "code",
   "execution_count": 8,
   "metadata": {
    "scrolled": false
   },
   "outputs": [
    {
     "data": {
      "text/plain": [
       "'\\nfor iterable in zip(repeat(com), na_atoms.positions, repeat(reff)):\\n    a, b, c = iterable\\n    print(a, b, c)\\n'"
      ]
     },
     "execution_count": 8,
     "metadata": {},
     "output_type": "execute_result"
    }
   ],
   "source": [
    "s_atoms  = u.select_atoms('type S')\n",
    "na_atoms = u.select_atoms('type Na')\n",
    "hw_atoms = u.select_atoms('type HW_spc')\n",
    "mg_atoms = u.select_atoms('type Mg')\n",
    "dpgs_atoms = u.select_atoms('resname PGS')\n",
    "\n",
    "#print([atom.position for atom in na_atoms])\n",
    "\n",
    "\n",
    "global reff\n",
    "global reff_s\n",
    "reff = 2\n",
    "reff_s = 0.4\n",
    "\n",
    "#print(na_atoms.positions)\n",
    "\n",
    "\n",
    "def fg(x, y, z):\n",
    "    for a in y:\n",
    "        return a\n",
    "'''\n",
    "for iterable in zip(repeat(com), na_atoms.positions, repeat(reff)):\n",
    "    a, b, c = iterable\n",
    "    print(a, b, c)\n",
    "'''\n",
    "\n",
    "#list(zip(repeat(com), na_atoms.positions, repeat(reff)))\n",
    "    \n",
    "#print(list(starmap(fg, zip(repeat(com), na_atoms.positions, repeat(reff)))))"
   ]
  },
  {
   "cell_type": "code",
   "execution_count": 9,
   "metadata": {},
   "outputs": [
    {
     "data": {
      "text/plain": [
       "'\\n\\ndef dpgs_dist(com, atoms, threshold_dist):\\n    \\n    primary_list = []\\n    \\n    \\n    for atom in atoms:\\n        d = norm(com, atom.position)\\n        \\n        if d <= threshold_dist:\\n            primary_list.append(atom)\\n    \\n    return primary_list\\n\\n\\ndef s_dist(atom, s_atoms, s_threshold):\\n    \\n    for s in s_atoms:\\n        d = norm(atom.position, s.position)\\n        \\n        if d <= s_threshold:\\n            return 1\\n            break\\n'"
      ]
     },
     "execution_count": 9,
     "metadata": {},
     "output_type": "execute_result"
    }
   ],
   "source": [
    "def norm(a, b):\n",
    "    vec = np.subtract(a, b)\n",
    "    return 0.1*np.sqrt(vec.dot(vec))\n",
    "\n",
    "\n",
    "def qualify_in(pos1, pos2, R):\n",
    "    if norm(pos1, pos2) <= R:\n",
    "        return 1\n",
    "    \n",
    "    \n",
    "def find_number_around_sulfates(atomgroup):\n",
    "    \n",
    "    #for frame in traj:\n",
    "        \n",
    "    com_pos = dpgs_atoms.center_of_mass()\n",
    "    atoms_positions = atomgroup.positions\n",
    "        \n",
    "    atoms_inlist = []\n",
    "        \n",
    "    for atom_pos in atoms_positions: \n",
    "        if qualify_in(com_pos, atom_pos, reff) == 1:\n",
    "            atoms_inlist.append(atom_pos)\n",
    "        \n",
    "    return len(atoms_inlist)\n",
    "'''\n",
    "\n",
    "def dpgs_dist(com, atoms, threshold_dist):\n",
    "    \n",
    "    primary_list = []\n",
    "    \n",
    "    \n",
    "    for atom in atoms:\n",
    "        d = norm(com, atom.position)\n",
    "        \n",
    "        if d <= threshold_dist:\n",
    "            primary_list.append(atom)\n",
    "    \n",
    "    return primary_list\n",
    "\n",
    "\n",
    "def s_dist(atom, s_atoms, s_threshold):\n",
    "    \n",
    "    for s in s_atoms:\n",
    "        d = norm(atom.position, s.position)\n",
    "        \n",
    "        if d <= s_threshold:\n",
    "            return 1\n",
    "            break\n",
    "'''"
   ]
  },
  {
   "cell_type": "code",
   "execution_count": 10,
   "metadata": {
    "scrolled": false
   },
   "outputs": [
    {
     "ename": "ValueError",
     "evalue": "all the input array dimensions except for the concatenation axis must match exactly",
     "output_type": "error",
     "traceback": [
      "\u001b[0;31m---------------------------------------------------------------------------\u001b[0m",
      "\u001b[0;31mValueError\u001b[0m                                Traceback (most recent call last)",
      "\u001b[0;32m<ipython-input-10-2447345d99b7>\u001b[0m in \u001b[0;36m<module>\u001b[0;34m\u001b[0m\n\u001b[1;32m      1\u001b[0m atom_list = pmda.custom.AnalysisFromFunction(find_number_around_sulfates,\\\n\u001b[1;32m      2\u001b[0m                                              u, s_atoms)\n\u001b[0;32m----> 3\u001b[0;31m \u001b[0matom_list\u001b[0m\u001b[0;34m.\u001b[0m\u001b[0mrun\u001b[0m\u001b[0;34m(\u001b[0m\u001b[0mn_jobs\u001b[0m \u001b[0;34m=\u001b[0m \u001b[0;34m-\u001b[0m\u001b[0;36m1\u001b[0m\u001b[0;34m)\u001b[0m\u001b[0;34m\u001b[0m\u001b[0;34m\u001b[0m\u001b[0m\n\u001b[0m\u001b[1;32m      4\u001b[0m \u001b[0mprint\u001b[0m\u001b[0;34m(\u001b[0m\u001b[0matom_list\u001b[0m\u001b[0;34m.\u001b[0m\u001b[0mresults\u001b[0m\u001b[0;34m)\u001b[0m\u001b[0;34m\u001b[0m\u001b[0;34m\u001b[0m\u001b[0m\n\u001b[1;32m      5\u001b[0m \u001b[0;34m\u001b[0m\u001b[0m\n",
      "\u001b[0;32m~/anaconda3/lib/python3.6/site-packages/pmda/parallel.py\u001b[0m in \u001b[0;36mrun\u001b[0;34m(self, start, stop, step, n_jobs, n_blocks)\u001b[0m\n\u001b[1;32m    364\u001b[0m             \u001b[0mself\u001b[0m\u001b[0;34m.\u001b[0m\u001b[0m_results\u001b[0m \u001b[0;34m=\u001b[0m \u001b[0mnp\u001b[0m\u001b[0;34m.\u001b[0m\u001b[0masarray\u001b[0m\u001b[0;34m(\u001b[0m\u001b[0;34m[\u001b[0m\u001b[0mel\u001b[0m\u001b[0;34m[\u001b[0m\u001b[0;36m0\u001b[0m\u001b[0;34m]\u001b[0m \u001b[0;32mfor\u001b[0m \u001b[0mel\u001b[0m \u001b[0;32min\u001b[0m \u001b[0mres\u001b[0m\u001b[0;34m]\u001b[0m\u001b[0;34m)\u001b[0m\u001b[0;34m\u001b[0m\u001b[0;34m\u001b[0m\u001b[0m\n\u001b[1;32m    365\u001b[0m             \u001b[0;32mwith\u001b[0m \u001b[0mtimeit\u001b[0m\u001b[0;34m(\u001b[0m\u001b[0;34m)\u001b[0m \u001b[0;32mas\u001b[0m \u001b[0mconclude\u001b[0m\u001b[0;34m:\u001b[0m\u001b[0;34m\u001b[0m\u001b[0;34m\u001b[0m\u001b[0m\n\u001b[0;32m--> 366\u001b[0;31m                 \u001b[0mself\u001b[0m\u001b[0;34m.\u001b[0m\u001b[0m_conclude\u001b[0m\u001b[0;34m(\u001b[0m\u001b[0;34m)\u001b[0m\u001b[0;34m\u001b[0m\u001b[0;34m\u001b[0m\u001b[0m\n\u001b[0m\u001b[1;32m    367\u001b[0m \u001b[0;34m\u001b[0m\u001b[0m\n\u001b[1;32m    368\u001b[0m         self.timing = Timing(\n",
      "\u001b[0;32m~/anaconda3/lib/python3.6/site-packages/pmda/custom.py\u001b[0m in \u001b[0;36m_conclude\u001b[0;34m(self)\u001b[0m\n\u001b[1;32m    101\u001b[0m \u001b[0;34m\u001b[0m\u001b[0m\n\u001b[1;32m    102\u001b[0m     \u001b[0;32mdef\u001b[0m \u001b[0m_conclude\u001b[0m\u001b[0;34m(\u001b[0m\u001b[0mself\u001b[0m\u001b[0;34m)\u001b[0m\u001b[0;34m:\u001b[0m\u001b[0;34m\u001b[0m\u001b[0;34m\u001b[0m\u001b[0m\n\u001b[0;32m--> 103\u001b[0;31m         \u001b[0mself\u001b[0m\u001b[0;34m.\u001b[0m\u001b[0mresults\u001b[0m \u001b[0;34m=\u001b[0m \u001b[0mnp\u001b[0m\u001b[0;34m.\u001b[0m\u001b[0mvstack\u001b[0m\u001b[0;34m(\u001b[0m\u001b[0mself\u001b[0m\u001b[0;34m.\u001b[0m\u001b[0m_results\u001b[0m\u001b[0;34m)\u001b[0m\u001b[0;34m\u001b[0m\u001b[0;34m\u001b[0m\u001b[0m\n\u001b[0m\u001b[1;32m    104\u001b[0m \u001b[0;34m\u001b[0m\u001b[0m\n\u001b[1;32m    105\u001b[0m \u001b[0;34m\u001b[0m\u001b[0m\n",
      "\u001b[0;32m~/anaconda3/lib/python3.6/site-packages/numpy/core/shape_base.py\u001b[0m in \u001b[0;36mvstack\u001b[0;34m(tup)\u001b[0m\n\u001b[1;32m    232\u001b[0m \u001b[0;34m\u001b[0m\u001b[0m\n\u001b[1;32m    233\u001b[0m     \"\"\"\n\u001b[0;32m--> 234\u001b[0;31m     \u001b[0;32mreturn\u001b[0m \u001b[0m_nx\u001b[0m\u001b[0;34m.\u001b[0m\u001b[0mconcatenate\u001b[0m\u001b[0;34m(\u001b[0m\u001b[0;34m[\u001b[0m\u001b[0matleast_2d\u001b[0m\u001b[0;34m(\u001b[0m\u001b[0m_m\u001b[0m\u001b[0;34m)\u001b[0m \u001b[0;32mfor\u001b[0m \u001b[0m_m\u001b[0m \u001b[0;32min\u001b[0m \u001b[0mtup\u001b[0m\u001b[0;34m]\u001b[0m\u001b[0;34m,\u001b[0m \u001b[0;36m0\u001b[0m\u001b[0;34m)\u001b[0m\u001b[0;34m\u001b[0m\u001b[0;34m\u001b[0m\u001b[0m\n\u001b[0m\u001b[1;32m    235\u001b[0m \u001b[0;34m\u001b[0m\u001b[0m\n\u001b[1;32m    236\u001b[0m \u001b[0;32mdef\u001b[0m \u001b[0mhstack\u001b[0m\u001b[0;34m(\u001b[0m\u001b[0mtup\u001b[0m\u001b[0;34m)\u001b[0m\u001b[0;34m:\u001b[0m\u001b[0;34m\u001b[0m\u001b[0;34m\u001b[0m\u001b[0m\n",
      "\u001b[0;31mValueError\u001b[0m: all the input array dimensions except for the concatenation axis must match exactly"
     ]
    }
   ],
   "source": [
    "atom_list = pmda.custom.AnalysisFromFunction(find_number_around_sulfates,\\\n",
    "                                             u, s_atoms)\n",
    "atom_list.run(n_jobs = -1)\n",
    "print(atom_list.results)\n",
    "\n",
    "'''\n",
    "if __name__ == '__main__':\n",
    "    \n",
    "    p = Pool(processes = available_cores)\n",
    "\n",
    "    count_na = 0\n",
    "    \n",
    "\n",
    "    p.map(find_number_around_sulfates, u.trajectory)\n",
    "    \n",
    "    #find_number_around_sulfates(u.trajectory)\n",
    "            \n",
    "    \n",
    "    #na_inlist = p.starmap(dpgs_dist, zip(repeat(com), na_positions,\\\n",
    "                                                repeat(reff)))\n",
    "    #print(na_inlist)\n",
    "    #print(frame)\n",
    "    \n",
    "        #na_inlist = dpgs_dist(dpgs_atoms.center_of_mass(), na_atoms, reff)\n",
    "        \n",
    "        #for atom in primary_list:\n",
    "            #sd = p.starmap(s_dist, zip(repeat(atom), s_atoms, repeat(r_s)))\n",
    "            #if sd == 1:\n",
    "                #count_na += 1\n",
    "        #pool.close()\n",
    "        \n",
    "    #print(count_na/len(u.trajectory)) \n",
    "'''"
   ]
  },
  {
   "cell_type": "code",
   "execution_count": 20,
   "metadata": {},
   "outputs": [],
   "source": [
    "import subprocess as sbp"
   ]
  },
  {
   "cell_type": "code",
   "execution_count": 22,
   "metadata": {},
   "outputs": [
    {
     "data": {
      "text/plain": [
       "1"
      ]
     },
     "execution_count": 22,
     "metadata": {},
     "output_type": "execute_result"
    }
   ],
   "source": [
    "p = sbp.Popen(['gmx', 'trjconv'\n",
    "           '-f', xtc, '-s', tpr, '-o', 'md.nosol.xtc'],\n",
    "           stdin = sbp.PIPE)\n",
    "p.communicate(b'7\\n')  # output non-water\n",
    "p.wait()"
   ]
  },
  {
   "cell_type": "code",
   "execution_count": 24,
   "metadata": {},
   "outputs": [],
   "source": [
    "p.kill()"
   ]
  }
 ],
 "metadata": {
  "kernelspec": {
   "display_name": "Python 3",
   "language": "python",
   "name": "python3"
  },
  "language_info": {
   "codemirror_mode": {
    "name": "ipython",
    "version": 3
   },
   "file_extension": ".py",
   "mimetype": "text/x-python",
   "name": "python",
   "nbconvert_exporter": "python",
   "pygments_lexer": "ipython3",
   "version": "3.6.8"
  }
 },
 "nbformat": 4,
 "nbformat_minor": 2
}

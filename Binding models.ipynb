{
 "cells": [
  {
   "cell_type": "code",
   "execution_count": 4,
   "metadata": {},
   "outputs": [],
   "source": [
    "from __future__ import division\n",
    "import numpy as np\n",
    "import matplotlib.pyplot as plt\n",
    "from scipy.optimize import fsolve"
   ]
  },
  {
   "cell_type": "code",
   "execution_count": 5,
   "metadata": {},
   "outputs": [
    {
     "data": {
      "text/plain": [
       "'\\nsasa_vol = np.array([10.9033, 10.8731, 11.0969, 10.9603])\\nsasa_rd = [(3*vol/4/np.pi)**(1/3) for vol in sasa_vol]\\nprint(np.average(sasa_rd), np.average(sasa_vol))\\n'"
      ]
     },
     "execution_count": 5,
     "metadata": {},
     "output_type": "execute_result"
    }
   ],
   "source": [
    "# numbers\n",
    "\n",
    "N_na =   24 #8.65425            # 4.1819047     # bound Na+ ions\n",
    "N_g   = 24                  # binding sites total\n",
    "c_na = 0.13181982729990038  # mol/L ; 0.0793819 nm^-3\n",
    "reff =   1.78               # 1.505      # nm\n",
    "r_g  =   1.3778963802321125  #1.40               # bare radius of dPGS\n",
    "z_g  = -1                   # charge on single binding site (sulfate group)\n",
    "V_eff  = 4*np.pi/3*reff**3    # Donnan volume\n",
    "v_d = 6.24                    # dPGS volume\n",
    "V_g  =   4*np.pi/3*r_g**3   # bare dPGS volume\n",
    "v_0  = 1                    # L/mol; standard volume 1.66 nm^3\n",
    "\n",
    "sigma_mg = 0.263    # Mamatkulov, Netz MG(2) \n",
    "sigma_na = 0.258    # smith, Dang JCP 1993\n",
    "sigma_cl = 0.440104 # smith, Dang JCP 1993\n",
    "\n",
    "'''\n",
    "sasa_vol = np.array([10.9033, 10.8731, 11.0969, 10.9603])\n",
    "sasa_rd = [(3*vol/4/np.pi)**(1/3) for vol in sasa_vol]\n",
    "print(np.average(sasa_rd), np.average(sasa_vol))\n",
    "'''"
   ]
  },
  {
   "cell_type": "markdown",
   "metadata": {},
   "source": [
    "## Std. one component Langmuir + Donnan for dPGS with monovalent salt"
   ]
  },
  {
   "cell_type": "code",
   "execution_count": 5,
   "metadata": {},
   "outputs": [
    {
     "ename": "ZeroDivisionError",
     "evalue": "float division by zero",
     "output_type": "error",
     "traceback": [
      "\u001b[0;31m---------------------------------------------------------------------------\u001b[0m",
      "\u001b[0;31mZeroDivisionError\u001b[0m                         Traceback (most recent call last)",
      "\u001b[0;32m<ipython-input-5-a4c1fe5190ae>\u001b[0m in \u001b[0;36m<module>\u001b[0;34m\u001b[0m\n\u001b[1;32m      3\u001b[0m \u001b[0mexponent\u001b[0m \u001b[0;34m=\u001b[0m \u001b[0my\u001b[0m \u001b[0;34m+\u001b[0m \u001b[0mnp\u001b[0m\u001b[0;34m.\u001b[0m\u001b[0msqrt\u001b[0m\u001b[0;34m(\u001b[0m\u001b[0my\u001b[0m\u001b[0;34m**\u001b[0m\u001b[0;36m2\u001b[0m \u001b[0;34m+\u001b[0m \u001b[0;36m1\u001b[0m\u001b[0;34m)\u001b[0m\u001b[0;34m\u001b[0m\u001b[0m\n\u001b[1;32m      4\u001b[0m \u001b[0;34m\u001b[0m\u001b[0m\n\u001b[0;32m----> 5\u001b[0;31m \u001b[0mrhs_langmuir\u001b[0m \u001b[0;34m=\u001b[0m \u001b[0mtheta_na\u001b[0m \u001b[0;34m/\u001b[0m \u001b[0;34m(\u001b[0m\u001b[0;36m1\u001b[0m \u001b[0;34m-\u001b[0m \u001b[0mtheta_na\u001b[0m\u001b[0;34m)\u001b[0m \u001b[0;34m/\u001b[0m \u001b[0mc_na\u001b[0m\u001b[0;34m\u001b[0m\u001b[0m\n\u001b[0m\u001b[1;32m      6\u001b[0m \u001b[0;34m\u001b[0m\u001b[0m\n\u001b[1;32m      7\u001b[0m \u001b[0mK_0_na_lang\u001b[0m \u001b[0;34m=\u001b[0m \u001b[0mrhs_langmuir\u001b[0m \u001b[0;34m/\u001b[0m \u001b[0mexponent\u001b[0m \u001b[0;34m/\u001b[0m \u001b[0mv_0\u001b[0m\u001b[0;34m\u001b[0m\u001b[0m\n",
      "\u001b[0;31mZeroDivisionError\u001b[0m: float division by zero"
     ]
    }
   ],
   "source": [
    "theta_na = N_na / N_g\n",
    "y        = -z_g*N_g/V_eff/c_na/2\n",
    "exponent = y + np.sqrt(y**2 + 1)\n",
    "\n",
    "rhs_langmuir = theta_na / (1 - theta_na) / c_na \n",
    "\n",
    "K_0_na_lang = rhs_langmuir / exponent / v_0\n",
    "\n",
    "print(K_0_na_lang, theta_na)"
   ]
  },
  {
   "cell_type": "code",
   "execution_count": 11,
   "metadata": {},
   "outputs": [
    {
     "data": {
      "text/plain": [
       "0.007101480354105008"
      ]
     },
     "execution_count": 11,
     "metadata": {},
     "output_type": "execute_result"
    }
   ],
   "source": [
    "N_na/V_g*np.pi/6*sigma_na**3"
   ]
  },
  {
   "cell_type": "markdown",
   "metadata": {},
   "source": [
    "## Excluded volume model (with negligible packing fraction of condensed counterions) + Donnan, for dPGS with monovalent salt"
   ]
  },
  {
   "cell_type": "code",
   "execution_count": 16,
   "metadata": {},
   "outputs": [
    {
     "name": "stdout",
     "output_type": "stream",
     "text": [
      "0.07634361162198183 0.07308198800230932\n"
     ]
    }
   ],
   "source": [
    "v_na = 4*np.pi/3*sigma_na**3    # 2B_2 excluded volume of one Na+ ion\n",
    "\n",
    "#theta_ev_na = v_na * N_na / (V_eff - v_d)\n",
    "theta_ev_na = v_na * N_na / V_eff\n",
    "\n",
    "rhs_ev = theta_ev_na / (1 - theta_ev_na) / c_na\n",
    "\n",
    "K_0_na_ev = rhs_ev / exponent / v_0\n",
    "\n",
    "print(K_0_na_ev, theta_ev_na)"
   ]
  },
  {
   "cell_type": "markdown",
   "metadata": {},
   "source": [
    "## Excluded volume model + Donnan, for dPGS with monovalent salt"
   ]
  },
  {
   "cell_type": "code",
   "execution_count": 60,
   "metadata": {},
   "outputs": [],
   "source": [
    "def DG_cs(x):\n",
    "    rhs = (8*x - 9*x**2 + 3*x**3)*(1 - x)**(-3)\n",
    "    return np.exp(-rhs)"
   ]
  },
  {
   "cell_type": "code",
   "execution_count": 61,
   "metadata": {},
   "outputs": [
    {
     "name": "stdout",
     "output_type": "stream",
     "text": [
      "0.050020929419908135 0.049153303865841\n"
     ]
    }
   ],
   "source": [
    "#eta_na = (N_na / V_eff) * np.pi/6 * sigma_na**3\n",
    "eta_na = (N_na / (V_eff - V_g)) * np.pi/6 * sigma_na**3\n",
    "\n",
    "v_na = 4*np.pi/3*sigma_na**3    # 2B_2 excluded volume of one Na+ ion\n",
    "\n",
    "\n",
    "\n",
    "rhs_ev = theta_ev_na / DG_cs(eta_na) / c_na\n",
    "\n",
    "K_0_na_ev = rhs_ev / exponent / v_0\n",
    "\n",
    "print(K_0_na_ev, theta_ev_na)"
   ]
  },
  {
   "cell_type": "code",
   "execution_count": 73,
   "metadata": {
    "scrolled": false
   },
   "outputs": [
    {
     "name": "stdout",
     "output_type": "stream",
     "text": [
      "[1.00250627 1.0048493  1.03431005 1.08612022 1.15458006 1.23483368\n",
      " 1.32333163 1.41763817 1.51610994 1.61763203 1.72143606 1.82698202\n",
      " 1.93388253 2.04185416 2.15068565 2.2602168  2.3703242  2.48091144\n",
      " 2.59190218 2.70323527 2.8148612  2.92673946 3.03883663 3.1511249\n",
      " 3.26358092 3.37618499 3.48892035 3.60177267 3.71472962 3.82778053\n",
      " 3.94091612 4.05412831 4.16740999 4.28075491 4.39415754 4.50761299\n",
      " 4.62111688 4.73466532 4.84825481 4.96188223 5.07554473 5.18923977\n",
      " 5.30296504 5.41671844 5.53049805 5.64430214 5.75812913 5.87197754\n",
      " 5.98584605 6.09973343]\n"
     ]
    },
    {
     "data": {
      "image/png": "[encoded data removed]",
      "text/plain": [
       "<Figure size 432x288 with 1 Axes>"
      ]
     },
     "metadata": {
      "needs_background": "light"
     },
     "output_type": "display_data"
    }
   ],
   "source": [
    "N = 34\n",
    "cd = 0.05#np.linspace(0.00, 1, 50) #0.1/1000/1.66\n",
    "c0 = np.linspace(0.00, 200, 50) #150/1000/1.66\n",
    "V = 1\n",
    "\n",
    "a = 1 - 2*c0/N/cd\n",
    "b = cd*cd*V*V\n",
    "\n",
    "x = (a*b + np.sqrt(a*a*b - b + 1))/(1 - b)\n",
    "\n",
    "theta = 0.5*(x+1)\n",
    "plt.plot(theta)\n",
    "print(theta)"
   ]
  },
  {
   "cell_type": "code",
   "execution_count": 17,
   "metadata": {
    "scrolled": false
   },
   "outputs": [],
   "source": [
    "#import MDAnalysis as mda\n",
    "\n",
    "#help(mda)"
   ]
  },
  {
   "cell_type": "code",
   "execution_count": 88,
   "metadata": {},
   "outputs": [
    {
     "name": "stdout",
     "output_type": "stream",
     "text": [
      "19.5 mM Mg2+\n"
     ]
    },
    {
     "data": {
      "image/png": "[encoded data removed]",
      "text/plain": [
       "<Figure size 432x288 with 1 Axes>"
      ]
     },
     "metadata": {
      "needs_background": "light"
     },
     "output_type": "display_data"
    }
   ],
   "source": [
    "x = np.linspace(0.1, 50, 1000)\n",
    "N = 10\n",
    "K = 5000\n",
    "cd = 0.039/1000/1.66*10 \n",
    "V0 = 1\n",
    "dH = 6e7\n",
    "\n",
    "z = 1 + x/N + 1/N/K/cd\n",
    "sqt = np.sqrt( np.square(z) - 4*x/N )\n",
    "theta = 0.5*(z - sqt)\n",
    "\n",
    "dq = 0.5*dH*V0*cd*(1 - (z-2)/sqt)\n",
    "plt.plot(x, dq)\n",
    "print(np.round(x[-1]*cd*1.66*1000, 2), 'mM Mg2+')\n",
    "# increasing dPGS concentration makes point of inflexion more evident"
   ]
  },
  {
   "cell_type": "markdown",
   "metadata": {},
   "source": [
    "## McGhee-von Hippel model"
   ]
  },
  {
   "cell_type": "code",
   "execution_count": 137,
   "metadata": {
    "scrolled": false
   },
   "outputs": [
    {
     "data": {
      "image/png": "[encoded data removed]",
      "text/plain": [
       "<Figure size 432x288 with 1 Axes>"
      ]
     },
     "metadata": {
      "needs_background": "light"
     },
     "output_type": "display_data"
    },
    {
     "data": {
      "image/png": "[encoded data removed]",
      "text/plain": [
       "<Figure size 432x288 with 1 Axes>"
      ]
     },
     "metadata": {
      "needs_background": "light"
     },
     "output_type": "display_data"
    },
    {
     "name": "stdout",
     "output_type": "stream",
     "text": [
      "6.525857975255321 16.37056669205523\n"
     ]
    }
   ],
   "source": [
    "ka       = 1e3        # (mol/L)^-1\n",
    "kb       = 5e3        # (mol/L)^-1\n",
    "Nb       = 17\n",
    "c0_a     = 4.1/1000   # mol/L\n",
    "cd       = 0.032/1000 # mol/L\n",
    "xb_max   = 60\n",
    "number_of_points      = 100\n",
    "xb_array = np.linspace(0.001, xb_max, number_of_points)\n",
    "V0       = 1          # L\n",
    "dHA      = 100         # kJ/mol\n",
    "dHB      = 1000       # kL/mol\n",
    "\n",
    "a        = kb*Nb\n",
    "b        = 1/cd\n",
    "c        = ka*Nb\n",
    "xa       = c0_a/cd\n",
    "d        = ka*xa\n",
    "\n",
    "def mvh(p, xb):\n",
    "    '''\n",
    "    x, y, ca, cb = p  # x = \\Theta_A(x) ; y = \\Theta_B(x)\n",
    "    F = np.empty((4))\n",
    "    \n",
    "    F[0] = ka*ca*(1-x-y) - x \n",
    "    F[1] = 4*kb*cb*(1-x-y)**2 - y*(2-y)\n",
    "    F[2] = b*ca - xa + 2*Nb*x\n",
    "    F[3] = b*cb - xb + Nb*y\n",
    "    '''\n",
    "    \n",
    "    x, y = p  # x = \\Theta_A(x) ; y = \\Theta_B(x)\n",
    "    F = np.empty((2))\n",
    "    \n",
    "    F[0] = a*y**3 + 2*a*x*y**2 + a*y*x**2 +\\\n",
    "           (-kb*xb - 2*a - 0.25*b)*y**2 + (-kb*xb)*x**2 +\\\n",
    "           (-2*kb*xb - 2*a)*x*y + (2*kb*xb + a + 0.5*b)*y + (2*kb*xb)*x + (-kb*xb)\n",
    "    \n",
    "    F[1] = 2*c*x**2 + 2*c*x*y + (-d - 2*c - b)*x + (-d)*y + d \n",
    "    \n",
    "        \n",
    "    return F\n",
    "    \n",
    "pGuess = np.array([1, .0])\n",
    "#pGuess = np.array([1, .0, c0_a, xb_max*cd])\n",
    "\n",
    "theta_a = []\n",
    "theta_b = []\n",
    "\n",
    "for i in range(number_of_points):\n",
    "    z = fsolve(mvh, pGuess, args = (xb_array[i]))\n",
    "    theta_a.append(z[0])\n",
    "    theta_b.append(z[1])\n",
    "    \n",
    "plt.plot(xb_array, theta_a, xb_array, theta_b)\n",
    "#plt.plot(theta_a, theta_b)\n",
    "plt.show()\n",
    "\n",
    "dQ = []\n",
    "\n",
    "for i in range(1, n-1):\n",
    "    \n",
    "    dtheta_B = 0.5*( theta_b[i+1] - theta_b[i-1] )\n",
    "    dtheta_A = 0.5*( theta_a[i+1] - theta_a[i-1] )\n",
    "    \n",
    "    dQ.append( Nb*cd*V0*(dHB*dtheta_B + 2*dHA*dtheta_A) )\n",
    "    \n",
    "plt.plot(xb_array[1:n-1], dQ)\n",
    "plt.show()\n",
    "print(theta_b[-1]*Nb, theta_a[-1]*2*Nb)"
   ]
  },
  {
   "cell_type": "markdown",
   "metadata": {},
   "source": [
    "## McGhee-von Hippel-Manning model"
   ]
  },
  {
   "cell_type": "code",
   "execution_count": 7,
   "metadata": {},
   "outputs": [],
   "source": [
    "ca0 = 1\n",
    "cb0 = 1\n",
    "lb =  0.7 # Bjerrum length (nm) for SPC/E water at 300K is 0.78\n",
    "R = 1.7 # reff nm\n",
    "Vb = 4 * np.pi / 3 * R**3\n",
    "z_mg = 2 # these are charge VALENCIES\n",
    "z_na = 1\n",
    "z_cl = -1\n",
    "z_s = -1 \n",
    "Na  = 34\n",
    "Nb = 0.5*Na\n",
    "\n",
    "def cb(cb0, cd, Nb, theta_B):\n",
    "    return cb0 - cd*Nb*theta_B\n",
    "\n",
    "def ca(ca0, cd, Na, theta_A):\n",
    "    return ca0 - cd*Na*theta_A\n",
    "\n",
    "\n",
    "def kappa(*conc):\n",
    "    \n",
    "    mg_conc, na_conc, cl_conc = conc\n",
    "    \n",
    "    I = 0.5 * (  mg_conc*z_mg**2\\\n",
    "               + na_conc*z_na**2\\\n",
    "               + cl_conc*z_cl**2 ) * 1.66 # molar M\n",
    "    \n",
    "    k = (8 * np.pi * lb * I / 1.66 )**0.5\n",
    "    \n",
    "    return k, I \n",
    "\n",
    "\n",
    "def chi(Na, lb, R, *conc):\n",
    "    return Na * lb / ( R*(1+(kappa(*conc)[0]*R)) )"
   ]
  },
  {
   "cell_type": "code",
   "execution_count": 22,
   "metadata": {},
   "outputs": [
    {
     "name": "stdout",
     "output_type": "stream",
     "text": [
      "10.83405118942551 12.668365985200001\n"
     ]
    }
   ],
   "source": [
    "comp_050mM = [0, 0.0197266, 0.00790753]\n",
    "comp_100mM = [0, 0.0595398, 0.0537438]\n",
    "comp_131mM = [0, 0.0794375, 0.074526]\n",
    "comp_496mM = [0, 0.2988930, 0.297942 ]\n",
    "V   = [ 979.978, 978.968, 978.512, 973.351]\n",
    "na =  [ 32, 73, 93, 304]\n",
    "\n",
    "na0  = na[0]\n",
    "V0   = V[0]\n",
    "ca   = comp_050mM[1]\n",
    "Na   = 24\n",
    "f    = ca*V0\n",
    "X1   = (na0 - f)**2\n",
    "X2   = ca*(Na - (na0 - f))\n",
    "C    = chi(Na, lb, R, *comp_050mM) / Na\n",
    "Y    = na0 / f\n",
    "\n",
    "lnK0 = np.log(X1/X2) - C*(X2/ca) - na0/f #- np.log(Vb)\n",
    "print(np.exp(lnK0), np.sqrt(X1))"
   ]
  },
  {
   "cell_type": "code",
   "execution_count": 24,
   "metadata": {},
   "outputs": [
    {
     "data": {
      "text/plain": [
       "[<matplotlib.lines.Line2D at 0x7ff5193d0b00>,\n",
       " <matplotlib.lines.Line2D at 0x7ff5193d0c50>]"
      ]
     },
     "execution_count": 24,
     "metadata": {},
     "output_type": "execute_result"
    },
    {
     "data": {
      "image/png": "[encoded data removed]",
      "text/plain": [
       "<Figure size 432x288 with 1 Axes>"
      ]
     },
     "metadata": {
      "needs_background": "light"
     },
     "output_type": "display_data"
    }
   ],
   "source": [
    "conc = [32.758, 98.836, 131.774, 496.163]\n",
    "K0_with_v0   = [1.2476959818147286, 6.402977664429093,\\\n",
    "                8.254664198187992, 2.410197086036613]\n",
    "K0_without_v0 = [ 10.83405118942551, 27.09747679233088,\\\n",
    "                 30.393214245268286, 7.338979677407909]\n",
    "\n",
    "plt.plot(conc, K0_with_v0, conc, K0_without_v0)"
   ]
  },
  {
   "cell_type": "code",
   "execution_count": 141,
   "metadata": {},
   "outputs": [],
   "source": [
    "import MDAnalysis as mda\n",
    "mda?"
   ]
  },
  {
   "cell_type": "code",
   "execution_count": 34,
   "metadata": {},
   "outputs": [
    {
     "name": "stdout",
     "output_type": "stream",
     "text": [
      "[1.  2.  3.1]\n",
      "<class 'numpy.ndarray'>\n"
     ]
    }
   ],
   "source": [
    "a = [1.0, 2.0, 3.1]\n",
    "b = np.array(a)\n",
    "print(b)\n",
    "print(type(b))\n",
    "np.random."
   ]
  },
  {
   "cell_type": "code",
   "execution_count": null,
   "metadata": {},
   "outputs": [],
   "source": [
    "'''\n",
    "    y3  = np.power(y,3)\n",
    "    xyy = np.multiply(x, np.power(y,2))\n",
    "    xxy = np.multiply(np.power(x,2), y)\n",
    "    xb_yy = np.multiply(xb, np.power(y,2))\n",
    "    xb_xx = np.multiply(xb, np.power(x,2))\n",
    "    xb_xy = np.multiply(xb, np.multiply(x, y))\n",
    "    \n",
    "    \n",
    "    eq1 = a*y_3 + 2*a*xyy + a*xxy + (-kb)*xb_yy +\\\n",
    "          (-2*a - b)*np.power(y,2)+(-kb)*xb_xx + (-2*kb)*xb_xy\n",
    "'''"
   ]
  }
 ],
 "metadata": {
  "kernelspec": {
   "display_name": "Python 3",
   "language": "python",
   "name": "python3"
  },
  "language_info": {
   "codemirror_mode": {
    "name": "ipython",
    "version": 3
   },
   "file_extension": ".py",
   "mimetype": "text/x-python",
   "name": "python",
   "nbconvert_exporter": "python",
   "pygments_lexer": "ipython3",
   "version": "3.6.8"
  }
 },
 "nbformat": 4,
 "nbformat_minor": 2
}

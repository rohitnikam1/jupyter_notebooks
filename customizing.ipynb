{
 "cells": [
  {
   "cell_type": "code",
   "execution_count": 1,
   "metadata": {},
   "outputs": [],
   "source": [
    "%matplotlib inline"
   ]
  },
  {
   "cell_type": "markdown",
   "metadata": {},
   "source": [
    "\n",
    "Customizing Matplotlib with style sheets and rcParams\n",
    "=====================================================\n",
    "\n",
    "Tips for customizing the properties and default styles of Matplotlib.\n",
    "\n",
    "Using style sheets\n",
    "------------------\n",
    "\n",
    "The ``style`` package adds support for easy-to-switch plotting \"styles\" with\n",
    "the same parameters as a\n",
    "`matplotlib rc <customizing-with-matplotlibrc-files>` file (which is read\n",
    "at startup to configure matplotlib).\n",
    "\n",
    "There are a number of pre-defined styles `provided by Matplotlib`_. For\n",
    "example, there's a pre-defined style called \"ggplot\", which emulates the\n",
    "aesthetics of ggplot_ (a popular plotting package for R_). To use this style,\n",
    "just add:\n",
    "\n"
   ]
  },
  {
   "cell_type": "code",
   "execution_count": null,
   "metadata": {},
   "outputs": [],
   "source": [
    "import numpy as np\n",
    "import matplotlib.pyplot as plt\n",
    "import matplotlib as mpl\n",
    "plt.style.use('ggplot')\n",
    "data = np.random.randn(50)"
   ]
  },
  {
   "cell_type": "markdown",
   "metadata": {},
   "source": [
    "To list all available styles, use:\n",
    "\n"
   ]
  },
  {
   "cell_type": "code",
   "execution_count": null,
   "metadata": {},
   "outputs": [],
   "source": [
    "print(plt.style.available)"
   ]
  },
  {
   "cell_type": "markdown",
   "metadata": {},
   "source": [
    "Defining your own style\n",
    "-----------------------\n",
    "\n",
    "You can create custom styles and use them by calling ``style.use`` with the\n",
    "path or URL to the style sheet. Additionally, if you add your\n",
    "``<style-name>.mplstyle`` file to ``mpl_configdir/stylelib``, you can reuse\n",
    "your custom style sheet with a call to ``style.use(<style-name>)``. By default\n",
    "``mpl_configdir`` should be ``~/.config/matplotlib``, but you can check where\n",
    "yours is with ``matplotlib.get_configdir()``; you may need to create this\n",
    "directory. You also can change the directory where matplotlib looks for\n",
    "the stylelib/ folder by setting the MPLCONFIGDIR environment variable,\n",
    "see `locating-matplotlib-config-dir`.\n",
    "\n",
    "Note that a custom style sheet in ``mpl_configdir/stylelib`` will\n",
    "override a style sheet defined by matplotlib if the styles have the same name.\n",
    "\n",
    "For example, you might want to create\n",
    "``mpl_configdir/stylelib/presentation.mplstyle`` with the following::\n",
    "\n",
    "   axes.titlesize : 24\n",
    "   axes.labelsize : 20\n",
    "   lines.linewidth : 3\n",
    "   lines.markersize : 10\n",
    "   xtick.labelsize : 16\n",
    "   ytick.labelsize : 16\n",
    "\n",
    "Then, when you want to adapt a plot designed for a paper to one that looks\n",
    "good in a presentation, you can just add::\n",
    "\n",
    "   >>> import matplotlib.pyplot as plt\n",
    "   >>> plt.style.use('presentation')\n",
    "\n",
    "\n",
    "Composing styles\n",
    "----------------\n",
    "\n",
    "Style sheets are designed to be composed together. So you can have a style\n",
    "sheet that customizes colors and a separate style sheet that alters element\n",
    "sizes for presentations. These styles can easily be combined by passing\n",
    "a list of styles::\n",
    "\n",
    "   >>> import matplotlib.pyplot as plt\n",
    "   >>> plt.style.use(['dark_background', 'presentation'])\n",
    "\n",
    "Note that styles further to the right will overwrite values that are already\n",
    "defined by styles on the left.\n",
    "\n",
    "\n",
    "Temporary styling\n",
    "-----------------\n",
    "\n",
    "If you only want to use a style for a specific block of code but don't want\n",
    "to change the global styling, the style package provides a context manager\n",
    "for limiting your changes to a specific scope. To isolate your styling\n",
    "changes, you can write something like the following:\n",
    "\n"
   ]
  },
  {
   "cell_type": "code",
   "execution_count": null,
   "metadata": {},
   "outputs": [],
   "source": [
    "with plt.style.context(('dark_background')):\n",
    "    plt.plot(np.sin(np.linspace(0, 2 * np.pi)), 'r-o')\n",
    "plt.show()"
   ]
  },
  {
   "cell_type": "markdown",
   "metadata": {},
   "source": [
    "\n",
    "matplotlib rcParams\n",
    "===================\n",
    "\n",
    "\n",
    "Dynamic rc settings\n",
    "-------------------\n",
    "\n",
    "You can also dynamically change the default rc settings in a python script or\n",
    "interactively from the python shell. All of the rc settings are stored in a\n",
    "dictionary-like variable called :data:`matplotlib.rcParams`, which is global to\n",
    "the matplotlib package. rcParams can be modified directly, for example:\n",
    "\n"
   ]
  },
  {
   "cell_type": "code",
   "execution_count": null,
   "metadata": {},
   "outputs": [],
   "source": [
    "mpl.rcParams['lines.linewidth'] = 2\n",
    "mpl.rcParams['lines.color'] = 'r'\n",
    "plt.plot(data)"
   ]
  },
  {
   "cell_type": "markdown",
   "metadata": {},
   "source": [
    "Matplotlib also provides a couple of convenience functions for modifying rc\n",
    "settings. The :func:`matplotlib.rc` command can be used to modify multiple\n",
    "settings in a single group at once, using keyword arguments:\n",
    "\n"
   ]
  },
  {
   "cell_type": "code",
   "execution_count": null,
   "metadata": {},
   "outputs": [],
   "source": [
    "mpl.rc('lines', linewidth=4, color='g')\n",
    "plt.plot(data)"
   ]
  },
  {
   "cell_type": "markdown",
   "metadata": {},
   "source": [
    "The :func:`matplotlib.rcdefaults` command will restore the standard matplotlib\n",
    "default settings.\n",
    "\n",
    "There is some degree of validation when setting the values of rcParams, see\n",
    ":mod:`matplotlib.rcsetup` for details.\n",
    "\n",
    "\n",
    "The :file:`matplotlibrc` file\n",
    "-----------------------------\n",
    "\n",
    "matplotlib uses :file:`matplotlibrc` configuration files to customize all kinds\n",
    "of properties, which we call `rc settings` or `rc parameters`. You can control\n",
    "the defaults of almost every property in matplotlib: figure size and dpi, line\n",
    "width, color and style, axes, axis and grid properties, text and font\n",
    "properties and so on. matplotlib looks for :file:`matplotlibrc` in four\n",
    "locations, in the following order:\n",
    "\n",
    "1. :file:`matplotlibrc` in the current working directory, usually used for\n",
    "   specific customizations that you do not want to apply elsewhere.\n",
    "\n",
    "2. :file:`$MATPLOTLIBRC` if it is a file, else :file:`$MATPLOTLIBRC/matplotlibrc`.\n",
    "\n",
    "3. It next looks in a user-specific place, depending on your platform:\n",
    "\n",
    "   - On Linux and FreeBSD, it looks in :file:`.config/matplotlib/matplotlibrc`\n",
    "     (or `$XDG_CONFIG_HOME/matplotlib/matplotlibrc`) if you've customized\n",
    "     your environment.\n",
    "\n",
    "   - On other platforms, it looks in :file:`.matplotlib/matplotlibrc`.\n",
    "\n",
    "   See `locating-matplotlib-config-dir`.\n",
    "\n",
    "4. :file:`{INSTALL}/matplotlib/mpl-data/matplotlibrc`, where\n",
    "   :file:`{INSTALL}` is something like\n",
    "   :file:`/usr/lib/python3.5/site-packages` on Linux, and maybe\n",
    "   :file:`C:\\\\Python35\\\\Lib\\\\site-packages` on Windows. Every time you\n",
    "   install matplotlib, this file will be overwritten, so if you want\n",
    "   your customizations to be saved, please move this file to your\n",
    "   user-specific matplotlib directory.\n",
    "\n",
    "Once a :file:`matplotlibrc` file has been found, it will *not* search any of\n",
    "the other paths.\n",
    "\n",
    "To display where the currently active :file:`matplotlibrc` file was\n",
    "loaded from, one can do the following::\n",
    "\n",
    "  >>> import matplotlib\n",
    "  >>> matplotlib.matplotlib_fname()\n",
    "  '/home/foo/.config/matplotlib/matplotlibrc'\n",
    "\n",
    "See below for a sample `matplotlibrc file<matplotlibrc-sample>`.\n",
    "Although all parameters are optional, you should almost always set the\n",
    "`backend` or else matplotlib will choose `Agg`, a *non-interactive* backend.\n",
    "This can lead to unexpected behavior, since if you do not have a\n",
    ":file:`matplotlibrc` file, it would normally fall back to\n",
    ":file:`{INSTALL}/matplotlib/mpl-data/matplotlibrc`, which is often set to an\n",
    "interactive backend by the package maintainer.\n",
    "\n",
    "\n",
    "A sample matplotlibrc file\n",
    "~~~~~~~~~~~~~~~~~~~~~~~~~~\n",
    "\n",
    ".. literalinclude:: ../../../matplotlibrc.template\n",
    "\n",
    "\n",
    "\n"
   ]
  }
 ],
 "metadata": {
  "kernelspec": {
   "display_name": "Python 3",
   "language": "python",
   "name": "python3"
  },
  "language_info": {
   "codemirror_mode": {
    "name": "ipython",
    "version": 3
   },
   "file_extension": ".py",
   "mimetype": "text/x-python",
   "name": "python",
   "nbconvert_exporter": "python",
   "pygments_lexer": "ipython3",
   "version": "3.6.6"
  }
 },
 "nbformat": 4,
 "nbformat_minor": 1
}

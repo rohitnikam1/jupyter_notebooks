{
 "cells": [
  {
   "cell_type": "code",
   "execution_count": 11,
   "metadata": {},
   "outputs": [
    {
     "data": {
      "text/html": [
       "        <script type=\"text/javascript\">\n",
       "        window.PlotlyConfig = {MathJaxConfig: 'local'};\n",
       "        if (window.MathJax) {MathJax.Hub.Config({SVG: {font: \"STIX-Web\"}});}\n",
       "        if (typeof require !== 'undefined') {\n",
       "        require.undef(\"plotly\");\n",
       "        requirejs.config({\n",
       "            paths: {\n",
       "                'plotly': ['https://cdn.plot.ly/plotly-latest.min']\n",
       "            }\n",
       "        });\n",
       "        require(['plotly'], function(Plotly) {\n",
       "            window._Plotly = Plotly;\n",
       "        });\n",
       "        }\n",
       "        </script>\n",
       "        "
      ]
     },
     "metadata": {},
     "output_type": "display_data"
    }
   ],
   "source": [
    "import numpy as np\n",
    "%matplotlib inline \n",
    "#notebook\n",
    "import matplotlib.pyplot as plt\n",
    "from matplotlib.ticker import (MultipleLocator, AutoMinorLocator, FormatStrFormatter)\n",
    "from scipy.optimize import fsolve\n",
    "import pandas as pd\n",
    "import warnings\n",
    "import pickle\n",
    "import functions_binding_model as bfunc \n",
    "import plotly as py\n",
    "import plotly.graph_objs as go\n",
    "\n",
    "py.offline.init_notebook_mode(connected=True)\n",
    "\n",
    "np.seterr(all = 'raise')\n",
    "warnings.filterwarnings('error')\n",
    "\n",
    "from matplotlib import rc\n",
    "rc('font',**{'family':'sans-serif','sans-serif':['Helvetica']})\n",
    "## for Palatino and other serif fonts use:\n",
    "#rc('font',**{'family':'serif','serif':['Palatino']})\n",
    "rc('text', usetex = True)\n",
    "plt.rc('text', usetex = True)\n",
    "plt.rc('font', family = 'serif')"
   ]
  },
  {
   "cell_type": "markdown",
   "metadata": {},
   "source": [
    "## McGhee-von Hippel-Manning model"
   ]
  },
  {
   "cell_type": "code",
   "execution_count": 2,
   "metadata": {},
   "outputs": [],
   "source": [
    "Na            = 34\n",
    "Nb            = 0.5*Na\n",
    "lb            = 0.7                 # Bjerrum length (nm) for SPC/E water at 300K is 0.78\n",
    "R             = 1.8                 # dPGS radius nm\n",
    "alpha         = 1.36                # eps / eps* = (T* / T)^alpha\n",
    "vol_init      = 1.43                # mililitres initial titration volume\n",
    "vol_injection = 8.00e-3             # mililitres injection volume\n",
    "gas_constant  = 8.3144598           # J/K/mol\n",
    "Temperature   = 300                 # K\n",
    "std_volume    = 0.6022140857        # Standard volume L/mol\n",
    "\n",
    "cal_per_mol_to_J_per_mol  = 4.184\n",
    "J_per_mol_to_kT           = gas_constant*Temperature\n",
    "cal_per_mol_to_kT         = cal_per_mol_to_J_per_mol / J_per_mol_to_kT\n",
    "\n",
    "def kappa(I_num_per_nm3):\n",
    "    #I_num_per_nm3 = I_mmolar * std_volume / 1000\n",
    "    return (8 * np.pi * lb * I_num_per_nm3 )**(0.5) \n",
    "\n",
    "\n",
    "def zeta(I_num_per_nm3):\n",
    "    return  Na * lb / R / (1 + R*kappa(I_num_per_nm3)) \n",
    "\n",
    "\n",
    "def chi(I_num_per_nm3):\n",
    "    return 0.5 * zeta(I_num_per_nm3) * (1 + 1/(1 + R*kappa(I_num_per_nm3))) * (alpha - 1)\n",
    "\n",
    "\n",
    "def ionic_strength(injection_number, I_buffer, conc_mg_injectant):\n",
    "    \n",
    "    '''I_buffer = combined ionic strength of MOPS and NaCl I_nacl\n",
    "       = ionic strength of NaCl'''\n",
    "    \n",
    "    conc_mg_solution = conc_mg_injectant * injection_number * vol_injection\\\n",
    "                       / (vol_init + injection_number*vol_injection)\n",
    "    \n",
    "    I_mgcl2 = 3*conc_mg_solution\n",
    "    \n",
    "    I_total = I_buffer + I_mgcl2\n",
    "    \n",
    "    return I_total\n",
    "\n",
    "\n",
    "def running_avg(x, neighbours = 2):\n",
    "    return np.convolve(x, np.ones((neighbours,))/neighbours, mode='valid')"
   ]
  },
  {
   "cell_type": "code",
   "execution_count": 3,
   "metadata": {},
   "outputs": [
    {
     "name": "stdout",
     "output_type": "stream",
     "text": [
      "   conc  mg_bound  mg_total  na_bound  na_total\n",
      "0     0      0.00         0      13.2      2438\n",
      "1     1      2.25        16      10.2      2438\n",
      "2     3      3.98        48       8.4      2438\n",
      "3     5      4.88        61       7.3      2438\n",
      "4    10      6.14       162       6.3      2438\n",
      "5    15      6.72       243       5.7      2438\n"
     ]
    }
   ],
   "source": [
    "data = pd.read_csv(\"cg-g2-bound-counterions.csv\", sep = ',', index_col = None)\n",
    "\n",
    "print(data)"
   ]
  },
  {
   "cell_type": "markdown",
   "metadata": {},
   "source": [
    "## Getting ITC data"
   ]
  },
  {
   "cell_type": "code",
   "execution_count": 12,
   "metadata": {
    "scrolled": false
   },
   "outputs": [
    {
     "data": {
      "image/png": "[encoded data removed]",
      "text/plain": [
       "<Figure size 432x288 with 1 Axes>"
      ]
     },
     "metadata": {
      "needs_background": "light"
     },
     "output_type": "display_data"
    },
    {
     "data": {
      "image/png": "[encoded data removed]",
      "text/plain": [
       "<Figure size 432x288 with 1 Axes>"
      ]
     },
     "metadata": {
      "needs_background": "light"
     },
     "output_type": "display_data"
    }
   ],
   "source": [
    "itc_data = pd.read_csv(\"/home/rohit/google-drive/magnesium/itc/data.csv\",\\\n",
    "                       sep = ',', index_col = None)\n",
    "\n",
    "\n",
    "xb_0_8mM, xb_1_7mM, xb_2_5mM = np.array(itc_data[\"ratio_0_8mM\"].dropna()),\\\n",
    "                               np.array(itc_data[\"ratio_1_7mM\"]),\\\n",
    "                               np.array(itc_data[\"ratio_2_5mM\"])\n",
    "\n",
    "q_0_8mM, q_1_7mM, q_2_5mM    = np.array(itc_data[\"q_0_8mM\"].dropna()) * cal_per_mol_to_J_per_mol,\\\n",
    "                               np.array(itc_data[\"q_1_7mM\"]) * cal_per_mol_to_J_per_mol,\\\n",
    "                               np.array(itc_data[\"q_2_5mM\"]) * cal_per_mol_to_J_per_mol\n",
    "\n",
    "q_0_8mM_per_mg, q_1_7mM_per_mg, q_2_5mM_per_mg = q_0_8mM / (gas_constant*Temperature),\\\n",
    "                                                 q_1_7mM / (gas_constant*Temperature),\\\n",
    "                                                 q_2_5mM / (gas_constant*Temperature)\n",
    "\n",
    "q_0_8mM_per_d, q_1_7mM_per_d, q_2_5mM_per_d    = q_0_8mM_per_mg * xb_0_8mM ,\\\n",
    "                                                 q_1_7mM_per_mg * xb_1_7mM ,\\\n",
    "                                                 q_2_5mM_per_mg * xb_2_5mM\n",
    "\n",
    "\n",
    "plt.plot(xb_0_8mM, q_0_8mM_per_d,\\\n",
    "         marker = 'o', linestyle = '--', markersize = 4, \\\n",
    "         label = '0.8 mM', color = 'g')\n",
    "\n",
    "plt.plot(xb_1_7mM, q_1_7mM_per_d,\\\n",
    "         marker = 'o', linestyle = '--', markersize = 4, \\\n",
    "         label = '1.7 mM', color = 'r')\n",
    "\n",
    "plt.plot(xb_2_5mM, q_2_5mM_per_d,\\\n",
    "         marker = 'o', linestyle = '--', markersize = 4, \\\n",
    "         label = '2.5 mM', color = 'y')\n",
    "\n",
    "plt.legend()\n",
    "plt.show()\n",
    "\n",
    "\n",
    "plt.plot(xb_0_8mM, q_0_8mM_per_mg,\\\n",
    "         marker = 'o', linestyle = '--', markersize = 4, \\\n",
    "         label = '0.8 mM', color = 'g')\n",
    "\n",
    "plt.plot(xb_1_7mM, q_1_7mM_per_mg,\\\n",
    "         marker = 'o', linestyle = '--', markersize = 4, \\\n",
    "         label = '1.7 mM', color = 'r')\n",
    "\n",
    "plt.plot(xb_2_5mM, q_2_5mM_per_mg,\\\n",
    "         marker = 'o', linestyle = '--', markersize = 4, \\\n",
    "         label = '2.5 mM', color = 'y')\n",
    "\n",
    "plt.legend()\n",
    "plt.show()"
   ]
  },
  {
   "cell_type": "code",
   "execution_count": 151,
   "metadata": {},
   "outputs": [
    {
     "name": "stdout",
     "output_type": "stream",
     "text": [
      "-rw------- 1 rohit rohit 5.7K May 13 14:18 solution_with_errormg_0_8mM_ka_-9_0_kb_-5_25_reff_0.7_1.8.p\r\n",
      "-rw------- 1 rohit rohit  36K May 13 14:18 solution_with_error_mg_0_8mM_ka_-9_0_kb_-5_25_reff_0.7_1.8.p\r\n",
      "-rw------- 1 rohit rohit  37K May 13 20:35 solution_with_error_mg_2_5mM_ka_-9_0_kb_-5_25_reff_0.7_1.8.p\r\n",
      "-rw------- 1 rohit rohit  37K May 13 20:35 solution_with_error_mg_1_7mM_ka_-9_0_kb_-5_25_reff_0.7_1.8.p\r\n"
     ]
    }
   ],
   "source": [
    "!ls -lrth solution_with_*"
   ]
  },
  {
   "cell_type": "markdown",
   "metadata": {},
   "source": [
    "## Solving "
   ]
  },
  {
   "cell_type": "code",
   "execution_count": 7,
   "metadata": {
    "scrolled": false
   },
   "outputs": [
    {
     "data": {
      "text/plain": [
       "'\\ndecrease reff\\nvary xb_start\\nchi array last element\\ntry without mixing entropy\\ntry first chi element\\n'"
      ]
     },
     "execution_count": 7,
     "metadata": {},
     "output_type": "execute_result"
    }
   ],
   "source": [
    "##sol, df = func.open_and_assign(\"solution_mg_1_7mM_ka_-15_0_kb_-10_25_reff_0.793_0.986.p\")\n",
    "sol, df = bfunc.open_and_assign(\"solution_mg_0_8mM_ka_-10_10_kb_-10_20_reff_0.7_1.4.p\")\n",
    "##sol, df = func.open_and_assign(\"solution_mg_0_8mM_ka_-10_10_kb_-10_20_reff_0.7_1.4.p\")\n",
    "##sol, df = func.open_and_assign(\"solution_mg_2_5mM_ka_-10_0_kb_-10_20_reff_0.729_0.827.p\")\n",
    "\n",
    "#print(df['error'], df.index)\n",
    "'''\n",
    "print(sol['rel_error'],2*'\\n',\\\n",
    "      sol['ka0'], 2*'\\n',\\\n",
    "      sol['kb0'], 2*'\\n',\\\n",
    "      sol['theta_a'], 2*'\\n',\\\n",
    "      sol['theta_b'], 2*'\\n',\\\n",
    "      sol['q_per_mg'], 2*'\\n',\n",
    "      df) \n",
    "'''      \n",
    "'''\n",
    "decrease reff\n",
    "vary xb_start\n",
    "chi array last element\n",
    "try without mixing entropy\n",
    "try first chi element\n",
    "'''"
   ]
  },
  {
   "cell_type": "code",
   "execution_count": 8,
   "metadata": {
    "scrolled": true
   },
   "outputs": [
    {
     "data": {
      "application/vnd.plotly.v1+json": {
       "config": {
        "linkText": "Export to plot.ly",
        "plotlyServerURL": "https://plot.ly",
        "responsive": true,
        "showLink": false
       },
       "data": [
        {
         "mode": "lines",
         "type": "scatter",
         "uid": "76773faf-16b1-4755-b648-02c155c6ac38",
         "x": [
          0.7,
          0.75,
          0.8,
          0.85,
          0.9,
          0.95,
          1,
          1.05,
          1.1,
          1.15,
          1.2,
          1.25,
          1.3,
          1.35,
          1.4
         ],
         "y": [
          6.543039999999998,
          8.369239999999998,
          9.577599999999997,
          5.139510000000001,
          4.064770000000003,
          2.70317,
          5.105829999999997,
          3.843119999999999,
          9.04249,
          10.903120000000001,
          12.019460000000002,
          12.676430000000003,
          13.263379999999998,
          13.342440000000003,
          12.37773
         ]
        }
       ],
       "layout": {
        "title": {
         "text": "error vs reff"
        },
        "xaxis": {
         "title": {
          "text": "reff"
         }
        },
        "yaxis": {
         "title": {
          "text": "% error"
         }
        }
       }
      },
      "text/html": [
       "<div>\n",
       "        \n",
       "        \n",
       "            <div id=\"e0de441a-38cb-4490-826e-8aacc127ee74\" class=\"plotly-graph-div\" style=\"height:525px; width:100%;\"></div>\n",
       "            <script type=\"text/javascript\">\n",
       "                require([\"plotly\"], function(Plotly) {\n",
       "                    window.PLOTLYENV=window.PLOTLYENV || {};\n",
       "                    window.PLOTLYENV.BASE_URL='https://plot.ly';\n",
       "                    \n",
       "                if (document.getElementById(\"e0de441a-38cb-4490-826e-8aacc127ee74\")) {\n",
       "                    Plotly.newPlot(\n",
       "                        'e0de441a-38cb-4490-826e-8aacc127ee74',\n",
       "                        [{\"mode\": \"lines\", \"type\": \"scatter\", \"uid\": \"54c681d7-c92e-4735-a46b-ede541409d3d\", \"x\": [0.7, 0.75, 0.8, 0.85, 0.9, 0.95, 1.0, 1.05, 1.1, 1.15, 1.2, 1.25, 1.3, 1.35, 1.4], \"y\": [6.543039999999998, 8.369239999999998, 9.577599999999997, 5.139510000000001, 4.064770000000003, 2.70317, 5.105829999999997, 3.843119999999999, 9.04249, 10.903120000000001, 12.019460000000002, 12.676430000000003, 13.263379999999998, 13.342440000000003, 12.37773]}],\n",
       "                        {\"title\": {\"text\": \"error vs reff\"}, \"xaxis\": {\"title\": {\"text\": \"reff\"}}, \"yaxis\": {\"title\": {\"text\": \"% error\"}}},\n",
       "                        {\"showLink\": false, \"linkText\": \"Export to plot.ly\", \"plotlyServerURL\": \"https://plot.ly\", \"responsive\": true}\n",
       "                    ).then(function(){\n",
       "                            \n",
       "var gd = document.getElementById('e0de441a-38cb-4490-826e-8aacc127ee74');\n",
       "var x = new MutationObserver(function (mutations, observer) {{\n",
       "        var display = window.getComputedStyle(gd).display;\n",
       "        if (!display || display === 'none') {{\n",
       "            console.log([gd, 'removed!']);\n",
       "            Plotly.purge(gd);\n",
       "            observer.disconnect();\n",
       "        }}\n",
       "}});\n",
       "\n",
       "// Listen for the removal of the full notebook cells\n",
       "var notebookContainer = gd.closest('#notebook-container');\n",
       "if (notebookContainer) {{\n",
       "    x.observe(notebookContainer, {childList: true});\n",
       "}}\n",
       "\n",
       "// Listen for the clearing of the current output cell\n",
       "var outputEl = gd.closest('.output');\n",
       "if (outputEl) {{\n",
       "    x.observe(outputEl, {childList: true});\n",
       "}}\n",
       "\n",
       "                        })\n",
       "                };\n",
       "                });\n",
       "            </script>\n",
       "        </div>"
      ]
     },
     "metadata": {},
     "output_type": "display_data"
    }
   ],
   "source": [
    "layout = go.Layout(\n",
    "    title = 'error vs reff',\n",
    "    yaxis = dict(\n",
    "        title = '% error'\n",
    "    ),\n",
    "    xaxis = dict(\n",
    "        title = 'reff'\n",
    "    )\n",
    ")\n",
    "\n",
    "trace = go.Scatter(\n",
    "    x = df.index,\n",
    "    y = df['error']-30,\n",
    "    mode = 'lines'\n",
    ")\n",
    "\n",
    "fig = go.Figure(data = [trace], layout = layout)\n",
    "py.offline.iplot(fig)"
   ]
  },
  {
   "cell_type": "code",
   "execution_count": 97,
   "metadata": {},
   "outputs": [
    {
     "data": {
      "text/plain": [
       "'\\n#plt.plot(keylist[3:-2], error_list_1_7[3:-2])\\n#plt.plot(keylist[3:-8], error_list_2_5[3:-8])\\n'"
      ]
     },
     "execution_count": 97,
     "metadata": {},
     "output_type": "execute_result"
    },
    {
     "data": {
      "image/png": "[encoded data removed]",
      "text/plain": [
       "<Figure size 432x288 with 1 Axes>"
      ]
     },
     "metadata": {
      "needs_background": "light"
     },
     "output_type": "display_data"
    }
   ],
   "source": [
    "sol_0_8 = bfunc.open_and_assign(\"solution_with_error_mg_0_8mM_ka_-9_0_kb_-5_25_reff_0.7_1.8.p\")\n",
    "sol_1_7, df_1_7 = bfunc.open_and_assign(\"solution_mg_1_7mM_ka_-10_30_kb_-10_30_reff_0.6_1.5.p\")\n",
    "sol_2_5, df_2_5 = bfunc.open_and_assign(\"solution_mg_2_5mM_ka_-10_30_kb_-10_30_reff_0.6_1.5.p\")\n",
    "\n",
    "error_list_0_8 = []\n",
    "\n",
    "for key in sol_0_8.keys():\n",
    "    error_list_0_8.append(sol_0_8[key]['error'])\n",
    "    #error_list_1_7.append(sol_1_7[key]['error'])\n",
    "    #error_list_2_5.append(sol_2_5[key]['error'])\n",
    "    \n",
    "error_list_0_8 = np.concatenate(error_list_0_8, axis=None)\n",
    "#error_list_1_7 = np.concatenate(error_list_1_7, axis=None)\n",
    "#error_list_2_5 = np.concatenate(error_list_2_5, axis=None)\n",
    "\n",
    "keylist = list(sol_0_8.keys())\n",
    "\n",
    "fig = plt.figure() #figsize = [4., 4.]\n",
    "ax  = fig.add_subplot(111)\n",
    "\n",
    "plt.plot(keylist[2:-1], error_list_0_8[2:-1], marker = 'o', markersize = 6,\\\n",
    "         linestyle = '--', color = '#FFBE61',\\\n",
    "         label = r\"$\\displaystyle [{\\rm Mg^{2+}}] = 0.8$\" ' mM')\n",
    "plt.plot(df_1_7['error'], marker = '^', markersize = 6,\\\n",
    "         linestyle = '--', color = '#61FF62',\\\n",
    "         label = r\"$\\displaystyle [{\\rm Mg^{2+}}] = 1.7$\" ' mM')\n",
    "plt.plot(df_2_5['error'], marker = '<', markersize = 6,\\\n",
    "         linestyle = '--', color = '#D961FF',\\\n",
    "         label = r\"$\\displaystyle [{\\rm Mg^{2+}}] = 2.5$\" ' mM')\n",
    "\n",
    "# Custom x axis\n",
    "ax.tick_params(labelsize = 15)\n",
    "plt.grid(True)\n",
    "ax.tick_params(which = 'major', direction = 'in', length = 8, top = True, right = True)\n",
    "ax.tick_params(which = 'minor', direction = 'in', length = 4, top = True, right = True)\n",
    "\n",
    "ax.tick_params(labelsize = 15, grid_alpha = 0.2, grid_linestyle = '--')\n",
    "ax.set_axisbelow(True)\n",
    "\n",
    "ax.yaxis.set_major_locator(MultipleLocator(5))\n",
    "ax.yaxis.set_minor_locator(AutoMinorLocator(5)) \n",
    "ax.xaxis.set_major_locator(MultipleLocator(.2))\n",
    "ax.xaxis.set_minor_locator(AutoMinorLocator(5)) \n",
    "\n",
    "xlabel = r\"$\\displaystyle r_{\\rm eff}$\" ' (nm)'\n",
    "ylabel = r\"$\\displaystyle \\%$\" ' Error'\n",
    "plt.xlabel(xlabel, fontsize = 17)\n",
    "plt.ylabel(ylabel, fontsize = 17)\n",
    "plt.legend(fontsize = 16, loc='upper left', bbox_to_anchor=(1,1), ncol=1)\n",
    "plt.plot()\n",
    "\n",
    "# Show graphic\n",
    "#plt.show()\n",
    "file_save_address = '/home/rohit/google-drive/magnesium/mg-netz/report-retreat/images-mg/'\n",
    "#plt.savefig(file_save_address + 'error_vs_reff.png',\\\n",
    "             #bbox_inches = 'tight', dpi = 200)\n",
    "\n",
    "'''\n",
    "#plt.plot(keylist[3:-2], error_list_1_7[3:-2])\n",
    "#plt.plot(keylist[3:-8], error_list_2_5[3:-8])\n",
    "'''"
   ]
  },
  {
   "cell_type": "code",
   "execution_count": 4,
   "metadata": {},
   "outputs": [
    {
     "name": "stdout",
     "output_type": "stream",
     "text": [
      "       error        ka0        kb0\n",
      "0.729  39.62 -10.000000  -9.699248\n",
      "0.736  23.71  -9.949749  18.345865\n",
      "0.743  39.13 -10.000000  -9.699248\n",
      "0.750  23.20  -9.899497  17.744361\n",
      "0.757  22.81  -9.899497  17.518797\n",
      "0.764  22.82 -10.000000  17.218045\n",
      "0.771  22.66 -10.000000  17.218045\n",
      "0.778  22.70  -9.899497  17.368421\n",
      "0.785  22.64  -9.899497  17.218045\n",
      "0.792  22.69  -9.849246  16.015038\n",
      "0.799  22.74  -9.899497  16.090226\n",
      "0.806  22.86  -9.648241  17.368421\n",
      "0.813  23.01  -9.497487  17.443609\n",
      "0.820  23.13  -9.396985  17.443609\n",
      "0.827  23.55  -9.095477  17.669173\n",
      "[30.67466] [27.59817] [22.64]\n",
      "[0.00161476] [0.00036538] [5.01999018e-05]\n",
      "[7.17763364e+09] [1.84856003e+08] [30040142.02710501]\n"
     ]
    }
   ],
   "source": [
    "data_0_8mM_itc = bfunc.get_exp_data('/home/rohit/google-drive/magnesium/itc/data.csv',\\\n",
    "                                    'mg_0_8mM')\n",
    "data_1_7mM_itc = bfunc.get_exp_data('/home/rohit/google-drive/magnesium/itc/data.csv',\\\n",
    "                                    'mg_1_7mM')\n",
    "data_2_5mM_itc = bfunc.get_exp_data('/home/rohit/google-drive/magnesium/itc/data.csv',\\\n",
    "                                    'mg_2_5mM')\n",
    "\n",
    "q_0_8mM_itc = data_0_8mM_itc['q_array']\n",
    "xb_0_8mM_itc= data_0_8mM_itc['xb_array']\n",
    "q_1_7mM_itc = data_1_7mM_itc['q_array']\n",
    "xb_1_7mM_itc= data_1_7mM_itc['xb_array']\n",
    "q_2_5mM_itc = data_2_5mM_itc['q_array']\n",
    "xb_2_5mM_itc= data_2_5mM_itc['xb_array']\n",
    "\n",
    "sol_0_8, df_0_8 = bfunc.open_and_assign(\"solution_mg_0_8mM_ka_-9_0_kb_5_25_reff_0.85_1.029.p\")\n",
    "sol_1_7, df_1_7 = bfunc.open_and_assign(\"solution_mg_1_7mM_ka_-15_0_kb_-10_25_reff_0.793_0.986.p\")\n",
    "sol_2_5, df_2_5 = bfunc.open_and_assign(\"solution_mg_2_5mM_ka_-10_0_kb_-10_20_reff_0.729_0.827.p\")\n",
    "\n",
    "print(df_2_5)\n",
    "\n",
    "\n",
    "print(sol_0_8['rel_error'], sol_1_7['rel_error'], sol_2_5['rel_error'])\n",
    "print(np.exp(sol_0_8['ka0']), np.exp(sol_1_7['ka0']), np.exp(sol_2_5['ka0']))\n",
    "print(np.exp(sol_0_8['kb0']), np.exp(sol_1_7['kb0']), np.exp(sol_2_5['kb0']))"
   ]
  },
  {
   "cell_type": "code",
   "execution_count": 167,
   "metadata": {},
   "outputs": [
    {
     "name": "stdout",
     "output_type": "stream",
     "text": [
      "[30.67466] [27.59817] [22.64]\n",
      "[0.00161476] [0.00036538] [5.01999018e-05]\n",
      "[7.17763364e+09] [1.84856003e+08] [30040142.02710501]\n"
     ]
    },
    {
     "data": {
      "image/png": "[encoded data removed]",
      "text/plain": [
       "<Figure size 432x288 with 1 Axes>"
      ]
     },
     "metadata": {
      "needs_background": "light"
     },
     "output_type": "display_data"
    }
   ],
   "source": [
    "fig = plt.figure() #figsize = [4., 4.]\n",
    "ax  = fig.add_subplot(111)\n",
    "\n",
    "plt.plot(xb_0_8mM_itc[:-1], Nb*sol_0_8['theta_b'][0], marker = 'o', markersize = 4,\\\n",
    "         linestyle = '--', color = 'blue',\\\n",
    "         label = r\"0.8 mM\")\n",
    "plt.plot(xb_0_8mM_itc[:-1], Na*sol_0_8['theta_a'][0], marker = '^', markersize = 4,\\\n",
    "         linestyle = '--', color = 'blue',\\\n",
    "         )\n",
    "\n",
    "plt.plot(xb_1_7mM_itc[:-1], Nb*sol_1_7['theta_b'][0][:-1], marker = 'o',\\\n",
    "         markersize = 4, linestyle = '--',\\\n",
    "         label = r\"1.7 mM\", color = 'orange')\n",
    "plt.plot(xb_1_7mM_itc[:-1], Na*sol_1_7['theta_a'][0][:-1], marker = '^',\\\n",
    "         markersize = 4, linestyle = '--',\\\n",
    "         color = 'orange')\n",
    "\n",
    "plt.plot(xb_2_5mM_itc[:], Nb*sol_2_5['theta_b'][0], marker = 'o', markersize = 4,\\\n",
    "         linestyle = '--', color = 'green',\\\n",
    "         label = r\"2.5 mM\")\n",
    "plt.plot(xb_2_5mM_itc[:], Na*sol_2_5['theta_a'][0], marker = '^', markersize = 4,\\\n",
    "         linestyle = '--', color = 'green'\\\n",
    "         )\n",
    "\n",
    "\n",
    "# Custom x axis\n",
    "ax.tick_params(labelsize = 15)\n",
    "plt.grid(True)\n",
    "ax.tick_params(which = 'major', direction = 'in', length = 8, top = True, right = True)\n",
    "ax.tick_params(which = 'minor', direction = 'in', length = 4, top = True, right = True)\n",
    "\n",
    "ax.tick_params(labelsize = 15, grid_alpha = 0.2, grid_linestyle = '--')\n",
    "ax.set_axisbelow(True)\n",
    "\n",
    "ax.yaxis.set_major_locator(MultipleLocator(2))\n",
    "ax.yaxis.set_minor_locator(AutoMinorLocator(5)) \n",
    "ax.xaxis.set_major_locator(MultipleLocator(5))\n",
    "ax.xaxis.set_minor_locator(AutoMinorLocator(5)) \n",
    "\n",
    "xlabel = 'n(Mg' r\"$\\displaystyle ^{2+}$\" ')/n(dPGS)'\n",
    "ylabel = r\"Bound counterions\"\n",
    "#ylabel = r\"$\\displaystyle \\Delta Q/c_{\\rm B}^0 V_0$\" ' (' r\"$\\displaystyle k_{\\rm B}T/$\" 'Mg'\\\n",
    "         #r\"$\\displaystyle ^{2+}$\" ' ion)'\n",
    "plt.xlabel(xlabel, fontsize = 17)\n",
    "plt.ylabel(ylabel, fontsize = 17)\n",
    "plt.legend(fontsize = 16, loc='upper left', bbox_to_anchor=(.6,.7), ncol=1)\n",
    "#plt.legend(fontsize = 16)\n",
    "plt.text(34, 12, r\"[Mg$\\displaystyle ^{2+}$]\" , fontsize = 18)\n",
    "plt.text(20, 13.5, r\"\\bf{Mg}$\\displaystyle ^{2+}$\" , fontsize = 18)\n",
    "plt.text(20, 2, r\"\\bf{Na}$\\displaystyle ^{+}$\" , fontsize = 18)\n",
    "#plt.text(12, 1.5, r\"\\bf{2.5 mM Mg}$\\displaystyle^{2+}$\" , fontsize = 18)\n",
    "\n",
    "# Show graphic\n",
    "#plt.show()\n",
    "file_save_address = '/home/rohit/google-drive/magnesium/mg-netz/report-retreat/images-mg/'\n",
    "#plt.savefig(file_save_address + 'bound_ions_model.png',\\\n",
    "            #bbox_inches = 'tight', dpi = 200)"
   ]
  },
  {
   "cell_type": "markdown",
   "metadata": {},
   "source": [
    "## Calculating free ion fraction from ITC curves"
   ]
  },
  {
   "cell_type": "code",
   "execution_count": 29,
   "metadata": {},
   "outputs": [
    {
     "data": {
      "text/plain": [
       "'\\nfrac[0] = 0\\nfrac[1] = 1- x[0]/x[1]*(q[1]/q[0] + 1)\\n\\nfor i in range(1,len(q)-1):\\n    \\n    frac[i+1] = 1 - (x[i]*(1-frac[i])*(q[i+1]/q[i] + 1) - x[i-1]*(1-frac[i-1])*q[i+1]/q[i])/x[i+1]\\n\\nplt.plot(frac)\\nprint(frac)\\n'"
      ]
     },
     "execution_count": 29,
     "metadata": {},
     "output_type": "execute_result"
    },
    {
     "data": {
      "image/png": "[encoded data removed]",
      "text/plain": [
       "<Figure size 432x288 with 1 Axes>"
      ]
     },
     "metadata": {
      "needs_background": "light"
     },
     "output_type": "display_data"
    }
   ],
   "source": [
    "itc_data = bfunc.open_and_assign(\"itc_data.p\")\n",
    "#print(itc_data)\n",
    "\n",
    "x = itc_data[\"ratio_2_5mM\"]\n",
    "q  = itc_data[\"q_2_5mM\"]\n",
    "\n",
    "frac = np.zeros(len(q))\n",
    "frac[0] = 1\n",
    "frac[1] = x[0]/x[1]*(q[1]/q[0] + 1)\n",
    "\n",
    "for i in range(1,len(q)-1):\n",
    "    \n",
    "    frac[i+1] = (x[i]*frac[i]*(q[i+1]/q[i] + 1) - x[i-1]*frac[i-1]*q[i+1]/q[i])/x[i+1]\n",
    "plt.plot(frac)\n",
    "\n",
    "'''\n",
    "frac[0] = 0\n",
    "frac[1] = 1- x[0]/x[1]*(q[1]/q[0] + 1)\n",
    "\n",
    "for i in range(1,len(q)-1):\n",
    "    \n",
    "    frac[i+1] = 1 - (x[i]*(1-frac[i])*(q[i+1]/q[i] + 1) - x[i-1]*(1-frac[i-1])*q[i+1]/q[i])/x[i+1]\n",
    "\n",
    "plt.plot(frac)\n",
    "print(frac)\n",
    "'''"
   ]
  },
  {
   "cell_type": "code",
   "execution_count": 6,
   "metadata": {},
   "outputs": [
    {
     "data": {
      "text/plain": [
       "'\\nplt.plot(xb_0_8mM_itc[:-1], Na*sol_0_8[\\'theta_a\\'][0], marker = \\'^\\', markersize = 4,         linestyle = \\'--\\', color = \\'blue\\',         )\\n\\nplt.plot(xb_1_7mM_itc[:-1], Nb*sol_1_7[\\'theta_b\\'][0][:-1], marker = \\'o\\',         markersize = 4, linestyle = \\'--\\',         label = r\"1.7 mM\", color = \\'orange\\')\\nplt.plot(xb_1_7mM_itc[:-1], Na*sol_1_7[\\'theta_a\\'][0][:-1], marker = \\'^\\',         markersize = 4, linestyle = \\'--\\',         color = \\'orange\\')\\n\\nplt.plot(xb_2_5mM_itc[:], Nb*sol_2_5[\\'theta_b\\'][0], marker = \\'o\\', markersize = 4,         linestyle = \\'--\\', color = \\'green\\',         label = r\"2.5 mM\")\\nplt.plot(xb_2_5mM_itc[:], Na*sol_2_5[\\'theta_a\\'][0], marker = \\'^\\', markersize = 4,         linestyle = \\'--\\', color = \\'green\\'         )\\n'"
      ]
     },
     "execution_count": 6,
     "metadata": {},
     "output_type": "execute_result"
    },
    {
     "data": {
      "image/png": "[encoded data removed]",
      "text/plain": [
       "<Figure size 432x288 with 1 Axes>"
      ]
     },
     "metadata": {
      "needs_background": "light"
     },
     "output_type": "display_data"
    }
   ],
   "source": [
    "plt.plot(xb_0_8mM_itc[:-1], 1-Nb*sol_0_8['theta_b'][0]/xb_0_8mM_itc[:-1])\n",
    "plt.plot(xb_2_5mM_itc     , 1-Nb*sol_2_5['theta_b'][0]/xb_2_5mM_itc)\n",
    "\n",
    "'''\n",
    "plt.plot(xb_0_8mM_itc[:-1], Na*sol_0_8['theta_a'][0], marker = '^', markersize = 4,\\\n",
    "         linestyle = '--', color = 'blue',\\\n",
    "         )\n",
    "\n",
    "plt.plot(xb_1_7mM_itc[:-1], Nb*sol_1_7['theta_b'][0][:-1], marker = 'o',\\\n",
    "         markersize = 4, linestyle = '--',\\\n",
    "         label = r\"1.7 mM\", color = 'orange')\n",
    "plt.plot(xb_1_7mM_itc[:-1], Na*sol_1_7['theta_a'][0][:-1], marker = '^',\\\n",
    "         markersize = 4, linestyle = '--',\\\n",
    "         color = 'orange')\n",
    "\n",
    "plt.plot(xb_2_5mM_itc[:], Nb*sol_2_5['theta_b'][0], marker = 'o', markersize = 4,\\\n",
    "         linestyle = '--', color = 'green',\\\n",
    "         label = r\"2.5 mM\")\n",
    "plt.plot(xb_2_5mM_itc[:], Na*sol_2_5['theta_a'][0], marker = '^', markersize = 4,\\\n",
    "         linestyle = '--', color = 'green'\\\n",
    "         )\n",
    "'''"
   ]
  },
  {
   "cell_type": "markdown",
   "metadata": {},
   "source": [
    "## Ionic strength calculation"
   ]
  },
  {
   "cell_type": "code",
   "execution_count": 3,
   "metadata": {},
   "outputs": [
    {
     "data": {
      "text/plain": [
       "\"\\ndef conc_update(c, x, v0 = 1400, vd = 8):\\n    return c*v0/(v0 + x*vd)\\n\\ndef conc_new(c, x, v0 = 1400, vd = 8):\\n    return c*x*vd/(v0 + x*vd)\\n\\ndef ionic_strength(x, c_mg, i_nacl, i_mops, v0 = 1400, vd = 8):\\n    I = 3*conc_new(c_mg,x)\\n    return I\\n\\nx_array = np.arange(0, 36, 1)\\nmg_div_dpgs_array = []\\nionic_strength_array = []\\nv0 = 1.4*0.001 # L\\nvd = 8*0.001*0.001 # L\\n\\nfor x in x_array:\\n    mg_div_dpgs_array.append((5*x*vd)/(0.032*v0))\\n    ionic_strength_array.append(ionic_strength(x, c_mg = 5, i_nacl = 4.1, i_mops = 10))\\n\\nprint('n_mg/n_dpgs', 'ionic strength')\\nfor r, p in zip(mg_div_dpgs_array, ionic_strength_array):\\n    print(r.round(3), '\\t', p.round(3))\\n\""
      ]
     },
     "execution_count": 3,
     "metadata": {},
     "output_type": "execute_result"
    }
   ],
   "source": [
    "'''\n",
    "def conc_update(c, x, v0 = 1400, vd = 8):\n",
    "    return c*v0/(v0 + x*vd)\n",
    "\n",
    "def conc_new(c, x, v0 = 1400, vd = 8):\n",
    "    return c*x*vd/(v0 + x*vd)\n",
    "\n",
    "def ionic_strength(x, c_mg, i_nacl, i_mops, v0 = 1400, vd = 8):\n",
    "    I = 3*conc_new(c_mg,x)\n",
    "    return I\n",
    "\n",
    "x_array = np.arange(0, 36, 1)\n",
    "mg_div_dpgs_array = []\n",
    "ionic_strength_array = []\n",
    "v0 = 1.4*0.001 # L\n",
    "vd = 8*0.001*0.001 # L\n",
    "\n",
    "for x in x_array:\n",
    "    mg_div_dpgs_array.append((5*x*vd)/(0.032*v0))\n",
    "    ionic_strength_array.append(ionic_strength(x, c_mg = 5, i_nacl = 4.1, i_mops = 10))\n",
    "\n",
    "print('n_mg/n_dpgs', 'ionic strength')\n",
    "for r, p in zip(mg_div_dpgs_array, ionic_strength_array):\n",
    "    print(r.round(3), '\\t', p.round(3))\n",
    "'''"
   ]
  },
  {
   "cell_type": "markdown",
   "metadata": {},
   "source": [
    "## Langmuir-Manning model"
   ]
  },
  {
   "cell_type": "code",
   "execution_count": 110,
   "metadata": {},
   "outputs": [],
   "source": [
    "def get_zeta_from_simulation(*conc, reff = 1.8, lb = 0.7):\n",
    "    \n",
    "    mg_conc, na_conc, cl_conc = conc\n",
    "    I = 0.5 * (4*mg_conc + na_conc + cl_conc)  # molar M\n",
    "    \n",
    "    k = (8 * np.pi * lb * I )**0.5\n",
    "    \n",
    "    return Na * lb / reff / (1 + k*reff)\n",
    "\n",
    "\n",
    "def get_zeta_array(conc_array):\n",
    "    return np.array([get_zeta_from_simulation(*conc) for conc in conc_array])\n",
    "    '''\n",
    "    zeta_array = []\n",
    "    for conc in conc_array:\n",
    "        z = get_zeta_from_simulation(*conc)\n",
    "        zeta_array.append(z)\n",
    "    return np.array(zeta_array)\n",
    "    '''\n",
    "\n",
    "\n",
    "def k_from_bulk_conc(na_total_array, V_array, conc_array, Na = 24):\n",
    "    \n",
    "    ca_array       = conc_array[:,1]\n",
    "    na_free_array  = ca_array * V_array\n",
    "    na_bound_array = na_total_array - na_free_array\n",
    "    theta_array    = na_bound_array / Na\n",
    "    mixing_k       = np.log(Na * np.square(theta_array) / (1-theta_array) / ca_array)\n",
    "    elec_k         = get_zeta_array(conc_array) * theta_array\n",
    "    loss_entropy   = na_total_array / na_free_array\n",
    "    \n",
    "    ln_ka          = - elec_k + mixing_k  + loss_entropy\n",
    "    \n",
    "    return ln_ka, -Na*(1-theta_array)\n",
    "\n",
    "\n",
    "def k_from_reff(na_total_array, na_bound_array_sim, V_array, conc_array, Na = 24):\n",
    "    \n",
    "    na_free_array  = na_total_array - na_bound_array_sim\n",
    "    ca_array       = na_free_array / V_array\n",
    "    conc_array[:,1]= ca_array\n",
    "    theta_array    = na_bound_array_sim / Na\n",
    "    mixing_k       = np.log(Na * np.square(theta_array) / (1-theta_array) / ca_array)\n",
    "    elec_k         = get_zeta_array(conc_array) * theta_array\n",
    "    loss_entropy   = na_total_array / na_free_array\n",
    "    \n",
    "    ln_ka          = - elec_k + mixing_k  + loss_entropy\n",
    "    \n",
    "    return ln_ka, theta_array"
   ]
  },
  {
   "cell_type": "code",
   "execution_count": 111,
   "metadata": {},
   "outputs": [
    {
     "name": "stdout",
     "output_type": "stream",
     "text": [
      "[4.53398793 4.32415556 4.29585868 3.59685283]\n",
      "[-11.33163401  -9.28755893  -8.730547   -10.92780044]\n"
     ]
    }
   ],
   "source": [
    "comp_050mM = np.array([0, 0.0197266, 0.00790753])\n",
    "comp_100mM = np.array([0, 0.0595398, 0.0537438])\n",
    "comp_131mM = np.array([0, 0.0794375, 0.074526])\n",
    "comp_496mM = np.array([0, 0.2988930, 0.297942 ])\n",
    "\n",
    "conc_array = np.array([comp_050mM, comp_100mM, comp_131mM, comp_496mM])\n",
    "\n",
    "na_total_array     = np.array([32, 73, 93, 304])\n",
    "V_array            = np.array([979.978, 978.968, 978.512, 973.351])\n",
    "na_bound_array_sim = np.array([7.645772, 9.003013335, 9.43316682, 14.59479665])\n",
    "\n",
    "lnk, zeff = k_from_bulk_conc(na_total_array, V_array, conc_array)\n",
    "\n",
    "print(lnk)\n",
    "print(zeff)\n",
    "\n",
    "#print(k_from_reff(na_total_array, na_bound_array_sim, V_array, conc_array))\n"
   ]
  },
  {
   "cell_type": "code",
   "execution_count": 195,
   "metadata": {
    "scrolled": false
   },
   "outputs": [
    {
     "data": {
      "text/plain": [
       "'\\nK0_with_v0   = [1.2476959818147286, 6.402977664429093,                8.254664198187992, 2.410197086036613]\\nK0_without_v0 = [ 10.83405118942551, 27.09747679233088,                 30.393214245268286, 7.338979677407909]\\n\\nplt.plot(conc, K0_without_v0) #K0_with_v0, conc,\\n'"
      ]
     },
     "execution_count": 195,
     "metadata": {},
     "output_type": "execute_result"
    },
    {
     "data": {
      "image/png": "[encoded data removed]",
      "text/plain": [
       "<Figure size 432x288 with 1 Axes>"
      ]
     },
     "metadata": {
      "needs_background": "light"
     },
     "output_type": "display_data"
    }
   ],
   "source": [
    "conc                 = [32.758, 98.836, 131.774, 496.163]\n",
    "lnk_bulk_conc_08reff = [-3.02988721, -2.9175043,  -2.78791011, -0.71741881]\n",
    "lnk_bulk_conc_10reff = [-0.18255056, -0.07909004,  0.01600165,  1.06361686]\n",
    "lnk_bulk_conc_12reff = [1.65423571, 1.69048614, 1.7487387, 2.1212003]\n",
    "lnk_bulk_conc_14reff = [2.9227812,  2.87557132, 2.90045623, 2.80172503]\n",
    "lnk_bulk_conc_16reff = [3.84246254, 3.71127015, 3.70738526, 3.2658955]\n",
    "lnk_bulk_conc_18reff = [4.53398793, 4.32415556, 4.29585868, 3.59685283]\n",
    "\n",
    "fig = plt.figure() #figsize = [4., 4.]\n",
    "ax  = fig.add_subplot(111)\n",
    "\n",
    "plt.plot(conc, lnk_bulk_conc_08reff, marker = 'o', markersize = 8,\\\n",
    "         linestyle = '--', color = 'blue',\\\n",
    "         label = r\"$\\displaystyle r_{\\rm eff} = 0.8$\" ' nm')\n",
    "plt.plot(conc, lnk_bulk_conc_10reff, marker = 'o', markersize = 8,\\\n",
    "         linestyle = '--', color = 'orange',\\\n",
    "         label = r\"$\\displaystyle r_{\\rm eff} = 1.0$\" ' nm')\n",
    "plt.plot(conc, lnk_bulk_conc_12reff, marker = 'o', markersize = 8,\\\n",
    "         linestyle = '--', color = 'green',\\\n",
    "         label = r\"$\\displaystyle r_{\\rm eff} = 1.2$\" ' nm')\n",
    "plt.plot(conc, lnk_bulk_conc_14reff, marker = 'o', markersize = 8,\\\n",
    "         linestyle = '--', color = 'red',\\\n",
    "         label = r\"$\\displaystyle r_{\\rm eff} = 1.4$\" ' nm')\n",
    "plt.plot(conc, lnk_bulk_conc_16reff, marker = 'o', markersize = 8,\\\n",
    "         linestyle = '--', color = 'purple',\\\n",
    "         label = r\"$\\displaystyle r_{\\rm eff} = 1.6$\" ' nm')\n",
    "plt.plot(conc, lnk_bulk_conc_18reff, marker = 'o', markersize = 8,\\\n",
    "         linestyle = '--', color = 'brown',\\\n",
    "         label = r\"$\\displaystyle r_{\\rm eff} = 1.8$\" ' nm')\n",
    "plt.plot([10], [.62], marker = '^', markersize = 10,\\\n",
    "             color = 'blue', label = 'CG ' r\"$\\displaystyle r_{\\rm eff} = 0.8$\" ' nm')\n",
    "plt.plot([10], [4.1], marker = '^', markersize = 10,\\\n",
    "             color = 'red', label = 'CG ' r\"$\\displaystyle r_{\\rm eff} = 1.3$\" ' nm')\n",
    "plt.plot([10], [5.4], marker = '^', markersize = 10,\\\n",
    "             color = 'brown', label = 'CG ' r\"$\\displaystyle r_{\\rm eff} = 1.8$\" ' nm')\n",
    "\n",
    "# Custom x axis\n",
    "ax.tick_params(labelsize = 15)\n",
    "plt.grid(True)\n",
    "ax.tick_params(which = 'major', direction = 'in', length = 8, top = True, right = True)\n",
    "ax.tick_params(which = 'minor', direction = 'in', length = 4, top = True, right = True)\n",
    "\n",
    "ax.tick_params(labelsize = 15, grid_alpha = 0.2, grid_linestyle = '--')\n",
    "ax.set_axisbelow(True)\n",
    "\n",
    "ax.yaxis.set_major_locator(MultipleLocator(2))\n",
    "ax.yaxis.set_minor_locator(AutoMinorLocator(5)) \n",
    "ax.xaxis.set_major_locator(MultipleLocator(100))\n",
    "ax.xaxis.set_minor_locator(AutoMinorLocator(5)) \n",
    "\n",
    "xlabel = r\"NaCl conc (mM) \"\n",
    "ylabel = r\"$\\displaystyle {\\rm ln}{K^0_A}$\"\n",
    "plt.xlabel(xlabel, fontsize = 17)\n",
    "plt.ylabel(ylabel, fontsize = 17)\n",
    "plt.legend(fontsize = 16, loc='upper left', bbox_to_anchor=(1,1), ncol=1)\n",
    "plt.axis([-10, 510, -4, 7])\n",
    "plt.plot()\n",
    "\n",
    "# Show graphic\n",
    "#plt.show()\n",
    "file_save_address = '/home/rohit/google-drive/magnesium/mg-netz/report-retreat/images-mg'\n",
    "#plt.savefig(file_save_address + 'langmuir-manning1.png',\\\n",
    "            #bbox_inches = 'tight', dpi = 200)\n",
    "\n",
    "'''\n",
    "plt.plot(conc, theta_bulk_conc, marker = '^',\\\n",
    "         markersize = 10, linestyle = 'None')\n",
    "plt.xlabel('NaCl conc (mM)')\n",
    "plt.ylabel('theta')\n",
    "plt.plot()\n",
    "plt.show()\n",
    "           \n",
    "plt.plot(conc, zeta_, marker = 'v',\\\n",
    "         markersize = 10, linestyle = 'None')\n",
    "plt.xlabel('NaCl conc (mM)')\n",
    "plt.ylabel('zeta')\n",
    "plt.plot()\n",
    "plt.show()\n",
    "'''\n",
    "\n",
    "'''\n",
    "K0_with_v0   = [1.2476959818147286, 6.402977664429093,\\\n",
    "                8.254664198187992, 2.410197086036613]\n",
    "K0_without_v0 = [ 10.83405118942551, 27.09747679233088,\\\n",
    "                 30.393214245268286, 7.338979677407909]\n",
    "\n",
    "plt.plot(conc, K0_without_v0) #K0_with_v0, conc,\n",
    "'''"
   ]
  },
  {
   "cell_type": "markdown",
   "metadata": {},
   "source": [
    "## McGhee-von Hippel model"
   ]
  },
  {
   "cell_type": "code",
   "execution_count": null,
   "metadata": {},
   "outputs": [],
   "source": [
    "ka       = 1e3        # (mol/L)^-1\n",
    "kb       = 5e3        # (mol/L)^-1\n",
    "Nb       = 17\n",
    "c0_a     = 4.1/1000   # mol/L\n",
    "cd       = 0.032/1000 # mol/L\n",
    "xb_max   = 60\n",
    "number_of_points      = 100\n",
    "xb_array = np.linspace(0.001, xb_max, number_of_points)\n",
    "V0       = 1          # L\n",
    "dHA      = 100         # kJ/mol\n",
    "dHB      = 1000       # kL/mol\n",
    "\n",
    "a        = kb*Nb\n",
    "b        = 1/cd\n",
    "c        = ka*Nb\n",
    "xa       = c0_a/cd\n",
    "d        = ka*xa\n",
    "\n",
    "def mvh(p, xb):\n",
    "    '''\n",
    "    x, y, ca, cb = p  # x = \\Theta_A(x) ; y = \\Theta_B(x)\n",
    "    F = np.empty((4))\n",
    "    \n",
    "    F[0] = ka*ca*(1-x-y) - x \n",
    "    F[1] = 4*kb*cb*(1-x-y)**2 - y*(2-y)\n",
    "    F[2] = b*ca - xa + 2*Nb*x\n",
    "    F[3] = b*cb - xb + Nb*y\n",
    "    '''\n",
    "    \n",
    "    x, y = p  # x = \\Theta_A(x) ; y = \\Theta_B(x)\n",
    "    F = np.empty((2))\n",
    "    \n",
    "    F[0] = a*y**3 + 2*a*x*y**2 + a*y*x**2 +\\\n",
    "           (-kb*xb - 2*a - 0.25*b)*y**2 + (-kb*xb)*x**2 +\\\n",
    "           (-2*kb*xb - 2*a)*x*y + (2*kb*xb + a + 0.5*b)*y + (2*kb*xb)*x + (-kb*xb)\n",
    "    \n",
    "    F[1] = 2*c*x**2 + 2*c*x*y + (-d - 2*c - b)*x + (-d)*y + d \n",
    "    \n",
    "        \n",
    "    return F\n",
    "    \n",
    "pGuess = np.array([1, .0])\n",
    "#pGuess = np.array([1, .0, c0_a, xb_max*cd])\n",
    "\n",
    "theta_a = []\n",
    "theta_b = []\n",
    "\n",
    "for i in range(number_of_points):\n",
    "    z = fsolve(mvh, pGuess, args = (xb_array[i]))\n",
    "    theta_a.append(z[0])\n",
    "    theta_b.append(z[1])\n",
    "    \n",
    "plt.plot(xb_array, theta_a, xb_array, theta_b)\n",
    "#plt.plot(theta_a, theta_b)\n",
    "plt.show()\n",
    "\n",
    "dQ = []\n",
    "\n",
    "for i in range(1, n-1):\n",
    "    \n",
    "    dtheta_B = 0.5*( theta_b[i+1] - theta_b[i-1] )\n",
    "    dtheta_A = 0.5*( theta_a[i+1] - theta_a[i-1] )\n",
    "    \n",
    "    dQ.append( Nb*cd*V0*(dHB*dtheta_B + 2*dHA*dtheta_A) )\n",
    "    \n",
    "plt.plot(xb_array[1:n-1], dQ)\n",
    "plt.show()\n",
    "print(theta_b[-1]*Nb, theta_a[-1]*2*Nb)"
   ]
  },
  {
   "cell_type": "code",
   "execution_count": null,
   "metadata": {},
   "outputs": [],
   "source": [
    "'''\n",
    "    y3  = np.power(y,3)\n",
    "    xyy = np.multiply(x, np.power(y,2))\n",
    "    xxy = np.multiply(np.power(x,2), y)\n",
    "    xb_yy = np.multiply(xb, np.power(y,2))\n",
    "    xb_xx = np.multiply(xb, np.power(x,2))\n",
    "    xb_xy = np.multiply(xb, np.multiply(x, y))\n",
    "    \n",
    "    \n",
    "    eq1 = a*y_3 + 2*a*xyy + a*xxy + (-kb)*xb_yy +\\\n",
    "          (-2*a - b)*np.power(y,2)+(-kb)*xb_xx + (-2*kb)*xb_xy\n",
    "'''"
   ]
  },
  {
   "cell_type": "code",
   "execution_count": null,
   "metadata": {},
   "outputs": [],
   "source": [
    "# numbers\n",
    "\n",
    "N_na =   24 #8.65425            # 4.1819047     # bound Na+ ions\n",
    "N_g   = 24                  # binding sites total\n",
    "c_na = 0.13181982729990038  # mol/L ; 0.0793819 nm^-3\n",
    "reff =   1.78               # 1.505      # nm\n",
    "r_g  =   1.3778963802321125  #1.40               # bare radius of dPGS\n",
    "z_g  = -1                   # charge on single binding site (sulfate group)\n",
    "V_eff  = 4*np.pi/3*reff**3    # Donnan volume\n",
    "v_d = 6.24                    # dPGS volume\n",
    "V_g  =   4*np.pi/3*r_g**3   # bare dPGS volume\n",
    "v_0  = 1                    # L/mol; standard volume 1.66 nm^3\n",
    "\n",
    "sigma_mg = 0.263    # Mamatkulov, Netz MG(2) \n",
    "sigma_na = 0.258    # smith, Dang JCP 1993\n",
    "sigma_cl = 0.440104 # smith, Dang JCP 1993\n",
    "\n",
    "'''\n",
    "sasa_vol = np.array([10.9033, 10.8731, 11.0969, 10.9603])\n",
    "sasa_rd = [(3*vol/4/np.pi)**(1/3) for vol in sasa_vol]\n",
    "print(np.average(sasa_rd), np.average(sasa_vol))\n",
    "'''"
   ]
  },
  {
   "cell_type": "markdown",
   "metadata": {},
   "source": [
    "## Std. one component Langmuir + Donnan for dPGS with monovalent salt"
   ]
  },
  {
   "cell_type": "code",
   "execution_count": null,
   "metadata": {},
   "outputs": [],
   "source": [
    "theta_na = N_na / N_g\n",
    "y        = -z_g*N_g/V_eff/c_na/2\n",
    "exponent = y + np.sqrt(y**2 + 1)\n",
    "\n",
    "rhs_langmuir = theta_na / (1 - theta_na) / c_na \n",
    "\n",
    "K_0_na_lang = rhs_langmuir / exponent / v_0\n",
    "\n",
    "print(K_0_na_lang, theta_na)"
   ]
  },
  {
   "cell_type": "code",
   "execution_count": null,
   "metadata": {},
   "outputs": [],
   "source": [
    "N_na/V_g*np.pi/6*sigma_na**3"
   ]
  },
  {
   "cell_type": "markdown",
   "metadata": {},
   "source": [
    "## Excluded volume model (with negligible packing fraction of condensed counterions) + Donnan, for dPGS with monovalent salt"
   ]
  },
  {
   "cell_type": "code",
   "execution_count": null,
   "metadata": {},
   "outputs": [],
   "source": [
    "v_na = 4*np.pi/3*sigma_na**3    # 2B_2 excluded volume of one Na+ ion\n",
    "\n",
    "#theta_ev_na = v_na * N_na / (V_eff - v_d)\n",
    "theta_ev_na = v_na * N_na / V_eff\n",
    "\n",
    "rhs_ev = theta_ev_na / (1 - theta_ev_na) / c_na\n",
    "\n",
    "K_0_na_ev = rhs_ev / exponent / v_0\n",
    "\n",
    "print(K_0_na_ev, theta_ev_na)"
   ]
  },
  {
   "cell_type": "markdown",
   "metadata": {},
   "source": [
    "## Excluded volume model + Donnan, for dPGS with monovalent salt"
   ]
  },
  {
   "cell_type": "code",
   "execution_count": 235,
   "metadata": {},
   "outputs": [],
   "source": [
    "def DG_cs(x):\n",
    "    rhs = (8*x - 9*x**2 + 3*x**3)*(1 - x)**(-3)\n",
    "    return np.exp(-rhs)"
   ]
  },
  {
   "cell_type": "code",
   "execution_count": null,
   "metadata": {},
   "outputs": [],
   "source": [
    "#eta_na = (N_na / V_eff) * np.pi/6 * sigma_na**3\n",
    "eta_na = (N_na / (V_eff - V_g)) * np.pi/6 * sigma_na**3\n",
    "\n",
    "v_na = 4*np.pi/3*sigma_na**3    # 2B_2 excluded volume of one Na+ ion\n",
    "\n",
    "\n",
    "\n",
    "rhs_ev = theta_ev_na / DG_cs(eta_na) / c_na\n",
    "\n",
    "K_0_na_ev = rhs_ev / exponent / v_0\n",
    "\n",
    "print(K_0_na_ev, theta_ev_na)"
   ]
  },
  {
   "cell_type": "code",
   "execution_count": null,
   "metadata": {},
   "outputs": [],
   "source": [
    "N = 34\n",
    "cd = 0.05#np.linspace(0.00, 1, 50) #0.1/1000/1.66\n",
    "c0 = np.linspace(0.00, 200, 50) #150/1000/1.66\n",
    "V = 1\n",
    "\n",
    "a = 1 - 2*c0/N/cd\n",
    "b = cd*cd*V*V\n",
    "\n",
    "x = (a*b + np.sqrt(a*a*b - b + 1))/(1 - b)\n",
    "\n",
    "theta = 0.5*(x+1)\n",
    "plt.plot(theta)\n",
    "print(theta)"
   ]
  },
  {
   "cell_type": "code",
   "execution_count": null,
   "metadata": {},
   "outputs": [],
   "source": [
    "x = np.linspace(0.1, 50, 1000)\n",
    "N = 10\n",
    "K = 5000\n",
    "cd = 0.039/1000/1.66*10 \n",
    "V0 = 1\n",
    "dH = 6e7\n",
    "\n",
    "z = 1 + x/N + 1/N/K/cd\n",
    "sqt = np.sqrt( np.square(z) - 4*x/N )\n",
    "theta = 0.5*(z - sqt)\n",
    "\n",
    "dq = 0.5*dH*V0*cd*(1 - (z-2)/sqt)\n",
    "plt.plot(x, dq)\n",
    "print(np.round(x[-1]*cd*1.66*1000, 2), 'mM Mg2+')\n",
    "# increasing dPGS concentration makes point of inflexion more evident"
   ]
  },
  {
   "cell_type": "markdown",
   "metadata": {},
   "source": [
    "## Applying MVH model to CG simulations"
   ]
  },
  {
   "cell_type": "code",
   "execution_count": 9,
   "metadata": {},
   "outputs": [
    {
     "name": "stdout",
     "output_type": "stream",
     "text": [
      "              error          ka           kb        ta        tb\n",
      "conc reff                                                       \n",
      "1mM  1.3   0.036932   51.262961   179.037234  0.424880  0.187623\n",
      "     1.4   0.083455   63.884613   278.053602  0.425167  0.187850\n",
      "     1.5   0.089082   76.490656   398.614186  0.425190  0.187868\n",
      "     1.6   0.061469   88.876132   538.153627  0.425074  0.187776\n",
      "     1.7   0.067706  101.221244   698.038415  0.425102  0.187798\n",
      "     1.8   0.046739  112.997273   869.905158  0.425000  0.187717\n",
      "     1.9   0.101124  124.887547  1062.610868  0.425238  0.187906\n"
     ]
    }
   ],
   "source": [
    "sol_cg = bfunc.open_and_assign(\"cg_mg_conc_1_ka_-10_10_kb_-10_10.p\")\n",
    "    \n",
    "dictionary = {'reff': sol_cg['reff'],    'error': sol_cg['error'],\\\n",
    "                      'ka'  : sol_cg['ka'],      'kb'   : sol_cg['kb'],\\\n",
    "                      'ta'  : sol_cg['theta_a'], 'tb'   : sol_cg['theta_b']}\n",
    "\n",
    "df_1 = pd.DataFrame(dictionary)\n",
    "df_1['conc'] = ['1mM']*7\n",
    "df_1.set_index(['conc', 'reff'], inplace = True)\n",
    "print(df_1)"
   ]
  },
  {
   "cell_type": "code",
   "execution_count": 10,
   "metadata": {},
   "outputs": [
    {
     "name": "stdout",
     "output_type": "stream",
     "text": [
      "              error          ka           kb        ta        tb\n",
      "conc reff                                                       \n",
      "3mM  1.3   0.114011   59.563533   440.558844  0.349767  0.331169\n",
      "     1.4   0.048338   71.316917   631.579682  0.349914  0.331450\n",
      "     1.5   0.006971   82.864654   852.671351  0.350032  0.331676\n",
      "     1.6   0.067683   93.435245  1084.087878  0.349871  0.331367\n",
      "     1.7   0.009936  104.305455  1351.005356  0.350041  0.331692\n",
      "     1.8   0.011618  114.133485  1617.592719  0.349998  0.331611\n",
      "     1.9   0.013049  123.644276  1898.414584  0.350048  0.331707\n"
     ]
    }
   ],
   "source": [
    "sol_cg = bfunc.open_and_assign(\"cg_mg_conc_2_ka_-10_10_kb_-10_10.p\")\n",
    "    \n",
    "dictionary = {'reff': sol_cg['reff'],    'error': sol_cg['error'],\\\n",
    "                      'ka'  : sol_cg['ka'],      'kb'   : sol_cg['kb'],\\\n",
    "                      'ta'  : sol_cg['theta_a'], 'tb'   : sol_cg['theta_b']}\n",
    "\n",
    "df_2 = pd.DataFrame(dictionary)\n",
    "df_2['conc'] = ['3mM']*7\n",
    "df_2.set_index(['conc', 'reff'], inplace = True)\n",
    "print(df_2)"
   ]
  },
  {
   "cell_type": "code",
   "execution_count": 11,
   "metadata": {},
   "outputs": [
    {
     "name": "stdout",
     "output_type": "stream",
     "text": [
      "              error          ka           kb        ta        tb\n",
      "conc reff                                                       \n",
      "5mM  1.3   0.056097   57.802297   600.762150  0.303885  0.406711\n",
      "     1.4   0.056570   67.837053   827.458686  0.303923  0.406819\n",
      "     1.5   0.063266   77.259786  1073.295654  0.303850  0.406611\n",
      "     1.6   0.087597   86.248151  1337.555937  0.303788  0.406433\n",
      "     1.7   0.056896   95.323716  1633.857970  0.303925  0.406826\n",
      "     1.8   0.061351  103.267082  1917.503560  0.303857  0.406631\n",
      "     1.9   0.074991  110.758669  2205.808582  0.303817  0.406516\n"
     ]
    }
   ],
   "source": [
    "sol_cg     = bfunc.open_and_assign(\"cg_mg_conc_3_ka_-10_10_kb_-10_10.p\")\n",
    "\n",
    "dictionary = {'reff': sol_cg['reff'],    'error': sol_cg['error'],\\\n",
    "                      'ka'  : sol_cg['ka'],      'kb'   : sol_cg['kb'],\\\n",
    "                      'ta'  : sol_cg['theta_a'], 'tb'   : sol_cg['theta_b']}\n",
    "\n",
    "df_3 = pd.DataFrame(dictionary)\n",
    "df_3['conc'] = ['5mM']*7\n",
    "df_3.set_index(['conc', 'reff'], inplace = True)\n",
    "print(df_3)"
   ]
  },
  {
   "cell_type": "code",
   "execution_count": 12,
   "metadata": {},
   "outputs": [
    {
     "name": "stdout",
     "output_type": "stream",
     "text": [
      "              error          ka           kb        ta        tb\n",
      "conc reff                                                       \n",
      "10mM 1.3   0.052475   76.490656  1337.555937  0.262358  0.511933\n",
      "     1.4   0.036468   86.248151  1700.571006  0.262324  0.511781\n",
      "     1.5   0.037617   95.323716  2077.289940  0.262289  0.511621\n",
      "     1.6   0.057874  104.305455  2487.191534  0.262366  0.511972\n",
      "     1.7   0.034788  111.872371  2861.151628  0.262300  0.511672\n",
      "     1.8   0.067812  118.793738  3226.133111  0.262235  0.511380\n",
      "     1.9   0.048740  126.143319  3637.673288  0.262352  0.511904\n"
     ]
    }
   ],
   "source": [
    "sol_cg     = bfunc.open_and_assign(\"cg_mg_conc_4_ka_-10_10_kb_-10_10.p\")\n",
    "\n",
    "dictionary = {'reff': sol_cg['reff'],    'error': sol_cg['error'],\\\n",
    "                      'ka'  : sol_cg['ka'],      'kb'   : sol_cg['kb'],\\\n",
    "                      'ta'  : sol_cg['theta_a'], 'tb'   : sol_cg['theta_b']}\n",
    "\n",
    "df_4 = pd.DataFrame(dictionary)\n",
    "df_4['conc'] = ['10mM']*7\n",
    "df_4.set_index(['conc', 'reff'], inplace = True)\n",
    "print(df_4)"
   ]
  },
  {
   "cell_type": "code",
   "execution_count": 13,
   "metadata": {},
   "outputs": [
    {
     "name": "stdout",
     "output_type": "stream",
     "text": [
      "              error          ka           kb        ta        tb\n",
      "conc reff                                                       \n",
      "15mM 1.3   0.057567   78.821326  1601.489391  0.237370  0.559675\n",
      "     1.4   0.030901   87.991359  1995.798300  0.237399  0.559841\n",
      "     1.5   0.031709   96.282217  2389.619542  0.237398  0.559836\n",
      "     1.6   0.032724  104.305455  2804.468971  0.237462  0.560195\n",
      "     1.7   0.042601  110.758669  3162.219757  0.237386  0.559767\n",
      "     1.8   0.031021  117.611132  3565.606857  0.237460  0.560184\n",
      "     1.9   0.061765  123.644276  3940.802138  0.237493  0.560376\n"
     ]
    }
   ],
   "source": [
    "sol_cg     = bfunc.open_and_assign(\"cg_mg_conc_5_ka_-10_10_kb_-10_10.p\")\n",
    "\n",
    "dictionary = {'reff': sol_cg['reff'],    'error': sol_cg['error'],\\\n",
    "                      'ka'  : sol_cg['ka'],      'kb'   : sol_cg['kb'],\\\n",
    "                      'ta'  : sol_cg['theta_a'], 'tb'   : sol_cg['theta_b']}\n",
    "\n",
    "df_5 = pd.DataFrame(dictionary)\n",
    "df_5['conc'] = ['15mM']*7\n",
    "df_5.set_index(['conc', 'reff'], inplace = True)\n",
    "print(df_5)"
   ]
  },
  {
   "cell_type": "code",
   "execution_count": 14,
   "metadata": {},
   "outputs": [],
   "source": [
    "df_all = pd.concat([df_1, df_2, df_3, df_4, df_5])"
   ]
  },
  {
   "cell_type": "code",
   "execution_count": 15,
   "metadata": {},
   "outputs": [
    {
     "data": {
      "text/plain": [
       "error       0.048740\n",
       "ka        126.143319\n",
       "kb       3637.673288\n",
       "ta          0.262352\n",
       "tb          0.511904\n",
       "Name: (10mM, 1.9), dtype: float64"
      ]
     },
     "execution_count": 15,
     "metadata": {},
     "output_type": "execute_result"
    }
   ],
   "source": [
    "df_all.loc[('10mM', 1.9), :]"
   ]
  },
  {
   "cell_type": "code",
   "execution_count": 16,
   "metadata": {},
   "outputs": [
    {
     "data": {
      "text/plain": [
       "3637.673288426113"
      ]
     },
     "execution_count": 16,
     "metadata": {},
     "output_type": "execute_result"
    }
   ],
   "source": [
    "df_all.loc[('10mM', 1.9), 'kb']"
   ]
  },
  {
   "cell_type": "code",
   "execution_count": 17,
   "metadata": {},
   "outputs": [
    {
     "data": {
      "text/html": [
       "<div>\n",
       "<style scoped>\n",
       "    .dataframe tbody tr th:only-of-type {\n",
       "        vertical-align: middle;\n",
       "    }\n",
       "\n",
       "    .dataframe tbody tr th {\n",
       "        vertical-align: top;\n",
       "    }\n",
       "\n",
       "    .dataframe thead th {\n",
       "        text-align: right;\n",
       "    }\n",
       "</style>\n",
       "<table border=\"1\" class=\"dataframe\">\n",
       "  <thead>\n",
       "    <tr style=\"text-align: right;\">\n",
       "      <th></th>\n",
       "      <th></th>\n",
       "      <th>error</th>\n",
       "      <th>ka</th>\n",
       "      <th>kb</th>\n",
       "      <th>ta</th>\n",
       "      <th>tb</th>\n",
       "    </tr>\n",
       "    <tr>\n",
       "      <th>conc</th>\n",
       "      <th>reff</th>\n",
       "      <th></th>\n",
       "      <th></th>\n",
       "      <th></th>\n",
       "      <th></th>\n",
       "      <th></th>\n",
       "    </tr>\n",
       "  </thead>\n",
       "  <tbody>\n",
       "    <tr>\n",
       "      <th>1mM</th>\n",
       "      <th>1.3</th>\n",
       "      <td>0.036932</td>\n",
       "      <td>51.262961</td>\n",
       "      <td>179.037234</td>\n",
       "      <td>0.424880</td>\n",
       "      <td>0.187623</td>\n",
       "    </tr>\n",
       "    <tr>\n",
       "      <th>10mM</th>\n",
       "      <th>1.3</th>\n",
       "      <td>0.052475</td>\n",
       "      <td>76.490656</td>\n",
       "      <td>1337.555937</td>\n",
       "      <td>0.262358</td>\n",
       "      <td>0.511933</td>\n",
       "    </tr>\n",
       "  </tbody>\n",
       "</table>\n",
       "</div>"
      ],
      "text/plain": [
       "              error         ka           kb        ta        tb\n",
       "conc reff                                                      \n",
       "1mM  1.3   0.036932  51.262961   179.037234  0.424880  0.187623\n",
       "10mM 1.3   0.052475  76.490656  1337.555937  0.262358  0.511933"
      ]
     },
     "execution_count": 17,
     "metadata": {},
     "output_type": "execute_result"
    }
   ],
   "source": [
    "df_all.loc[(['1mM', '10mM'], 1.3), :]"
   ]
  },
  {
   "cell_type": "code",
   "execution_count": 18,
   "metadata": {},
   "outputs": [
    {
     "data": {
      "text/html": [
       "<div>\n",
       "<style scoped>\n",
       "    .dataframe tbody tr th:only-of-type {\n",
       "        vertical-align: middle;\n",
       "    }\n",
       "\n",
       "    .dataframe tbody tr th {\n",
       "        vertical-align: top;\n",
       "    }\n",
       "\n",
       "    .dataframe thead th {\n",
       "        text-align: right;\n",
       "    }\n",
       "</style>\n",
       "<table border=\"1\" class=\"dataframe\">\n",
       "  <thead>\n",
       "    <tr style=\"text-align: right;\">\n",
       "      <th></th>\n",
       "      <th></th>\n",
       "      <th>error</th>\n",
       "      <th>ka</th>\n",
       "      <th>kb</th>\n",
       "      <th>ta</th>\n",
       "      <th>tb</th>\n",
       "    </tr>\n",
       "    <tr>\n",
       "      <th>conc</th>\n",
       "      <th>reff</th>\n",
       "      <th></th>\n",
       "      <th></th>\n",
       "      <th></th>\n",
       "      <th></th>\n",
       "      <th></th>\n",
       "    </tr>\n",
       "  </thead>\n",
       "  <tbody>\n",
       "    <tr>\n",
       "      <th>1mM</th>\n",
       "      <th>1.9</th>\n",
       "      <td>0.101124</td>\n",
       "      <td>124.887547</td>\n",
       "      <td>1062.610868</td>\n",
       "      <td>0.425238</td>\n",
       "      <td>0.187906</td>\n",
       "    </tr>\n",
       "    <tr>\n",
       "      <th>3mM</th>\n",
       "      <th>1.9</th>\n",
       "      <td>0.013049</td>\n",
       "      <td>123.644276</td>\n",
       "      <td>1898.414584</td>\n",
       "      <td>0.350048</td>\n",
       "      <td>0.331707</td>\n",
       "    </tr>\n",
       "    <tr>\n",
       "      <th>5mM</th>\n",
       "      <th>1.9</th>\n",
       "      <td>0.074991</td>\n",
       "      <td>110.758669</td>\n",
       "      <td>2205.808582</td>\n",
       "      <td>0.303817</td>\n",
       "      <td>0.406516</td>\n",
       "    </tr>\n",
       "    <tr>\n",
       "      <th>10mM</th>\n",
       "      <th>1.9</th>\n",
       "      <td>0.048740</td>\n",
       "      <td>126.143319</td>\n",
       "      <td>3637.673288</td>\n",
       "      <td>0.262352</td>\n",
       "      <td>0.511904</td>\n",
       "    </tr>\n",
       "    <tr>\n",
       "      <th>15mM</th>\n",
       "      <th>1.9</th>\n",
       "      <td>0.061765</td>\n",
       "      <td>123.644276</td>\n",
       "      <td>3940.802138</td>\n",
       "      <td>0.237493</td>\n",
       "      <td>0.560376</td>\n",
       "    </tr>\n",
       "  </tbody>\n",
       "</table>\n",
       "</div>"
      ],
      "text/plain": [
       "              error          ka           kb        ta        tb\n",
       "conc reff                                                       \n",
       "1mM  1.9   0.101124  124.887547  1062.610868  0.425238  0.187906\n",
       "3mM  1.9   0.013049  123.644276  1898.414584  0.350048  0.331707\n",
       "5mM  1.9   0.074991  110.758669  2205.808582  0.303817  0.406516\n",
       "10mM 1.9   0.048740  126.143319  3637.673288  0.262352  0.511904\n",
       "15mM 1.9   0.061765  123.644276  3940.802138  0.237493  0.560376"
      ]
     },
     "execution_count": 18,
     "metadata": {},
     "output_type": "execute_result"
    }
   ],
   "source": [
    "df_all.loc[(slice(None), 1.9), :]"
   ]
  },
  {
   "cell_type": "code",
   "execution_count": 19,
   "metadata": {},
   "outputs": [
    {
     "data": {
      "text/plain": [
       "conc  reff\n",
       "1mM   1.9    -3.610511\n",
       "3mM   1.9    -4.190801\n",
       "5mM   1.9    -4.340876\n",
       "10mM  1.9    -4.841126\n",
       "15mM  1.9    -4.921166\n",
       "Name: kb, dtype: float64"
      ]
     },
     "execution_count": 19,
     "metadata": {},
     "output_type": "execute_result"
    }
   ],
   "source": [
    "veff = 4*np.pi/3*(1.9**3)\n",
    "-np.log(df_all.loc[(slice(None), 1.9), 'kb']/veff)"
   ]
  },
  {
   "cell_type": "code",
   "execution_count": 40,
   "metadata": {},
   "outputs": [
    {
     "name": "stdout",
     "output_type": "stream",
     "text": [
      "      mg_bound  mg_total  na_bound  na_total  theta_na  theta_mg  mg_by_na\n",
      "conc                                                                      \n",
      "0         0.00         0      13.2      2438  0.550000  0.000000  0.000000\n",
      "1         2.25        16      10.2      2438  0.425000  0.187500  0.220588\n",
      "3         3.98        48       8.4      2438  0.350000  0.331667  0.473810\n",
      "5         4.88        61       7.3      2438  0.304167  0.406667  0.668493\n",
      "10        6.14       162       6.3      2438  0.262500  0.511667  0.974603\n",
      "15        6.72       243       5.7      2438  0.237500  0.560000  1.178947\n"
     ]
    }
   ],
   "source": [
    "datafile = \"/home/rohit/google-drive/jupyter-notebooks/cg-g2-bound-counterions.csv\"\n",
    "cg_data = pd.read_csv(datafile, sep = ',', index_col = None,  engine = 'python')\n",
    "cg_data.set_index('conc', inplace = True)\n",
    "cg_data['theta_na'] = cg_data['na_bound']/24\n",
    "cg_data['theta_mg'] = cg_data['mg_bound']/12\n",
    "cg_data['mg_by_na'] = cg_data['mg_bound']/cg_data['na_bound']\n",
    "print(cg_data)"
   ]
  },
  {
   "cell_type": "code",
   "execution_count": 34,
   "metadata": {},
   "outputs": [
    {
     "data": {
      "text/plain": [
       "\"\\nplt.plot(df['tpbmg'], marker = 'o', linestyle = '--')\\nplt.plot(df['tcgmg'], marker = 'o', linestyle = '--')\\nplt.plot(df['tpbna'], marker = 's', linestyle = '--')\\nplt.plot(df['tcgna'], marker = 's', linestyle = '--')\\n\""
      ]
     },
     "execution_count": 34,
     "metadata": {},
     "output_type": "execute_result"
    }
   ],
   "source": [
    "cg_conc_array = [1, 3, 5, 10, 15]\n",
    "\n",
    "dtp = np.dtype([('conc' , np.float64),\n",
    "                ('error', np.float64),\n",
    "                ('b2_mg', np.float64),\n",
    "                ('b2_na', np.float64),\n",
    "                ('tpbmg'  , np.float64),\n",
    "                ('tpbna'  , np.float64),\n",
    "                ('tcgmg'  , np.float64),\n",
    "                ('tcgna'  , np.float64)])\n",
    "\n",
    "db = np.zeros(1, dtype = dtp)\n",
    "\n",
    "for conc in cg_conc_array:\n",
    "\n",
    "    sol = bfunc.open_and_assign('pb_cg_' + str(conc) + '_tol_0.25.p')\n",
    "\n",
    "    #sol_min = sol[sol['error'] == np.min(sol['error'])]\n",
    "    error = np.average(sol['error'])\n",
    "    b2_mg = np.average(sol['b2'][:,0])\n",
    "    b2_na = np.average(sol['b2'][:,1])\n",
    "    tmg   = np.average(sol['theta'][:,0]*12)\n",
    "    tna   = np.average(sol['theta'][:,1]*24)\n",
    "\n",
    "    cg_theta  = np.array([cg_data.loc[conc]['mg_bound'],\n",
    "                          cg_data.loc[conc]['na_bound']], dtype = np.float64)\n",
    "    \n",
    "    e = np.array([(conc, error, b2_mg, b2_na, tmg, tna, cg_theta[0], cg_theta[1])],\n",
    "                 dtype = dtp)\n",
    "    \n",
    "    db = np.append(db, e)\n",
    "    \n",
    "db = np.delete(db, 0)\n",
    "\n",
    "df = pd.DataFrame(db)\n",
    "'''\n",
    "plt.plot(df['tpbmg'], marker = 'o', linestyle = '--')\n",
    "plt.plot(df['tcgmg'], marker = 'o', linestyle = '--')\n",
    "plt.plot(df['tpbna'], marker = 's', linestyle = '--')\n",
    "plt.plot(df['tcgna'], marker = 's', linestyle = '--')\n",
    "'''"
   ]
  },
  {
   "cell_type": "code",
   "execution_count": 53,
   "metadata": {},
   "outputs": [
    {
     "data": {
      "image/png": "[encoded data removed]",
      "text/plain": [
       "<Figure size 432x288 with 1 Axes>"
      ]
     },
     "metadata": {
      "needs_background": "light"
     },
     "output_type": "display_data"
    }
   ],
   "source": [
    "fig = plt.figure()\n",
    "ax  = fig.add_subplot(111)\n",
    "\n",
    "jet = plt.get_cmap('tab20b')\n",
    "colors = iter(jet(np.linspace(0,1,3)))\n",
    "\n",
    "plt.plot(cg_data.index[1:], 12*df_all.loc[(slice(None), 1.9), 'tb'],  marker = 's',\\\n",
    "         linewidth = 2, markersize = 7, color = next(colors), linestyle = ':',\\\n",
    "         label     = r\"$\\displaystyle {\\rm Mg^{2+}}$\")\n",
    "\n",
    "plt.plot(cg_data.index, cg_data['mg_bound'], linestyle = ':', marker = 'o',\\\n",
    "         linewidth = 2, markersize = 7, color = next(colors),\\\n",
    "         label = r\"$\\displaystyle {\\rm Mg^{2+}}$\")\n",
    "\n",
    "plt.plot(cg_data.index[1:], df['tpbmg'], linestyle = ':', marker = 'o',\\\n",
    "         linewidth = 2, markersize = 7, color = next(colors),\\\n",
    "         label = r\"$\\displaystyle {\\rm Mg^{2+}}$\")\n",
    "\n",
    "jet = plt.get_cmap('tab20c')\n",
    "colors = iter(jet(np.linspace(0,1,3)))\n",
    "\n",
    "plt.plot(cg_data.index[1:], 24*df_all.loc[(slice(None), 1.9), 'ta'],  marker = 's',\\\n",
    "         linewidth = 2, markersize = 7, color = next(colors), linestyle = ':',\\\n",
    "         label     = r\"$\\displaystyle {\\rm Na^{+}}$\")\n",
    "\n",
    "plt.plot(cg_data.index, cg_data['na_bound'], linestyle = ':', marker = 'o',\\\n",
    "         linewidth = 2, markersize = 7, color = next(colors),\\\n",
    "         label = r\"$\\displaystyle {\\rm Na^{+}}$\")\n",
    "\n",
    "plt.plot(cg_data.index[1:], df['tpbna'], linestyle = ':', marker = 'o',\\\n",
    "         linewidth = 2, markersize = 7, color = next(colors),\\\n",
    "         label = r\"$\\displaystyle {\\rm Na^{+}}$\")\n",
    "\n",
    "plotify(x_major_ticks   = 2, x_minor_ticks = 5,\n",
    "        y_major_ticks   = 2, y_minor_ticks = 5,\n",
    "        xname           = r\"$\\displaystyle C^{\\rm bulk}_{\\rm Mg^{2+}}$ (mM)\",\n",
    "        yname           = r\"$\\displaystyle N_{\\rm bound}$\",\n",
    "        legend_location = (.87, 0.54, 0.5, 0.5))\n",
    "            \n",
    "plt.show()"
   ]
  },
  {
   "cell_type": "code",
   "execution_count": null,
   "metadata": {},
   "outputs": [],
   "source": [
    "'''\n",
    "plt.plot(cg_data['conc'], cg_data['mg_bound'], linestyle = '--', marker = 's',\\\n",
    "         linewidth = 3, markersize = 10, color = 'xkcd:red',\\\n",
    "         label = r\"$\\displaystyle {\\rm Mg^{2+}}$\")\n",
    "\n",
    "plt.plot(cg_data['conc'], cg_data['na_bound'], linestyle = '--', marker = 's',\\\n",
    "         linewidth = 3, markersize = 10, color = 'xkcd:red',\\\n",
    "         label = r\"$\\displaystyle {\\rm Na^{+}}$\")\n",
    "'''"
   ]
  },
  {
   "cell_type": "code",
   "execution_count": 5,
   "metadata": {},
   "outputs": [],
   "source": [
    "def plotify(x_major_ticks   = 30, x_minor_ticks = 5,\n",
    "            y_major_ticks   = 1 , y_minor_ticks = 5,\n",
    "            xname           = r\"$\\displaystyle C_{{\\rm Mg^{2+}},{\\rm bulk}}$\",\n",
    "            yname           = r\"$\\displaystyle N_{{\\rm Mg^{2+}},{\\rm bound}}$\",\n",
    "            legend_location = (.98, 0.5, 0.5, 0.5),\n",
    "            image_name       = 'new_plot.png',\n",
    "            save            = False):\n",
    "    \n",
    "    plt.grid(True)\n",
    "    \n",
    "    ax.tick_params(which = 'major', direction = 'in',\\\n",
    "               length = 8, top = True, right = True)\n",
    "\n",
    "    ax.tick_params(which = 'minor', direction = 'in',\\\n",
    "               length = 4, top = True, right = True)\n",
    "\n",
    "    ax.tick_params(labelsize = 15, grid_alpha = 0.4, grid_linestyle = '--')\n",
    "\n",
    "    ax.set_axisbelow(True)\n",
    "\n",
    "    ax.xaxis.set_major_locator(MultipleLocator(x_major_ticks))\n",
    "    ax.xaxis.set_minor_locator(AutoMinorLocator(x_minor_ticks)) # for the minor ticks,\n",
    "                                                # use no labels; default NullFormatter\n",
    "    \n",
    "    ax.yaxis.set_major_locator(MultipleLocator(y_major_ticks))\n",
    "    ax.yaxis.set_minor_locator(AutoMinorLocator(y_minor_ticks)) \n",
    "\n",
    "    xlabel, ylabel = xname, yname\n",
    "    #xlabel = r\"$\\displaystyle C^{\\rm bulk}_{\\rm Mg^{2+}} / C^{\\rm bulk}_{\\rm Na^{+}}$\"\n",
    "    #ylabel = r\"$\\displaystyle N_{\\rm Mg^{2+}} / N_{\\rm Na^{+}}$\"\n",
    "    \n",
    "    plt.xlabel(xlabel, fontsize = 20)\n",
    "    plt.ylabel(ylabel, fontsize = 20)\n",
    "    \n",
    "    \n",
    "    font = {'family': 'serif',\n",
    "            'color':  'xkcd:black',\n",
    "            'weight': 'normal',\n",
    "            'size': 25,\n",
    "            }\n",
    "\n",
    "    #plt.text(115, 2, r\"$\\displaystyle C_{{\\rm Na^{+}},{\\rm bulk}}$\",fontdict=font)\n",
    "    \n",
    "    \n",
    "    plt.legend(fontsize = 19, loc = 0, bbox_to_anchor = legend_location)\n",
    "    plt.subplots_adjust(top = 1.1)\n",
    "    \n",
    "    if save is True:\n",
    "        direc = '/home/rohit/google-drive/magnesium/mg-netz/images/'\n",
    "        image_name = direc + image_name\n",
    "        plt.savefig(image_name, bbox_inches = 'tight', dpi = 200)"
   ]
  },
  {
   "cell_type": "markdown",
   "metadata": {},
   "source": [
    "## Applying MVH model to ITC "
   ]
  },
  {
   "cell_type": "code",
   "execution_count": 3,
   "metadata": {},
   "outputs": [],
   "source": [
    "sol = bfunc.open_and_assign(\"itc_mg_2_5mM_ka_-5_10_kb_-5_10.p\")"
   ]
  },
  {
   "cell_type": "code",
   "execution_count": 157,
   "metadata": {},
   "outputs": [
    {
     "name": "stdout",
     "output_type": "stream",
     "text": [
      "[[0.18602314 0.16409921 0.14762211 ... 0.07326389 0.07263453 0.07189621]\n",
      " [0.18933377 0.16745606 0.151001   ... 0.07573269 0.07508628 0.0743279 ]\n",
      " [0.19267686 0.17085533 0.15443039 ... 0.07827298 0.07760928 0.07683056]\n",
      " ...\n",
      " [0.61821793 0.58802517 0.56179387 ... 0.35660468 0.35421411 0.35134498]\n",
      " [0.62349033 0.59366113 0.56781814 ... 0.36502687 0.36262918 0.35975024]\n",
      " [0.62876698 0.59931215 0.57386575 ... 0.37353513 0.37113181 0.36824485]]\n"
     ]
    },
    {
     "data": {
      "text/plain": [
       "'\\ndef rel_error(x, y):\\n    return np.abs(x-y)/x\\n\\ndh = dh[rel_error(dh.kb, dh.ka) < 5]\\n#dh = dh[dh.ka < 10*vol_dpgs]\\ndh = dh[dh.kb < 10*vol_dpgs]\\ndh\\n'"
      ]
     },
     "execution_count": 157,
     "metadata": {},
     "output_type": "execute_result"
    }
   ],
   "source": [
    "'''\n",
    "dh = pd.DataFrame({'reff': sol['reff'], 'dha': sol['dha'], 'dhb': sol['dhb'],\\\n",
    "                   'ka': sol['ka0'], 'kb': sol['kb0']})\n",
    "'''\n",
    "\n",
    "reff     = 1.9\n",
    "dh       = dh[dh.reff == reff]\n",
    "vol_dpgs = 4*np.pi/3*reff**3\n",
    "print(sol['theta_a'])\n",
    "\n",
    "'''\n",
    "def rel_error(x, y):\n",
    "    return np.abs(x-y)/x\n",
    "\n",
    "dh = dh[rel_error(dh.kb, dh.ka) < 5]\n",
    "#dh = dh[dh.ka < 10*vol_dpgs]\n",
    "dh = dh[dh.kb < 10*vol_dpgs]\n",
    "dh\n",
    "'''"
   ]
  },
  {
   "cell_type": "code",
   "execution_count": 95,
   "metadata": {},
   "outputs": [
    {
     "data": {
      "text/plain": [
       "1.9"
      ]
     },
     "execution_count": 95,
     "metadata": {},
     "output_type": "execute_result"
    }
   ],
   "source": [
    "sol['reff'][75430]"
   ]
  },
  {
   "cell_type": "code",
   "execution_count": 4,
   "metadata": {},
   "outputs": [],
   "source": [
    "def ln(a):\n",
    "    return np.log(a)\n",
    "\n",
    "N = 34\n",
    "\n",
    "def kappa(ca0, xb, cd):\n",
    "    \n",
    "    x = [i+2 for i in range(len(xb))]\n",
    "    vol = np.array([1.43 + i*8e-3 for i in x])\n",
    "    \n",
    "    ca0 = ca0*std_volume/1000\n",
    "    cb0 = np.array([i*cd*1.43 for i in xb])/vol\n",
    "    ccl = 2*cb0 + ca0\n",
    "    I   = 2*cb0 + ca0 + ccl\n",
    "    return np.sqrt(8 * np.pi * .7 * I ), cb0\n",
    "\n",
    "    \n",
    "\n",
    "def energy(theta_a, theta_b, xb, reff, ca0, cd, ka0, kb0):\n",
    "    \n",
    "    cd     *= std_volume/1000\n",
    "    k, cb0  = kappa(ca0, xb, cd)\n",
    "    t       = np.square(1-theta_a-theta_b)\n",
    "    elec    = N**2*.7/(2*reff*(1+k*reff))*t\n",
    "    \n",
    "    A = -    N*theta_a*(ln(ka0*(ca0 - cd*N*theta_a)/(N*theta_a)) )\n",
    "    B = -0.5*N*theta_b*(ln(kb0*(cb0 - 0.5*cd*N*theta_b)/(0.5*N*theta_b)) )\n",
    "    C = A+B\n",
    "    \n",
    "    MVH = -N*(1-.5*theta_b)*ln(1-.5*theta_b) + .5*N*theta_b*ln(.5*theta_b)\\\n",
    "           + N*theta_a*ln(theta_a) + N*(1-theta_a-theta_b)*ln(1-theta_a-theta_b)\n",
    "    \n",
    "    return {'e':elec, 's': C, 'm': MVH}"
   ]
  },
  {
   "cell_type": "code",
   "execution_count": 22,
   "metadata": {},
   "outputs": [
    {
     "data": {
      "text/plain": [
       "[<matplotlib.lines.Line2D at 0x7f30d9399898>]"
      ]
     },
     "execution_count": 22,
     "metadata": {},
     "output_type": "execute_result"
    },
    {
     "data": {
      "image/png": "[encoded data removed]",
      "text/plain": [
       "<Figure size 432x288 with 1 Axes>"
      ]
     },
     "metadata": {
      "needs_background": "light"
     },
     "output_type": "display_data"
    }
   ],
   "source": [
    "y = sol[77935]\n",
    "\n",
    "plt.plot(xb_2_5mM, y['theta_a']+y['theta_b'])\n",
    "\n",
    "\n",
    "# d = energy(y['theta_a'], y['theta_b'], xb_2_5mM, y['reff'],\\\n",
    "#              4, .0638, y['ka0'], y['kb0'] )\n",
    "# '''\n",
    "# plt.plot(xb_2_5mM, d['e'], label = 'elec')\n",
    "# plt.plot(xb_2_5mM, d['s'], label = 'cr')\n",
    "# plt.plot(xb_2_5mM, d['m'], label = 'mvh')\n",
    "# plt.plot(xb_2_5mM, d['e'] + d['s']+d['m'], label = 'tot')\n",
    "# '''\n",
    "# plt.plot(xb_2_5mM, d['e'], xb_2_5mM, d['s'], xb_2_5mM, d['m'])\n",
    "# #plt.plot(xb_2_5mM, 34*y['theta_a'], xb_2_5mM, 17*y['theta_b'])\n",
    "# #plt.legend()\n",
    "# plt.show()"
   ]
  },
  {
   "cell_type": "code",
   "execution_count": 26,
   "metadata": {},
   "outputs": [
    {
     "data": {
      "text/plain": [
       "array([1, 4, 7])"
      ]
     },
     "execution_count": 26,
     "metadata": {},
     "output_type": "execute_result"
    }
   ],
   "source": [
    "a = np.array([[1, 2, 3], [1, 4, 7]])\n",
    "a[-1]"
   ]
  },
  {
   "cell_type": "code",
   "execution_count": 71,
   "metadata": {},
   "outputs": [
    {
     "data": {
      "image/png": "[encoded data removed]",
      "text/plain": [
       "<Figure size 432x288 with 1 Axes>"
      ]
     },
     "metadata": {
      "needs_background": "light"
     },
     "output_type": "display_data"
    },
    {
     "data": {
      "image/png": "[encoded data removed]",
      "text/plain": [
       "<Figure size 432x288 with 1 Axes>"
      ]
     },
     "metadata": {
      "needs_background": "light"
     },
     "output_type": "display_data"
    }
   ],
   "source": [
    "plt.plot(dh['dhb'])\n",
    "plt.plot(dh['dha'])\n",
    "plt.show()\n",
    "plt.plot(dh['kb'])\n",
    "plt.plot(dh['ka'])\n",
    "plt.show()"
   ]
  },
  {
   "cell_type": "code",
   "execution_count": 106,
   "metadata": {},
   "outputs": [
    {
     "name": "stdout",
     "output_type": "stream",
     "text": [
      "10\n"
     ]
    },
    {
     "data": {
      "image/png": "[encoded data removed]",
      "text/plain": [
       "<Figure size 432x288 with 1 Axes>"
      ]
     },
     "metadata": {
      "needs_background": "light"
     },
     "output_type": "display_data"
    }
   ],
   "source": [
    "ll = np.arange(0, 10000, 1000)\n",
    "print(len(ll))\n",
    "\n",
    "plt.plot(xb_0_8mM, q_0_8mM_per_mg)\n",
    "\n",
    "for i in ll:\n",
    "    \n",
    "     plt.plot(running_avg(xb_0_8mM), sol['q_per_mg'][i])"
   ]
  },
  {
   "cell_type": "code",
   "execution_count": 209,
   "metadata": {},
   "outputs": [],
   "source": [
    "sol = bfunc.open_and_assign(\"itc_mg_2_5mM_ka_-5_10_kb_-5_10.p_tol_0.001\")"
   ]
  },
  {
   "cell_type": "code",
   "execution_count": 27,
   "metadata": {},
   "outputs": [
    {
     "data": {
      "text/html": [
       "<div>\n",
       "<style scoped>\n",
       "    .dataframe tbody tr th:only-of-type {\n",
       "        vertical-align: middle;\n",
       "    }\n",
       "\n",
       "    .dataframe tbody tr th {\n",
       "        vertical-align: top;\n",
       "    }\n",
       "\n",
       "    .dataframe thead th {\n",
       "        text-align: right;\n",
       "    }\n",
       "</style>\n",
       "<table border=\"1\" class=\"dataframe\">\n",
       "  <thead>\n",
       "    <tr style=\"text-align: right;\">\n",
       "      <th></th>\n",
       "      <th>reff</th>\n",
       "      <th>dha</th>\n",
       "      <th>dhb</th>\n",
       "      <th>ka</th>\n",
       "      <th>kb</th>\n",
       "    </tr>\n",
       "  </thead>\n",
       "  <tbody>\n",
       "    <tr>\n",
       "      <th>count</th>\n",
       "      <td>89947.000000</td>\n",
       "      <td>89947.000000</td>\n",
       "      <td>89947.000000</td>\n",
       "      <td>89947.000000</td>\n",
       "      <td>89947.000000</td>\n",
       "    </tr>\n",
       "    <tr>\n",
       "      <th>mean</th>\n",
       "      <td>1.625428</td>\n",
       "      <td>-4.699450</td>\n",
       "      <td>5.578787</td>\n",
       "      <td>1346.700616</td>\n",
       "      <td>1143.623425</td>\n",
       "    </tr>\n",
       "    <tr>\n",
       "      <th>std</th>\n",
       "      <td>0.194369</td>\n",
       "      <td>2.132598</td>\n",
       "      <td>1.985212</td>\n",
       "      <td>3426.693887</td>\n",
       "      <td>3023.138129</td>\n",
       "    </tr>\n",
       "    <tr>\n",
       "      <th>min</th>\n",
       "      <td>1.300000</td>\n",
       "      <td>-9.999898</td>\n",
       "      <td>-3.589359</td>\n",
       "      <td>0.006738</td>\n",
       "      <td>0.006738</td>\n",
       "    </tr>\n",
       "    <tr>\n",
       "      <th>25%</th>\n",
       "      <td>1.500000</td>\n",
       "      <td>-6.078329</td>\n",
       "      <td>3.924810</td>\n",
       "      <td>0.668974</td>\n",
       "      <td>1.222631</td>\n",
       "    </tr>\n",
       "    <tr>\n",
       "      <th>50%</th>\n",
       "      <td>1.600000</td>\n",
       "      <td>-4.415430</td>\n",
       "      <td>5.422899</td>\n",
       "      <td>28.986615</td>\n",
       "      <td>23.120127</td>\n",
       "    </tr>\n",
       "    <tr>\n",
       "      <th>75%</th>\n",
       "      <td>1.800000</td>\n",
       "      <td>-3.571977</td>\n",
       "      <td>7.075600</td>\n",
       "      <td>687.226077</td>\n",
       "      <td>548.141060</td>\n",
       "    </tr>\n",
       "    <tr>\n",
       "      <th>max</th>\n",
       "      <td>1.900000</td>\n",
       "      <td>9.979541</td>\n",
       "      <td>9.999620</td>\n",
       "      <td>22026.465795</td>\n",
       "      <td>22026.465795</td>\n",
       "    </tr>\n",
       "  </tbody>\n",
       "</table>\n",
       "</div>"
      ],
      "text/plain": [
       "               reff           dha           dhb            ka            kb\n",
       "count  89947.000000  89947.000000  89947.000000  89947.000000  89947.000000\n",
       "mean       1.625428     -4.699450      5.578787   1346.700616   1143.623425\n",
       "std        0.194369      2.132598      1.985212   3426.693887   3023.138129\n",
       "min        1.300000     -9.999898     -3.589359      0.006738      0.006738\n",
       "25%        1.500000     -6.078329      3.924810      0.668974      1.222631\n",
       "50%        1.600000     -4.415430      5.422899     28.986615     23.120127\n",
       "75%        1.800000     -3.571977      7.075600    687.226077    548.141060\n",
       "max        1.900000      9.979541      9.999620  22026.465795  22026.465795"
      ]
     },
     "execution_count": 27,
     "metadata": {},
     "output_type": "execute_result"
    }
   ],
   "source": [
    "dh = pd.DataFrame({'reff': sol['reff'], 'dha': sol['dha'], 'dhb': sol['dhb'],\\\n",
    "                   'ka': sol['ka0'], 'kb': sol['kb0']})\n",
    "dh.describe()"
   ]
  },
  {
   "cell_type": "code",
   "execution_count": 215,
   "metadata": {},
   "outputs": [
    {
     "name": "stdout",
     "output_type": "stream",
     "text": [
      "24\n"
     ]
    },
    {
     "data": {
      "image/png": "[encoded data removed]",
      "text/plain": [
       "<Figure size 432x288 with 1 Axes>"
      ]
     },
     "metadata": {
      "needs_background": "light"
     },
     "output_type": "display_data"
    }
   ],
   "source": [
    "ll = np.arange(0, 23963, 1000)\n",
    "print(len(ll))\n",
    "\n",
    "plt.plot(xb_2_5mM, q_2_5mM_per_mg)\n",
    "\n",
    "for i in ll:\n",
    "    \n",
    "     plt.plot(running_avg(xb_2_5mM), sol['q_per_mg'][i])"
   ]
  }
 ],
 "metadata": {
  "kernelspec": {
   "display_name": "Python 3",
   "language": "python",
   "name": "python3"
  },
  "language_info": {
   "codemirror_mode": {
    "name": "ipython",
    "version": 3
   },
   "file_extension": ".py",
   "mimetype": "text/x-python",
   "name": "python",
   "nbconvert_exporter": "python",
   "pygments_lexer": "ipython3",
   "version": "3.6.8"
  },
  "varInspector": {
   "cols": {
    "lenName": 16,
    "lenType": 16,
    "lenVar": 40
   },
   "kernels_config": {
    "python": {
     "delete_cmd_postfix": "",
     "delete_cmd_prefix": "del ",
     "library": "var_list.py",
     "varRefreshCmd": "print(var_dic_list())"
    },
    "r": {
     "delete_cmd_postfix": ") ",
     "delete_cmd_prefix": "rm(",
     "library": "var_list.r",
     "varRefreshCmd": "cat(var_dic_list()) "
    }
   },
   "types_to_exclude": [
    "module",
    "function",
    "builtin_function_or_method",
    "instance",
    "_Feature"
   ],
   "window_display": false
  }
 },
 "nbformat": 4,
 "nbformat_minor": 2
}

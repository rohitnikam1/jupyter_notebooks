{
 "cells": [
  {
   "cell_type": "code",
   "execution_count": 3,
   "metadata": {
    "scrolled": false
   },
   "outputs": [],
   "source": [
    "import pandas as pd\n",
    "import matplotlib.pyplot as plt\n",
    "#import matplotlib.ticker as tck\n",
    "#from matplotlib.colors import cnames\n",
    "from matplotlib import colors as mcolors\n",
    "import numpy as np\n",
    "import math\n",
    "\n",
    "#import brewer2mpl\n",
    "#bmap = brewer2mpl.get_map('Set2','qualitative',3,reverse=True)\n",
    "#colors = bmap.mpl_colors\n",
    "#data.plot('name','value',color=colors,kind='bar')\n",
    "\n",
    "df = pd.read_csv(\"Retreat_2018_Feedback.csv\", sep = ',', index_col = None)\n",
    "#df = pd.read_csv(\"Retreat_2018_Feedback_raw_data.csv\", sep = ',', index_col = None)\n",
    "#print(df)"
   ]
  },
  {
   "cell_type": "markdown",
   "metadata": {},
   "source": [
    "# Functions"
   ]
  },
  {
   "cell_type": "code",
   "execution_count": 925,
   "metadata": {},
   "outputs": [],
   "source": [
    "def make_hist(column, name, bar_color):\n",
    "    \n",
    "    #warm grey #turquoise\n",
    "    \n",
    "    df[column].fillna('Did not use', inplace = True)\n",
    "    temp = df[column].value_counts().sort_index()\n",
    "    yint = range(0, math.ceil(max(temp))+1, 5)\n",
    "    hst = temp.plot(kind = 'bar', yticks = yint, fontsize = 12, color = bar_color,\\\n",
    "                    edgecolor='None', rot = 0, zorder = 100)\n",
    "    \n",
    "    hst.yaxis.grid(color = bar_color, linewidth = 0.1, zorder = 0.5)  # grid lines\n",
    "    hst.set_title(name, fontsize = 20)\n",
    "    \n",
    "    l = []\n",
    "    m = list(df[column])\n",
    "    \n",
    "    for entry in m:\n",
    "        if entry != 'Did not use': \n",
    "            l.append(entry)\n",
    "           \n",
    "    nparray = np.array(l)\n",
    "    y = nparray.astype(np.float)\n",
    "    avg = np.around(np.average(y), decimals = 1)\n",
    "    total_count = len(nparray)\n",
    "    hst.tick_params(axis='both', which='major', labelsize=15)\n",
    "    plt.xlabel(\"Average : \"+str(avg)+\"      Total count : \"+str(total_count), labelpad=15, fontsize = 17)\n",
    "    return None\n",
    "\n",
    "\n",
    "\n",
    "def make_str_hist(column, name, xtick_angle, bar_color):\n",
    "    \n",
    "    temp = []\n",
    "    for entry in df[column]:\n",
    "        if pd.isna(entry) == False:\n",
    "            temp.append(entry)\n",
    "        \n",
    "    flag = pd.Series(temp).value_counts().sort_index()\n",
    "    #temp = df[column].value_counts().sort_index()\n",
    "    yint = range(0, math.ceil(max(flag))+1, 5)\n",
    "    hst = flag.plot(kind = 'bar', fontsize = 15, color = bar_color,\\\n",
    "                    edgecolor='None', zorder = 100, rot = xtick_angle, yticks = yint)\n",
    "    #color=(0.2, 0.3, 0.6, 0.6)\n",
    "    hst.yaxis.grid(color = bar_color, linewidth = 0.1, zorder = 0.5)  \n",
    "    hst.set_title(name, fontsize = 20)\n",
    "    total_count = len(df[column])\n",
    "    \n",
    "    return None\n",
    "\n",
    "\n",
    "list_workshops = df['which workshop']\n",
    "    \n",
    "workshops = ['Scientific writing', 'Communication', 'Time management',\\\n",
    "             'Networking and career planning', 'Science Slam']\n",
    "    \n",
    "\n",
    "def workshop_sort(column, figtitle, bar_color):\n",
    "    \n",
    "    temp = []\n",
    "    subplot_number = 1\n",
    "    \n",
    "    fig = plt.figure(num = 3)\n",
    "    plt.subplots_adjust(right = 2.5, top = 2, wspace = 0.5, hspace = 0.5)\n",
    "    \n",
    "    for workshop in workshops:\n",
    "        for index, entry in enumerate(df[column]):\n",
    "            if list_workshops[index] == workshop:\n",
    "                temp.append(entry)\n",
    "        \n",
    "        flag = pd.Series(temp).value_counts().sort_index()\n",
    "        yint = range(0, math.ceil(max(flag))+1, 1)\n",
    "        \n",
    "        plot = fig.add_subplot(2, 3, subplot_number)\n",
    "        \n",
    "        hst = flag.plot(kind = 'bar', yticks = yint, fontsize = 12, color = bar_color,\\\n",
    "                    edgecolor='None', rot = 0, zorder = 100)\n",
    "    \n",
    "        hst.yaxis.grid(color = bar_color, linewidth=0.1, zorder = 0.5)  # grid lines\n",
    "        hst.set_title(workshop, fontsize = 20)\n",
    "        plot.tick_params(axis='both', which='major', labelsize=15)\n",
    "        \n",
    "        nparray = np.array(temp)\n",
    "        y = nparray.astype(np.float)\n",
    "        avg = np.around(np.average(y), decimals = 1)\n",
    "        total_count = len(temp)\n",
    "        #hst.set_xlabel(\"Average : \"+str(avg), fontsize = 20)\n",
    "        plt.xlabel(\"Average : \"+str(avg)+\"      Total count : \"+str(total_count),\\\n",
    "                   labelpad=15, fontsize = 17)\n",
    "        \n",
    "        total_count = len(temp)\n",
    "        temp = []\n",
    "        subplot_number = subplot_number + 1\n",
    "    fig.suptitle(figtitle, x = 1.3, y = 2.4, fontsize = 30 )\n",
    "    plt.show()\n",
    "    #plt.savefig('workshop-useful.png', bbox_inches='tight', dpi=200)\n",
    "    return None\n",
    "\n",
    "\n",
    "def workshop_str_sort(column, figtitle, bar_color):\n",
    "    \n",
    "    temp = []\n",
    "    subplot_number = 1\n",
    "    \n",
    "    fig = plt.figure(num = 3)\n",
    "    plt.subplots_adjust(right = 2.5, top = 2, wspace = 0.5, hspace = 0.5)\n",
    "    \n",
    "    for workshop in workshops:\n",
    "        for index, entry in enumerate(df[column]):\n",
    "            if list_workshops[index] == workshop:\n",
    "                    temp.append(entry)  # it was a string, not an float.\n",
    "           \n",
    "        flag = pd.Series(temp).value_counts().sort_index()\n",
    "        yint = range(0, math.ceil(max(flag))+1, 1)\n",
    "        \n",
    "        plot = fig.add_subplot(2, 3, subplot_number)\n",
    "        \n",
    "        hst = flag.plot(kind = 'bar', fontsize = 12, color = bar_color,\\\n",
    "                    edgecolor='None', rot = 0, zorder = 100, yticks = yint)\n",
    "    \n",
    "        hst.yaxis.grid(color = bar_color, linewidth=0.1, zorder = 0.5)  # grid lines\n",
    "        hst.set_title(workshop, fontsize = 20)\n",
    "        plot.tick_params(axis='both', which='major', labelsize = 15)\n",
    "        \n",
    "        total_count = len(temp)\n",
    "        temp = []\n",
    "        subplot_number = subplot_number + 1\n",
    "    fig.suptitle(figtitle, x = 1.3, y = 2.4, fontsize = 30 )\n",
    "    #plt.show()\n",
    "    plt.savefig('diff-workshop.png',bbox_inches='tight', dpi=200)\n",
    "    return None"
   ]
  },
  {
   "cell_type": "markdown",
   "metadata": {},
   "source": [
    "# Hotel"
   ]
  },
  {
   "cell_type": "code",
   "execution_count": 844,
   "metadata": {},
   "outputs": [
    {
     "data": {
      "text/plain": [
       "\"\\nfig = plt.figure(num = 1)\\n\\nplt.subplots_adjust(right = 2.5, top = 2, wspace = 0.5, hspace = 0.5)\\nfig.suptitle('Venue and Transportation', x = 1.3 , y = 2.4, fontsize=30 ) \\n\\nfig = plt.subplot(231)\\nmake_hist('hotel overall','Hotel Overall')\\n\\nplt.subplot(232)\\nmake_hist('rooms','Rooms')\\n\\nplt.subplot(233)\\nmake_hist('food','Food')\\n\\nplt.subplot(234)\\nmake_hist('spa','Spa Area')\\n\\nplt.subplot(235)\\nmake_hist('bus','Bus Transfer')\\n\\nplt.show()\\n#plt.savefig('hotel.png',bbox_inches='tight',dpi=200)\\n\""
      ]
     },
     "execution_count": 844,
     "metadata": {},
     "output_type": "execute_result"
    }
   ],
   "source": [
    "'''\n",
    "fig = plt.figure(num = 1)\n",
    "\n",
    "plt.subplots_adjust(right = 2.5, top = 2, wspace = 0.5, hspace = 0.5)\n",
    "fig.suptitle('Venue and Transportation', x = 1.3 , y = 2.4, fontsize=30 ) \n",
    "\n",
    "fig = plt.subplot(231)\n",
    "make_hist('hotel overall','Hotel Overall')\n",
    "\n",
    "plt.subplot(232)\n",
    "make_hist('rooms','Rooms')\n",
    "\n",
    "plt.subplot(233)\n",
    "make_hist('food','Food')\n",
    "\n",
    "plt.subplot(234)\n",
    "make_hist('spa','Spa Area')\n",
    "\n",
    "plt.subplot(235)\n",
    "make_hist('bus','Bus Transfer')\n",
    "\n",
    "plt.show()\n",
    "#plt.savefig('hotel.png',bbox_inches='tight',dpi=200)\n",
    "'''"
   ]
  },
  {
   "cell_type": "markdown",
   "metadata": {},
   "source": [
    "# First Day"
   ]
  },
  {
   "cell_type": "code",
   "execution_count": 843,
   "metadata": {
    "scrolled": false
   },
   "outputs": [
    {
     "data": {
      "text/plain": [
       "\"\\nfig = plt.figure(num = 2)\\nplt.subplots_adjust(right = 2.5, top = 2, wspace = 0.5, hspace = 0.5)\\nfig.suptitle('First day', x = 1.3 , y = 2.4, fontsize = 30 )\\n\\nplt.subplot(231)\\nmake_hist('ice breaker','Ice Breaker Event')\\n\\nplt.subplot(232)\\nmake_hist('social event hike','Social Event (Hike)')\\n\\nplt.subplot(233)\\nmake_hist('postdocs','Talks by Postdoctoral Researchers')\\n\\nplt.subplot(234)\\nmake_hist('phd coordinator','Talk by PhD Coordinator')\\n\\nplt.subplot(235)\\nmake_hist('discussion administration','Discussion with Geschäftsführung')\\n\\nplt.show()\\n#plt.savefig('day1.png',bbox_inches='tight',dpi=200)\\n\""
      ]
     },
     "execution_count": 843,
     "metadata": {},
     "output_type": "execute_result"
    }
   ],
   "source": [
    "'''\n",
    "fig = plt.figure(num = 2)\n",
    "plt.subplots_adjust(right = 2.5, top = 2, wspace = 0.5, hspace = 0.5)\n",
    "fig.suptitle('First day', x = 1.3 , y = 2.4, fontsize = 30 )\n",
    "\n",
    "plt.subplot(231)\n",
    "make_hist('ice breaker','Ice Breaker Event')\n",
    "\n",
    "plt.subplot(232)\n",
    "make_hist('social event hike','Social Event (Hike)')\n",
    "\n",
    "plt.subplot(233)\n",
    "make_hist('postdocs','Talks by Postdoctoral Researchers')\n",
    "\n",
    "plt.subplot(234)\n",
    "make_hist('phd coordinator','Talk by PhD Coordinator')\n",
    "\n",
    "plt.subplot(235)\n",
    "make_hist('discussion administration','Discussion with Geschäftsführung')\n",
    "\n",
    "plt.show()\n",
    "#plt.savefig('day1.png',bbox_inches='tight',dpi=200)\n",
    "'''"
   ]
  },
  {
   "cell_type": "markdown",
   "metadata": {},
   "source": [
    "# Workshops"
   ]
  },
  {
   "cell_type": "code",
   "execution_count": 913,
   "metadata": {
    "scrolled": false
   },
   "outputs": [
    {
     "data": {
      "text/plain": [
       "\"\\nfig = plt.figure(num = 3)\\n\\nplt.subplots_adjust(right = 2.5, top = 2, wspace = 0.5, hspace = 0.5)\\nfig.suptitle('First day', x = 1.3, y = 2.4, fontsize = 30 )\\n\\nplt.subplot(231)\\nmake_str_hist('workshop useful','Was the workshop useful?', 0, 'xkcd:tan')\\n\\nplt.subplot(232)\\nmake_str_hist('fulfill expectations','Did it fulfill your expectations?', 0, 'xkcd:tan')\\n\\nplt.subplot(233)\\nmake_str_hist('enough info beforehand','Did you get enough information beforehand?', 0, 'xkcd:tan')\\n\\nplt.subplot(234)\\nmake_str_hist('liked to participate in different workshop','Would you have liked to participate in a different workshop?', 0, 'xkcd:tan')\\n\\nplt.subplot(235)\\nmake_str_hist('which kind','If yes, which kind?', 0, 'xkcd:tan')\\n\\nplt.show()\\n#plt.savefig('workshops-feedback.png',bbox_inches='tight',dpi=200)\\n\""
      ]
     },
     "execution_count": 913,
     "metadata": {},
     "output_type": "execute_result"
    }
   ],
   "source": [
    "#make_str_hist('which kind', 'If yes, which kind?', 50, 'xkcd:light eggplant')\n",
    "#plt.show()\n",
    "#plt.savefig('if_yes_which_kind_workshop.png',bbox_inches='tight',dpi=200)\n",
    "\n",
    "'''\n",
    "fig = plt.figure(num = 3)\n",
    "\n",
    "plt.subplots_adjust(right = 2.5, top = 2, wspace = 0.5, hspace = 0.5)\n",
    "fig.suptitle('First day', x = 1.3, y = 2.4, fontsize = 30 )\n",
    "\n",
    "plt.subplot(231)\n",
    "make_str_hist('workshop useful','Was the workshop useful?', 0, 'xkcd:tan')\n",
    "\n",
    "plt.subplot(232)\n",
    "make_str_hist('fulfill expectations','Did it fulfill your expectations?', 0, 'xkcd:tan')\n",
    "\n",
    "plt.subplot(233)\n",
    "make_str_hist('enough info beforehand','Did you get enough information beforehand?', 0, 'xkcd:tan')\n",
    "\n",
    "plt.subplot(234)\n",
    "make_str_hist('liked to participate in different workshop','Would you have liked to participate in a different workshop?', 0, 'xkcd:tan')\n",
    "\n",
    "plt.subplot(235)\n",
    "make_str_hist('which kind','If yes, which kind?', 0, 'xkcd:tan')\n",
    "\n",
    "plt.show()\n",
    "#plt.savefig('workshops-feedback.png',bbox_inches='tight',dpi=200)\n",
    "'''\n",
    "#workshop_sort('workshop overall', 'Workshops overall', 'xkcd:light green')\n",
    "#workshop_sort('speaker', 'Speakers', 'xkcd:mauve')\n",
    "#workshop_sort('topic rating', 'Topic itself', 'xkcd:peach')\n",
    "#workshop_str_sort('workshop useful','Was the workshop useful?', 'xkcd:sky')\n",
    "#workshop_str_sort('fulfill expectations', 'Did it fulfill your expectations?', 'xkcd:tan')\n",
    "#workshop_str_sort('enough info beforehand','Did you get enough information beforehand?', 'xkcd:jungle green')\n",
    "#workshop_str_sort('liked to participate in different workshop',\\\n",
    "                  #'Would you have liked to participate in a different workshop?', 'xkcd:bordeaux')\n"
   ]
  },
  {
   "cell_type": "markdown",
   "metadata": {},
   "source": [
    "# Organization"
   ]
  },
  {
   "cell_type": "code",
   "execution_count": 927,
   "metadata": {
    "scrolled": false
   },
   "outputs": [
    {
     "data": {
      "image/png": "[encoded data removed]",
      "text/plain": [
       "<Figure size 432x288 with 4 Axes>"
      ]
     },
     "metadata": {
      "needs_background": "light"
     },
     "output_type": "display_data"
    }
   ],
   "source": [
    "fig = plt.figure()\n",
    "plt.subplots_adjust(right = 2.3, top = 2.5, wspace = 0.3, hspace = .5)\n",
    "fig.suptitle('Organization', x = 1.2, y = 2.75, fontsize = 30 )\n",
    "color = 'xkcd:prussian blue'\n",
    "\n",
    "plt.subplot(221)\n",
    "make_hist('retreat overall','Retreat Overall', color)\n",
    "\n",
    "plt.subplot(222)\n",
    "make_hist('organisational team','Organizational Team', color)\n",
    "\n",
    "plt.subplot(223)\n",
    "make_str_hist('like long lunch break','Did you like the long lunch breaks?', 0, color)\n",
    "\n",
    "plt.subplot(224)\n",
    "make_str_hist('preferred more time in the evening','Would you have preferred more time in the evening?', 0, color)\n",
    "\n",
    "plt.show()\n",
    "#plt.savefig('orga.png', bbox_inches='tight', dpi=200)"
   ]
  },
  {
   "cell_type": "code",
   "execution_count": null,
   "metadata": {},
   "outputs": [],
   "source": []
  }
 ],
 "metadata": {
  "kernelspec": {
   "display_name": "Python 3",
   "language": "python",
   "name": "python3"
  },
  "language_info": {
   "codemirror_mode": {
    "name": "ipython",
    "version": 3
   },
   "file_extension": ".py",
   "mimetype": "text/x-python",
   "name": "python",
   "nbconvert_exporter": "python",
   "pygments_lexer": "ipython3",
   "version": "3.6.6"
  }
 },
 "nbformat": 4,
 "nbformat_minor": 2
}

{
 "cells": [
  {
   "cell_type": "code",
   "execution_count": 1,
   "metadata": {},
   "outputs": [],
   "source": [
    "import numpy as np\n",
    "from scipy.optimize import fsolve\n",
    "import scipy.integrate as integrate \n",
    "import matplotlib.pyplot as plt"
   ]
  },
  {
   "cell_type": "code",
   "execution_count": 5,
   "metadata": {},
   "outputs": [
    {
     "data": {
      "text/plain": [
       "'\\n# total conc #ca_conc, na_conc, cl_conc, reff\\nM = [[0.0000000, 0.09504246, 0.07051537, 1.78],     [0.0081797918, 0.09509007995, 0.08691028813, 1.93],     [0.016392099, 0.09527907548, 0.103475124989, 1.93],     [0.0276378823240, 0.09519715022, 0.12590590836, 1.95]]\\n'"
      ]
     },
     "execution_count": 5,
     "metadata": {},
     "output_type": "execute_result"
    }
   ],
   "source": [
    "dpgs_charge = -24\n",
    "ca_charge   =   2\n",
    "na_charge   =   1\n",
    "cl_charge   =  -1\n",
    "rd = 1.3778963802321125\n",
    "vd = 4*np.pi/3*rd**3 #6.24\n",
    "\n",
    "sigma_ca = 0.263 # 0.253760 ca\n",
    "sigma_na = 0.258\n",
    "sigma_cl = 0.440104\n",
    "\n",
    "vol_ca = np.pi/6*sigma_ca**3\n",
    "vol_na = np.pi/6*sigma_na**3\n",
    "vol_cl = np.pi/6*sigma_cl**3\n",
    "\n",
    "systems = {}\n",
    "systems[\"nacl-100mM\"] = [0.0000000, 0.0595398, 0.0537438, 1.78]\n",
    "systems[\"nacl-150mM\"] = [0.0000000, 0.0794375, 0.0745260, 1.78]\n",
    "systems[\"netz-07mM\"]  = [0.0042627, 0.0848139, 0.0923875, 1.93] \n",
    "#[0.0047453, 0.0904122, 0.0965279] \n",
    "systems[\"netz-20mM\"]  = [0.0119045, 0.0853042, 0.1084460, 1.93] \n",
    "#[0.0125307, 0.0843833, 0.108683]# \n",
    "systems[\"netz-33mM\"]  = [0.0208943, 0.0888704, 0.1300010, 1.95]\n",
    "#systems[\"netz-17mM\"]  = [0.0104131, 0.0746450, 0.0943733]\n",
    "#systems[\"netz-18mM\"]  = [0.0108298, 0.0869196, 0.106701]\n",
    "\n",
    "\n",
    "#free bulk conc #ca_conc, na_conc, cl_conc, reff\n",
    "M = [(0.0000000, 0.0595398, 0.0537438, 1.78),\\\n",
    "     (0.0000000, 0.0794375, 0.0745260, 1.78),\\\n",
    "     (0.0042627, 0.0848139, 0.0923875, 1.93),\\\n",
    "     (0.0119045, 0.0853042, 0.1084460, 1.93),\\\n",
    "     (0.0208943, 0.0888704, 0.1300010, 1.95)]\n",
    "'''\n",
    "# total conc #ca_conc, na_conc, cl_conc, reff\n",
    "M = [[0.0000000, 0.09504246, 0.07051537, 1.78],\\\n",
    "     [0.0081797918, 0.09509007995, 0.08691028813, 1.93],\\\n",
    "     [0.016392099, 0.09527907548, 0.103475124989, 1.93],\\\n",
    "     [0.0276378823240, 0.09519715022, 0.12590590836, 1.95]]\n",
    "'''"
   ]
  },
  {
   "cell_type": "code",
   "execution_count": 6,
   "metadata": {
    "scrolled": false
   },
   "outputs": [
    {
     "name": "stdout",
     "output_type": "stream",
     "text": [
      "[{'mM': 0.0}, {'nmg': -0.0}, {'nna': 24.01855}, {'ratio': -0.0}, {'Dphi': -3.60195}, {'ncl': 0.01855}, {'beta_mu_mg': -0.0}, {'beta_mu_na': 0.1409}, {'beta_mu_cl': 0.00052}, {'eta_mg': -0.0}, {'eta_na': 0.01705}, {'eta_cl': 7e-05}] \n",
      "\n",
      "[{'mM': 0.0}, {'nmg': 0.0}, {'nna': 24.03428}, {'ratio': 0.0}, {'Dphi': -3.31438}, {'ncl': 0.03428}, {'beta_mu_mg': 0.0}, {'beta_mu_na': 0.141}, {'beta_mu_cl': 0.00097}, {'eta_mg': 0.0}, {'eta_na': 0.01706}, {'eta_cl': 0.00012}] \n",
      "\n",
      "[{'mM': 7.07855}, {'nmg': 5.61841}, {'nna': 12.97332}, {'ratio': 0.43307}, {'Dphi': -2.1269}, {'ncl': 0.21014}, {'beta_mu_mg': 0.02247}, {'beta_mu_na': 0.04928}, {'beta_mu_cl': 0.00392}, {'eta_mg': 0.00279}, {'eta_na': 0.00609}, {'eta_cl': 0.00049}] \n",
      "\n",
      "[{'mM': 19.76835}, {'nmg': 7.56335}, {'nna': 9.22625}, {'ratio': 0.81976}, {'Dphi': -1.76594}, {'ncl': 0.35294}, {'beta_mu_mg': 0.0303}, {'beta_mu_na': 0.03493}, {'beta_mu_cl': 0.00659}, {'eta_mg': 0.00376}, {'eta_na': 0.00433}, {'eta_cl': 0.00082}] \n",
      "\n",
      "[{'mM': 34.69661}, {'nmg': 8.35155}, {'nna': 7.86781}, {'ratio': 1.06148}, {'Dphi': -1.51092}, {'ncl': 0.57091}, {'beta_mu_mg': 0.0319}, {'beta_mu_na': 0.02834}, {'beta_mu_cl': 0.01017}, {'eta_mg': 0.00396}, {'eta_na': 0.00352}, {'eta_cl': 0.00127}] \n",
      "\n"
     ]
    }
   ],
   "source": [
    "def beta_mu(y, x):\n",
    "    return np.log(y) + (8*x - 9*x**2 + 3*x**3)*(1 - x)**(-3)\n",
    "\n",
    "def donnan_three(var, *data):\n",
    "    ca_conc, na_conc, cl_conc, reff = data\n",
    "    \n",
    "#var[0] = N_ca    ==> Number of Ca2+ ions inside the donnan volume\n",
    "#var[1] = N_na    ==> Number of Na+ ions inside the donnan volume\n",
    "#var[2] = N_cl    ==> Number of Cl- ions inside the donnan volume\n",
    "#var[3] = z_ca    ==> exp(-beta*mu_ca)\n",
    "#var[4] = z_na    ==> exp(-beta*mu_na)\n",
    "#var[5] = z_cl    ==> exp(-beta*mu_cl)\n",
    "#var[6] = y       ==> exp(-e*beta*phi)\n",
    "#var[7] = eta_ca  ==> packing fraction Ca2+ \n",
    "#var[8] = eta_na  ==> packing fraction Na+\n",
    "#var[9] = eta_cl  ==> packing fraction Cl-\n",
    "    \n",
    "    veff = 4*np.pi/3*reff**3\n",
    "    vb = veff - vd\n",
    "    \n",
    "    f_ca = vol_ca / vb\n",
    "    f_na = vol_na / vb\n",
    "    f_cl = vol_cl / vb\n",
    "    \n",
    "    g_ca = ca_conc * vb\n",
    "    g_na = na_conc * vb\n",
    "    g_cl = cl_conc * vb\n",
    "    \n",
    "    F = np.zeros(10)\n",
    "    \n",
    "    F[0] = var[0] - g_ca * var[3] * var[6]**2\n",
    "    F[1] = var[1] - g_na * var[4] * var[6]\n",
    "    F[2] = var[2] - g_cl * var[5] / var[6]\n",
    "    F[3] = 2*var[0] + var[1] - var[2] + dpgs_charge\n",
    "    F[4] = beta_mu(var[3], var[7])\n",
    "    F[5] = beta_mu(var[4], var[8])\n",
    "    F[6] = beta_mu(var[5], var[9])\n",
    "    F[7] = var[7] - f_ca * var[0]\n",
    "    F[8] = var[8] - f_na * var[1]\n",
    "    F[9] = var[9] - f_cl * var[2]\n",
    "    \n",
    "    return F\n",
    "\n",
    "#K = [[0.00306583, 0.11139169, 0.09299967, 2.7],\n",
    "#     [0.00919567, 0.09910884, 0.09297839, 2.7],\n",
    "#     [0.01226006, 0.09297212, 0.09297212, 2.7],\n",
    "#     [0.01838639, 0.08069582, 0.09295342, 2.7]]\n",
    "\n",
    "#List all values\n",
    "\n",
    "#print(\"%2s %2s %7s %9s %9s %7s %7s %7s %5s %10s %7s %7s\" %\\\n",
    "      #('mM', ' nmg', 'nna', 'ratio', 'phi',\\\n",
    "       #'ncl', ' zmg', ' zna', ' zcl', ' eta_mg', ' eta_na', ' eta_cl'))\n",
    "\n",
    "guess = np.array([2, 10, 0, 0.9, 0.9, 0.9, 5, 0.1, 0.1, 0.1], dtype = np.float)\n",
    "sol = []\n",
    "\n",
    "for i in range(len(M)):\n",
    "    x = fsolve(donnan_three, guess, args = M[i])\n",
    "\n",
    "    sol.append([{'mM': np.round(M[i][0]/0.6022*1000, 5)},\\\n",
    "                {'nmg': np.round(x[0], 5)},\\\n",
    "                {'nna': np.round(x[1], 5)},\\\n",
    "                {'ratio': np.round(x[0]/x[1], 5)},\\\n",
    "                {'Dphi': np.round(-np.log(x[6]), 5)},\\\n",
    "                {'ncl': np.round(x[2], 5)},\\\n",
    "                {'beta_mu_mg': np.round(-np.log(x[3]), 5)},\\\n",
    "                {'beta_mu_na': np.round(-np.log(x[4]), 5)},\\\n",
    "                {'beta_mu_cl': np.round(-np.log(x[5]), 5)},\\\n",
    "                {'eta_mg': np.round(x[7], 5)},\\\n",
    "                {'eta_na': np.round(x[8], 5)},\n",
    "                {'eta_cl': np.round(x[9], 5)} ])\n",
    "    #print(\"%3.2f %7.3f %7.3f %8.2f %8.2f %7.3f %7.3f %7.3f %7.3f %7.3f %7.3f %7.3f\" %\\\n",
    "          #(M[i][0]/0.6022*1000, x[0], x[1], x[0]/x[1], -np.log(x[6]), x[2], x[3],\\\n",
    "           #x[4], x[5], x[7], x[8], x[9] ))\n",
    "for item in sol:\n",
    "    print(item, '\\n')"
   ]
  },
  {
   "cell_type": "markdown",
   "metadata": {},
   "source": [
    "## Check for the number of real roots"
   ]
  },
  {
   "cell_type": "code",
   "execution_count": 184,
   "metadata": {},
   "outputs": [],
   "source": [
    "def delta(coeffs):\n",
    "    \n",
    "    a, b, c, d = 2*coeffs[0], coeffs[1], -coeffs[2], -coeffs[3]\n",
    "    \n",
    "    y = 18*a*b*c*d - 4*(b**3)*d + (b**2)*(c**2) - 4*a*(c**3) - 27*(a**2)*(d**2)\n",
    "    \n",
    "    if y == 0:\n",
    "        print('All roots are real and multiple roots')\n",
    "    elif y > 0:\n",
    "        print('Three distinct real roots')\n",
    "    else:\n",
    "        print('One real and two complex roots')"
   ]
  },
  {
   "cell_type": "code",
   "execution_count": 189,
   "metadata": {},
   "outputs": [
    {
     "name": "stdout",
     "output_type": "stream",
     "text": [
      "Three distinct real roots\n"
     ]
    }
   ],
   "source": [
    "Ns = 24\n",
    "cs = Ns/veff\n",
    "\n",
    "J = [(0.0000000, 0.0595398, cs, 0.0537438),\\\n",
    "     (0.0000000, 0.0794375, cs, 0.0745260),\\\n",
    "     (0.0042627, 0.0848139, cs, 0.0923875),\\\n",
    "     (0.0119045, 0.0853042, cs, 0.1084460),\\\n",
    "     (0.0208943, 0.0888704, cs, 0.1300010)]\n",
    "\n",
    "delta(J[0])"
   ]
  },
  {
   "cell_type": "code",
   "execution_count": 57,
   "metadata": {},
   "outputs": [
    {
     "data": {
      "text/plain": [
       "1.680357798458171"
      ]
     },
     "execution_count": 57,
     "metadata": {},
     "output_type": "execute_result"
    }
   ],
   "source": [
    "(8*np.pi*0.78*.030*0.6022)**-.5"
   ]
  },
  {
   "cell_type": "code",
   "execution_count": 142,
   "metadata": {
    "scrolled": true
   },
   "outputs": [
    {
     "name": "stdout",
     "output_type": "stream",
     "text": [
      "Ca2+(mM)  N_Ca    N_Na  N_Ca/N_na     phi_D    N_Cl\n",
      "  0.000   0.000  -0.040    -0.000       nan  24.040\n",
      "  0.000   0.000  -0.074    -0.000       nan  24.074\n",
      "  7.076  10.071  14.243     0.707    -1.951  -0.314\n",
      " 19.761  14.301  10.215     1.400    -1.613  -0.516\n",
      " 34.685  16.122   8.696     1.854    -1.372  -0.818\n"
     ]
    },
    {
     "name": "stderr",
     "output_type": "stream",
     "text": [
      "/home/rohit/anaconda3/lib/python3.6/site-packages/ipykernel_launcher.py:29: RuntimeWarning: invalid value encountered in log\n"
     ]
    }
   ],
   "source": [
    "def donnan_one(y, *data):\n",
    "    \n",
    "    # data = [ca_conc na_conc cl_conc reff]\n",
    "    # y = exp(-e*beta*phi)\n",
    "    \n",
    "    ca_conc, na_conc, cl_conc, reff = data\n",
    "    \n",
    "    veff = 4*np.pi/3*reff**3\n",
    "    vb = veff - vd\n",
    "    \n",
    "    c_three = ca_charge * ca_conc * vb\n",
    "    c_two   = na_charge * na_conc * vb\n",
    "    c_one   = dpgs_charge\n",
    "    c_zero  = cl_charge * cl_conc * vb\n",
    "    \n",
    "    return c_three*y**3 + c_two*y**2 + c_one*y + c_zero\n",
    "\n",
    "\n",
    "def out_donnan(y, *data):\n",
    "    ca_conc, na_conc, cl_conc, reff = data\n",
    "    \n",
    "    veff = 4*np.pi/3*reff**3\n",
    "    vb = veff - vd\n",
    "    \n",
    "    ca_bound = ca_charge*ca_conc*vb*y**2\n",
    "    na_bound = na_charge*na_conc*vb*y\n",
    "    cl_bound = cl_charge*cl_conc*vb/y \n",
    "    \n",
    "    return [ca_bound, na_bound, ca_bound/na_bound, -np.log(y), cl_bound]\n",
    "\n",
    "print(\"%5s %5s %7s %9s %9s %7s\" % ('Ca2+(mM)', ' N_Ca', ' N_Na', ' N_Ca/N_na',\\\n",
    "                                   ' phi_D', ' N_Cl'))\n",
    "'''\n",
    "K = [[0.00306583, 0.11139169, 0.092999673, 2.7],\n",
    "     [0.00919567, 0.09910884, 0.09297839, 2.7],\n",
    "     [0.01226006, 0.09297212, 0.09297212, 2.7],\n",
    "     [0.01838639, 0.08069582, 0.09295342, 2.7]]\n",
    "'''\n",
    "for i in range(len(M)):\n",
    "    y = fsolve(donnan_one, 6, args = M[i])\n",
    "    out = out_donnan(y, *M[i])\n",
    "    print(\"%7.3f %7.3f %7.3f %9.3f %9.3f %7.3f\" %\\\n",
    "          (M[i][0]*1.66*1000, out[0], out[1], out[0]/out[1], out[3], out[4] ))"
   ]
  },
  {
   "cell_type": "code",
   "execution_count": 31,
   "metadata": {},
   "outputs": [
    {
     "name": "stdout",
     "output_type": "stream",
     "text": [
      "9.998161811351022 -8.504641660274853 1.4935201510761686 -7.523706120930346\n"
     ]
    }
   ],
   "source": [
    "#a = np.log(131.774*122.37/8.6452/0.151843) \n",
    "c0_na = 98.327 # mM\n",
    "c0_cl = 89.553 # mM\n",
    "reff = 1.78 # nm\n",
    "veff = 4*np.pi/3*reff**3\n",
    "v0   = 1.66  # nm3 std vol\n",
    "cb_na = 8.28\n",
    "cb_cl = 0.04837\n",
    "\n",
    "a = np.log(c0_na*c0_cl/cb_na/cb_cl) \n",
    "b = 2*np.log(veff/v0/1000)\n",
    "\n",
    "phiD = -np.log(c0_cl/cb_cl)\n",
    "\n",
    "print(a, b, a+b, phiD)"
   ]
  },
  {
   "cell_type": "code",
   "execution_count": 33,
   "metadata": {},
   "outputs": [
    {
     "name": "stdout",
     "output_type": "stream",
     "text": [
      "9.416041509065657 -8.504641660274853 0.9113998487908042 -6.691957428673655\n"
     ]
    }
   ],
   "source": [
    "c0_na = 131.774 # mM\n",
    "c0_cl = 122.37 # mM\n",
    "reff = 1.78 # nm\n",
    "veff = 4*np.pi/3*reff**3\n",
    "v0   = 1.66  # nm3 std vol\n",
    "cb_na = 8.6452\n",
    "cb_cl = 0.151843\n",
    "\n",
    "a = np.log(c0_na*c0_cl/cb_na/cb_cl) \n",
    "b = 2*np.log(veff/v0/1000)\n",
    "\n",
    "phiD = -np.log(c0_cl/cb_cl)\n",
    "\n",
    "print(a, b, a+b, phiD)"
   ]
  },
  {
   "cell_type": "markdown",
   "metadata": {},
   "source": [
    "## dPGS packing fraction"
   ]
  },
  {
   "cell_type": "code",
   "execution_count": 50,
   "metadata": {},
   "outputs": [],
   "source": [
    "def parse_data(data_file):\n",
    "\n",
    "    with open(data_file) as file:\n",
    "        \n",
    "        lines = file.readlines()\n",
    "\n",
    "    a = ([line.strip().split() for line in lines])\n",
    "\n",
    "# turn array strings into numbers\n",
    "    \n",
    "    b = np.array(a)\n",
    "    u = b.astype(np.float)\n",
    "\n",
    "    r = u[:,0] # radial distance\n",
    "    c = u[:,1] # charge density\n",
    "\n",
    "    #return np.vstack((r, c))\n",
    "    return r, c"
   ]
  },
  {
   "cell_type": "code",
   "execution_count": 99,
   "metadata": {},
   "outputs": [],
   "source": [
    "input_files  = {}\n",
    "sigma = {}\n",
    "\n",
    "common_path  = '/home/rohit/magnesium/'\n",
    "netz_67mM    = common_path + 'mg-netz/mg-67mM/'\n",
    "mghexa_50mM  = common_path + 'mghexa-50mM/'\n",
    "kbi_50mM     = common_path + 'kbi-50mM/'\n",
    "\n",
    "sigma['netz'] = {}\n",
    "sigma['netz']['s'] = 0.355\n",
    "sigma['netz']['c'] = 0.339967\n",
    "sigma['netz']['cs'] = 0.339967\n",
    "sigma['netz']['o'] = 0.391600\n",
    "sigma['netz']['ob'] = 0.391600\n",
    "sigma['netz']['os'] = 0.300\n",
    "sigma['netz']['h1'] = 0.247135\n",
    "sigma['netz']['hc'] = 0.264953\n",
    "\n",
    "def input_(name, address):\n",
    "    \n",
    "    global input_files\n",
    "    \n",
    "    input_files[name]   = {}\n",
    "    input_files[name]['s']   = address + 's.nonorm.xvg'\n",
    "    input_files[name]['o']   = address + 'o.nonorm.xvg'\n",
    "    input_files[name]['ob']  = address + 'ob.nonorm.xvg'\n",
    "    input_files[name]['os']  = address + 'os.nonorm.xvg'\n",
    "    input_files[name]['c']   = address + 'c.nonorm.xvg'\n",
    "    input_files[name]['cs']  = address + 'cs.nonorm.xvg'\n",
    "    input_files[name]['h1']  = address + 'h1.nonorm.xvg'\n",
    "    input_files[name]['hc']  = address + 'hc.nonorm.xvg'\n",
    "\n",
    "input_('netz_67mM', netz_67mM)\n",
    "input_('mghexa_50mM', mghexa_50mM)\n",
    "input_('kbi_50mM', kbi_50mM)"
   ]
  },
  {
   "cell_type": "code",
   "execution_count": 112,
   "metadata": {
    "scrolled": false
   },
   "outputs": [],
   "source": [
    "def cumu(nonorm_file, sigma):\n",
    "    \n",
    "    r, y  = parse_data(nonorm_file)\n",
    "    dr = r[1] - r[0]\n",
    "    cumulative_array = []\n",
    "    \n",
    "    for i in range(1, len(r)):\n",
    "        cumulative_array.append(integrate.trapz(y[0:i], r[0:i], dx = dr))\n",
    "        \n",
    "    volume_array = [ N*np.pi/6*sigma**3 for N in cumulative_array ]\n",
    "    \n",
    "    b = np.array(volume_array)\n",
    "    u = b.astype(np.float)\n",
    "    \n",
    "    return u"
   ]
  },
  {
   "cell_type": "code",
   "execution_count": 138,
   "metadata": {
    "scrolled": false
   },
   "outputs": [
    {
     "data": {
      "text/plain": [
       "[<matplotlib.lines.Line2D at 0x7fc6640cc588>]"
      ]
     },
     "execution_count": 138,
     "metadata": {},
     "output_type": "execute_result"
    },
    {
     "data": {
      "image/png": "[encoded data removed]",
      "text/plain": [
       "<Figure size 432x288 with 1 Axes>"
      ]
     },
     "metadata": {
      "needs_background": "light"
     },
     "output_type": "display_data"
    }
   ],
   "source": [
    "vol_s  = cumu(input_files['netz_67mM']['s'], sigma['netz']['s'])\n",
    "vol_o  = cumu(input_files['netz_67mM']['o'], sigma['netz']['o'])\n",
    "vol_os = cumu(input_files['netz_67mM']['os'], sigma['netz']['os'])\n",
    "vol_ob = cumu(input_files['netz_67mM']['ob'], sigma['netz']['ob'])\n",
    "vol_c  = cumu(input_files['netz_67mM']['c'], sigma['netz']['c'])\n",
    "vol_cs = cumu(input_files['netz_67mM']['cs'], sigma['netz']['cs'])\n",
    "vol_h1 = cumu(input_files['netz_67mM']['h1'], sigma['netz']['h1'])\n",
    "vol_hc = cumu(input_files['netz_67mM']['hc'], sigma['netz']['hc'])\n",
    "\n",
    "vol = vol_s + vol_o + vol_os + vol_ob + vol_c + vol_cs + vol_h1 + vol_hc\n",
    "\n",
    "plt.plot(r[1:], vol)\n",
    "#for i in range(len(vol)):\n",
    "    #print(r[i], '\\t', vol[i])"
   ]
  },
  {
   "cell_type": "code",
   "execution_count": null,
   "metadata": {},
   "outputs": [],
   "source": []
  }
 ],
 "metadata": {
  "kernelspec": {
   "display_name": "Python 3",
   "language": "python",
   "name": "python3"
  },
  "language_info": {
   "codemirror_mode": {
    "name": "ipython",
    "version": 3
   },
   "file_extension": ".py",
   "mimetype": "text/x-python",
   "name": "python",
   "nbconvert_exporter": "python",
   "pygments_lexer": "ipython3",
   "version": "3.6.6"
  }
 },
 "nbformat": 4,
 "nbformat_minor": 2
}
